{
 "cells": [
  {
   "cell_type": "markdown",
   "metadata": {},
   "source": [
    "## Acquire process:"
   ]
  },
  {
   "cell_type": "code",
   "execution_count": 1,
   "metadata": {},
   "outputs": [],
   "source": [
    "import pandas as pd\n",
    "import numpy as np\n",
    "import os\n",
    "import matplotlib.pyplot as plt\n",
    "\n",
    "\n",
    "# acquire\n",
    "from env import host, user, password\n",
    "from pydataset import data"
   ]
  },
  {
   "cell_type": "code",
   "execution_count": 2,
   "metadata": {},
   "outputs": [],
   "source": [
    "# Create helper function to get the necessary connection url.\n",
    "\n",
    "def get_connection(db_name):\n",
    "    '''\n",
    "    This function uses my info from my env file to\n",
    "    create a connection url to access the Codeup db.\n",
    "    '''\n",
    "    from env import host, user, password\n",
    "    return f'mysql+pymysql://{user}:{password}@{host}/{db_name}'\n"
   ]
  },
  {
   "cell_type": "code",
   "execution_count": 3,
   "metadata": {},
   "outputs": [],
   "source": [
    "def get_telco_churn_data():\n",
    "    '''\n",
    "    This function reads in the iris data from the Codeup db\n",
    "    and returns a pandas DataFrame with all columns.\n",
    "    '''\n",
    "    \n",
    "    sql_query = '''\n",
    "    SELECT *\n",
    "    FROM customers\n",
    "    JOIN contract_types ON customers.contract_type_id = contract_types.contract_type_id\n",
    "    JOIN payment_types ON customers.payment_type_id = payment_types.payment_type_id\n",
    "    JOIN internet_service_types ON customers.internet_service_type_id = internet_service_types.internet_service_type_id\n",
    "    '''\n",
    "    return pd.read_sql(sql_query, get_connection('telco_churn'))"
   ]
  },
  {
   "cell_type": "markdown",
   "metadata": {},
   "source": [
    "_________"
   ]
  },
  {
   "cell_type": "markdown",
   "metadata": {},
   "source": [
    "## Explore the data"
   ]
  },
  {
   "cell_type": "code",
   "execution_count": 4,
   "metadata": {},
   "outputs": [],
   "source": [
    "#rename data to 'telco'\n",
    "telco = get_telco_churn_data()"
   ]
  },
  {
   "cell_type": "code",
   "execution_count": null,
   "metadata": {},
   "outputs": [],
   "source": [
    "#look at data\n",
    "telco.head()"
   ]
  },
  {
   "cell_type": "code",
   "execution_count": null,
   "metadata": {},
   "outputs": [],
   "source": [
    "#this data appears to have no nulls\n",
    "#data has int and object data types\n",
    "telco.info()"
   ]
  },
  {
   "cell_type": "markdown",
   "metadata": {},
   "source": [
    "### data summary:\n",
    "- 18 object data types\n",
    "- 8 integer data types\n",
    "- 1 float data type\n",
    "- 0 null values\n"
   ]
  },
  {
   "cell_type": "code",
   "execution_count": null,
   "metadata": {},
   "outputs": [],
   "source": [
    "#descriptive statistics\n",
    "telco.describe()"
   ]
  },
  {
   "cell_type": "markdown",
   "metadata": {},
   "source": [
    "_______"
   ]
  },
  {
   "cell_type": "markdown",
   "metadata": {},
   "source": [
    "### get curious about the data"
   ]
  },
  {
   "cell_type": "code",
   "execution_count": null,
   "metadata": {},
   "outputs": [],
   "source": [
    "#we are trying to determine churn... look into that\n",
    "telco.churn.value_counts()\n",
    "\n",
    "#this shows 26.54% of customers churn (1869 out of 7043)"
   ]
  },
  {
   "cell_type": "code",
   "execution_count": null,
   "metadata": {},
   "outputs": [],
   "source": [
    "#find ou how many are senior citizens and how many are not\n",
    "telco.senior_citizen.value_counts()\n",
    "\n",
    "#this shows that 16.21% of all customers churn (1142 out of 7043)"
   ]
  },
  {
   "cell_type": "code",
   "execution_count": null,
   "metadata": {},
   "outputs": [],
   "source": [
    "#average tenure, max tenure, min tenure??\n",
    "telco.tenure.mean(), telco.tenure.max(), telco.tenure.min()"
   ]
  },
  {
   "cell_type": "code",
   "execution_count": null,
   "metadata": {},
   "outputs": [],
   "source": [
    "#average monthly charges, max monthly charges, min monthly charges\n",
    "telco.monthly_charges.mean(), telco.monthly_charges.max(), telco.monthly_charges.min()"
   ]
  },
  {
   "cell_type": "code",
   "execution_count": null,
   "metadata": {},
   "outputs": [],
   "source": [
    "#group by churn and senior_citizen \n",
    "#senior_churn= telco.groupby(['churn','senior_citizen'])"
   ]
  },
  {
   "cell_type": "markdown",
   "metadata": {},
   "source": [
    "_________"
   ]
  },
  {
   "cell_type": "code",
   "execution_count": null,
   "metadata": {},
   "outputs": [],
   "source": [
    "#gettting value counts for churn as int not obj\n",
    "(telco.churn == 'Yes').astype(int).value_counts()"
   ]
  },
  {
   "cell_type": "code",
   "execution_count": null,
   "metadata": {},
   "outputs": [],
   "source": [
    "telco.head()"
   ]
  },
  {
   "cell_type": "code",
   "execution_count": null,
   "metadata": {},
   "outputs": [],
   "source": [
    "telco.head()"
   ]
  },
  {
   "cell_type": "code",
   "execution_count": null,
   "metadata": {},
   "outputs": [],
   "source": [
    "#can see that churn is now an int\n",
    "telco.info()"
   ]
  },
  {
   "cell_type": "markdown",
   "metadata": {},
   "source": [
    "### Data Prep"
   ]
  },
  {
   "cell_type": "code",
   "execution_count": 5,
   "metadata": {},
   "outputs": [],
   "source": [
    "#change total charges from an object to a float- put that in PREPARE\n",
    "telco.total_charges = telco.total_charges.str.replace(' ', '0').astype(float)"
   ]
  },
  {
   "cell_type": "code",
   "execution_count": 6,
   "metadata": {},
   "outputs": [],
   "source": [
    "##need to convert churn to int\n",
    "telco_change = telco.replace({'churn': {'No':0, 'Yes':1}}, inplace=True)\n",
    "## ^can only run line once"
   ]
  },
  {
   "cell_type": "code",
   "execution_count": 7,
   "metadata": {},
   "outputs": [],
   "source": [
    "#drop columns not needed\n",
    "telco = telco.drop(['customer_id'], axis=1)"
   ]
  },
  {
   "cell_type": "code",
   "execution_count": 8,
   "metadata": {},
   "outputs": [
    {
     "data": {
      "text/html": [
       "<div>\n",
       "<style scoped>\n",
       "    .dataframe tbody tr th:only-of-type {\n",
       "        vertical-align: middle;\n",
       "    }\n",
       "\n",
       "    .dataframe tbody tr th {\n",
       "        vertical-align: top;\n",
       "    }\n",
       "\n",
       "    .dataframe thead th {\n",
       "        text-align: right;\n",
       "    }\n",
       "</style>\n",
       "<table border=\"1\" class=\"dataframe\">\n",
       "  <thead>\n",
       "    <tr style=\"text-align: right;\">\n",
       "      <th></th>\n",
       "      <th>gender</th>\n",
       "      <th>senior_citizen</th>\n",
       "      <th>partner</th>\n",
       "      <th>dependents</th>\n",
       "      <th>tenure</th>\n",
       "      <th>phone_service</th>\n",
       "      <th>multiple_lines</th>\n",
       "      <th>internet_service_type_id</th>\n",
       "      <th>online_security</th>\n",
       "      <th>online_backup</th>\n",
       "      <th>...</th>\n",
       "      <th>payment_type_id</th>\n",
       "      <th>monthly_charges</th>\n",
       "      <th>total_charges</th>\n",
       "      <th>churn</th>\n",
       "      <th>contract_type_id</th>\n",
       "      <th>contract_type</th>\n",
       "      <th>payment_type_id</th>\n",
       "      <th>payment_type</th>\n",
       "      <th>internet_service_type_id</th>\n",
       "      <th>internet_service_type</th>\n",
       "    </tr>\n",
       "  </thead>\n",
       "  <tbody>\n",
       "    <tr>\n",
       "      <th>0</th>\n",
       "      <td>Female</td>\n",
       "      <td>0</td>\n",
       "      <td>Yes</td>\n",
       "      <td>Yes</td>\n",
       "      <td>65</td>\n",
       "      <td>Yes</td>\n",
       "      <td>Yes</td>\n",
       "      <td>1</td>\n",
       "      <td>Yes</td>\n",
       "      <td>Yes</td>\n",
       "      <td>...</td>\n",
       "      <td>2</td>\n",
       "      <td>90.45</td>\n",
       "      <td>5957.90</td>\n",
       "      <td>0</td>\n",
       "      <td>3</td>\n",
       "      <td>Two year</td>\n",
       "      <td>2</td>\n",
       "      <td>Mailed check</td>\n",
       "      <td>1</td>\n",
       "      <td>DSL</td>\n",
       "    </tr>\n",
       "    <tr>\n",
       "      <th>1</th>\n",
       "      <td>Male</td>\n",
       "      <td>0</td>\n",
       "      <td>No</td>\n",
       "      <td>No</td>\n",
       "      <td>54</td>\n",
       "      <td>No</td>\n",
       "      <td>No phone service</td>\n",
       "      <td>1</td>\n",
       "      <td>Yes</td>\n",
       "      <td>No</td>\n",
       "      <td>...</td>\n",
       "      <td>4</td>\n",
       "      <td>45.20</td>\n",
       "      <td>2460.55</td>\n",
       "      <td>0</td>\n",
       "      <td>3</td>\n",
       "      <td>Two year</td>\n",
       "      <td>4</td>\n",
       "      <td>Credit card (automatic)</td>\n",
       "      <td>1</td>\n",
       "      <td>DSL</td>\n",
       "    </tr>\n",
       "    <tr>\n",
       "      <th>2</th>\n",
       "      <td>Female</td>\n",
       "      <td>0</td>\n",
       "      <td>No</td>\n",
       "      <td>No</td>\n",
       "      <td>56</td>\n",
       "      <td>No</td>\n",
       "      <td>No phone service</td>\n",
       "      <td>1</td>\n",
       "      <td>Yes</td>\n",
       "      <td>Yes</td>\n",
       "      <td>...</td>\n",
       "      <td>3</td>\n",
       "      <td>45.05</td>\n",
       "      <td>2560.10</td>\n",
       "      <td>0</td>\n",
       "      <td>3</td>\n",
       "      <td>Two year</td>\n",
       "      <td>3</td>\n",
       "      <td>Bank transfer (automatic)</td>\n",
       "      <td>1</td>\n",
       "      <td>DSL</td>\n",
       "    </tr>\n",
       "    <tr>\n",
       "      <th>3</th>\n",
       "      <td>Male</td>\n",
       "      <td>0</td>\n",
       "      <td>Yes</td>\n",
       "      <td>Yes</td>\n",
       "      <td>20</td>\n",
       "      <td>No</td>\n",
       "      <td>No phone service</td>\n",
       "      <td>1</td>\n",
       "      <td>Yes</td>\n",
       "      <td>No</td>\n",
       "      <td>...</td>\n",
       "      <td>4</td>\n",
       "      <td>39.40</td>\n",
       "      <td>825.40</td>\n",
       "      <td>0</td>\n",
       "      <td>3</td>\n",
       "      <td>Two year</td>\n",
       "      <td>4</td>\n",
       "      <td>Credit card (automatic)</td>\n",
       "      <td>1</td>\n",
       "      <td>DSL</td>\n",
       "    </tr>\n",
       "    <tr>\n",
       "      <th>4</th>\n",
       "      <td>Male</td>\n",
       "      <td>0</td>\n",
       "      <td>Yes</td>\n",
       "      <td>No</td>\n",
       "      <td>72</td>\n",
       "      <td>Yes</td>\n",
       "      <td>Yes</td>\n",
       "      <td>1</td>\n",
       "      <td>No</td>\n",
       "      <td>Yes</td>\n",
       "      <td>...</td>\n",
       "      <td>3</td>\n",
       "      <td>85.15</td>\n",
       "      <td>6316.20</td>\n",
       "      <td>0</td>\n",
       "      <td>3</td>\n",
       "      <td>Two year</td>\n",
       "      <td>3</td>\n",
       "      <td>Bank transfer (automatic)</td>\n",
       "      <td>1</td>\n",
       "      <td>DSL</td>\n",
       "    </tr>\n",
       "  </tbody>\n",
       "</table>\n",
       "<p>5 rows × 26 columns</p>\n",
       "</div>"
      ],
      "text/plain": [
       "   gender  senior_citizen partner dependents  tenure phone_service  \\\n",
       "0  Female               0     Yes        Yes      65           Yes   \n",
       "1    Male               0      No         No      54            No   \n",
       "2  Female               0      No         No      56            No   \n",
       "3    Male               0     Yes        Yes      20            No   \n",
       "4    Male               0     Yes         No      72           Yes   \n",
       "\n",
       "     multiple_lines  internet_service_type_id online_security online_backup  \\\n",
       "0               Yes                         1             Yes           Yes   \n",
       "1  No phone service                         1             Yes            No   \n",
       "2  No phone service                         1             Yes           Yes   \n",
       "3  No phone service                         1             Yes            No   \n",
       "4               Yes                         1              No           Yes   \n",
       "\n",
       "   ...  payment_type_id monthly_charges total_charges churn  contract_type_id  \\\n",
       "0  ...                2           90.45       5957.90     0                 3   \n",
       "1  ...                4           45.20       2460.55     0                 3   \n",
       "2  ...                3           45.05       2560.10     0                 3   \n",
       "3  ...                4           39.40        825.40     0                 3   \n",
       "4  ...                3           85.15       6316.20     0                 3   \n",
       "\n",
       "  contract_type  payment_type_id               payment_type  \\\n",
       "0      Two year                2               Mailed check   \n",
       "1      Two year                4    Credit card (automatic)   \n",
       "2      Two year                3  Bank transfer (automatic)   \n",
       "3      Two year                4    Credit card (automatic)   \n",
       "4      Two year                3  Bank transfer (automatic)   \n",
       "\n",
       "   internet_service_type_id  internet_service_type  \n",
       "0                         1                    DSL  \n",
       "1                         1                    DSL  \n",
       "2                         1                    DSL  \n",
       "3                         1                    DSL  \n",
       "4                         1                    DSL  \n",
       "\n",
       "[5 rows x 26 columns]"
      ]
     },
     "execution_count": 8,
     "metadata": {},
     "output_type": "execute_result"
    }
   ],
   "source": [
    "telco.head()"
   ]
  },
  {
   "cell_type": "code",
   "execution_count": 17,
   "metadata": {},
   "outputs": [
    {
     "data": {
      "text/html": [
       "<div>\n",
       "<style scoped>\n",
       "    .dataframe tbody tr th:only-of-type {\n",
       "        vertical-align: middle;\n",
       "    }\n",
       "\n",
       "    .dataframe tbody tr th {\n",
       "        vertical-align: top;\n",
       "    }\n",
       "\n",
       "    .dataframe thead th {\n",
       "        text-align: right;\n",
       "    }\n",
       "</style>\n",
       "<table border=\"1\" class=\"dataframe\">\n",
       "  <thead>\n",
       "    <tr style=\"text-align: right;\">\n",
       "      <th></th>\n",
       "      <th>senior_citizen</th>\n",
       "      <th>tenure</th>\n",
       "      <th>internet_service_type_id</th>\n",
       "      <th>contract_type_id</th>\n",
       "      <th>payment_type_id</th>\n",
       "      <th>monthly_charges</th>\n",
       "      <th>total_charges</th>\n",
       "      <th>churn</th>\n",
       "      <th>contract_type_id</th>\n",
       "      <th>payment_type_id</th>\n",
       "      <th>internet_service_type_id</th>\n",
       "    </tr>\n",
       "  </thead>\n",
       "  <tbody>\n",
       "    <tr>\n",
       "      <th>senior_citizen</th>\n",
       "      <td>1.000000</td>\n",
       "      <td>0.016567</td>\n",
       "      <td>-0.032310</td>\n",
       "      <td>-0.142554</td>\n",
       "      <td>-0.093704</td>\n",
       "      <td>0.220173</td>\n",
       "      <td>0.103006</td>\n",
       "      <td>0.150889</td>\n",
       "      <td>-0.142554</td>\n",
       "      <td>-0.093704</td>\n",
       "      <td>-0.032310</td>\n",
       "    </tr>\n",
       "    <tr>\n",
       "      <th>tenure</th>\n",
       "      <td>0.016567</td>\n",
       "      <td>1.000000</td>\n",
       "      <td>-0.030359</td>\n",
       "      <td>0.671607</td>\n",
       "      <td>0.340305</td>\n",
       "      <td>0.247900</td>\n",
       "      <td>0.826178</td>\n",
       "      <td>-0.352229</td>\n",
       "      <td>0.671607</td>\n",
       "      <td>0.340305</td>\n",
       "      <td>-0.030359</td>\n",
       "    </tr>\n",
       "    <tr>\n",
       "      <th>internet_service_type_id</th>\n",
       "      <td>-0.032310</td>\n",
       "      <td>-0.030359</td>\n",
       "      <td>1.000000</td>\n",
       "      <td>0.099721</td>\n",
       "      <td>0.008124</td>\n",
       "      <td>-0.323260</td>\n",
       "      <td>-0.175755</td>\n",
       "      <td>-0.047291</td>\n",
       "      <td>0.099721</td>\n",
       "      <td>0.008124</td>\n",
       "      <td>1.000000</td>\n",
       "    </tr>\n",
       "    <tr>\n",
       "      <th>contract_type_id</th>\n",
       "      <td>-0.142554</td>\n",
       "      <td>0.671607</td>\n",
       "      <td>0.099721</td>\n",
       "      <td>1.000000</td>\n",
       "      <td>0.358913</td>\n",
       "      <td>-0.074195</td>\n",
       "      <td>0.446855</td>\n",
       "      <td>-0.396713</td>\n",
       "      <td>1.000000</td>\n",
       "      <td>0.358913</td>\n",
       "      <td>0.099721</td>\n",
       "    </tr>\n",
       "    <tr>\n",
       "      <th>payment_type_id</th>\n",
       "      <td>-0.093704</td>\n",
       "      <td>0.340305</td>\n",
       "      <td>0.008124</td>\n",
       "      <td>0.358913</td>\n",
       "      <td>1.000000</td>\n",
       "      <td>-0.074353</td>\n",
       "      <td>0.222398</td>\n",
       "      <td>-0.262818</td>\n",
       "      <td>0.358913</td>\n",
       "      <td>1.000000</td>\n",
       "      <td>0.008124</td>\n",
       "    </tr>\n",
       "    <tr>\n",
       "      <th>monthly_charges</th>\n",
       "      <td>0.220173</td>\n",
       "      <td>0.247900</td>\n",
       "      <td>-0.323260</td>\n",
       "      <td>-0.074195</td>\n",
       "      <td>-0.074353</td>\n",
       "      <td>1.000000</td>\n",
       "      <td>0.651174</td>\n",
       "      <td>0.193356</td>\n",
       "      <td>-0.074195</td>\n",
       "      <td>-0.074353</td>\n",
       "      <td>-0.323260</td>\n",
       "    </tr>\n",
       "    <tr>\n",
       "      <th>total_charges</th>\n",
       "      <td>0.103006</td>\n",
       "      <td>0.826178</td>\n",
       "      <td>-0.175755</td>\n",
       "      <td>0.446855</td>\n",
       "      <td>0.222398</td>\n",
       "      <td>0.651174</td>\n",
       "      <td>1.000000</td>\n",
       "      <td>-0.198324</td>\n",
       "      <td>0.446855</td>\n",
       "      <td>0.222398</td>\n",
       "      <td>-0.175755</td>\n",
       "    </tr>\n",
       "    <tr>\n",
       "      <th>churn</th>\n",
       "      <td>0.150889</td>\n",
       "      <td>-0.352229</td>\n",
       "      <td>-0.047291</td>\n",
       "      <td>-0.396713</td>\n",
       "      <td>-0.262818</td>\n",
       "      <td>0.193356</td>\n",
       "      <td>-0.198324</td>\n",
       "      <td>1.000000</td>\n",
       "      <td>-0.396713</td>\n",
       "      <td>-0.262818</td>\n",
       "      <td>-0.047291</td>\n",
       "    </tr>\n",
       "    <tr>\n",
       "      <th>contract_type_id</th>\n",
       "      <td>-0.142554</td>\n",
       "      <td>0.671607</td>\n",
       "      <td>0.099721</td>\n",
       "      <td>1.000000</td>\n",
       "      <td>0.358913</td>\n",
       "      <td>-0.074195</td>\n",
       "      <td>0.446855</td>\n",
       "      <td>-0.396713</td>\n",
       "      <td>1.000000</td>\n",
       "      <td>0.358913</td>\n",
       "      <td>0.099721</td>\n",
       "    </tr>\n",
       "    <tr>\n",
       "      <th>payment_type_id</th>\n",
       "      <td>-0.093704</td>\n",
       "      <td>0.340305</td>\n",
       "      <td>0.008124</td>\n",
       "      <td>0.358913</td>\n",
       "      <td>1.000000</td>\n",
       "      <td>-0.074353</td>\n",
       "      <td>0.222398</td>\n",
       "      <td>-0.262818</td>\n",
       "      <td>0.358913</td>\n",
       "      <td>1.000000</td>\n",
       "      <td>0.008124</td>\n",
       "    </tr>\n",
       "    <tr>\n",
       "      <th>internet_service_type_id</th>\n",
       "      <td>-0.032310</td>\n",
       "      <td>-0.030359</td>\n",
       "      <td>1.000000</td>\n",
       "      <td>0.099721</td>\n",
       "      <td>0.008124</td>\n",
       "      <td>-0.323260</td>\n",
       "      <td>-0.175755</td>\n",
       "      <td>-0.047291</td>\n",
       "      <td>0.099721</td>\n",
       "      <td>0.008124</td>\n",
       "      <td>1.000000</td>\n",
       "    </tr>\n",
       "  </tbody>\n",
       "</table>\n",
       "</div>"
      ],
      "text/plain": [
       "                          senior_citizen    tenure  internet_service_type_id  \\\n",
       "senior_citizen                  1.000000  0.016567                 -0.032310   \n",
       "tenure                          0.016567  1.000000                 -0.030359   \n",
       "internet_service_type_id       -0.032310 -0.030359                  1.000000   \n",
       "contract_type_id               -0.142554  0.671607                  0.099721   \n",
       "payment_type_id                -0.093704  0.340305                  0.008124   \n",
       "monthly_charges                 0.220173  0.247900                 -0.323260   \n",
       "total_charges                   0.103006  0.826178                 -0.175755   \n",
       "churn                           0.150889 -0.352229                 -0.047291   \n",
       "contract_type_id               -0.142554  0.671607                  0.099721   \n",
       "payment_type_id                -0.093704  0.340305                  0.008124   \n",
       "internet_service_type_id       -0.032310 -0.030359                  1.000000   \n",
       "\n",
       "                          contract_type_id  payment_type_id  monthly_charges  \\\n",
       "senior_citizen                   -0.142554        -0.093704         0.220173   \n",
       "tenure                            0.671607         0.340305         0.247900   \n",
       "internet_service_type_id          0.099721         0.008124        -0.323260   \n",
       "contract_type_id                  1.000000         0.358913        -0.074195   \n",
       "payment_type_id                   0.358913         1.000000        -0.074353   \n",
       "monthly_charges                  -0.074195        -0.074353         1.000000   \n",
       "total_charges                     0.446855         0.222398         0.651174   \n",
       "churn                            -0.396713        -0.262818         0.193356   \n",
       "contract_type_id                  1.000000         0.358913        -0.074195   \n",
       "payment_type_id                   0.358913         1.000000        -0.074353   \n",
       "internet_service_type_id          0.099721         0.008124        -0.323260   \n",
       "\n",
       "                          total_charges     churn  contract_type_id  \\\n",
       "senior_citizen                 0.103006  0.150889         -0.142554   \n",
       "tenure                         0.826178 -0.352229          0.671607   \n",
       "internet_service_type_id      -0.175755 -0.047291          0.099721   \n",
       "contract_type_id               0.446855 -0.396713          1.000000   \n",
       "payment_type_id                0.222398 -0.262818          0.358913   \n",
       "monthly_charges                0.651174  0.193356         -0.074195   \n",
       "total_charges                  1.000000 -0.198324          0.446855   \n",
       "churn                         -0.198324  1.000000         -0.396713   \n",
       "contract_type_id               0.446855 -0.396713          1.000000   \n",
       "payment_type_id                0.222398 -0.262818          0.358913   \n",
       "internet_service_type_id      -0.175755 -0.047291          0.099721   \n",
       "\n",
       "                          payment_type_id  internet_service_type_id  \n",
       "senior_citizen                  -0.093704                 -0.032310  \n",
       "tenure                           0.340305                 -0.030359  \n",
       "internet_service_type_id         0.008124                  1.000000  \n",
       "contract_type_id                 0.358913                  0.099721  \n",
       "payment_type_id                  1.000000                  0.008124  \n",
       "monthly_charges                 -0.074353                 -0.323260  \n",
       "total_charges                    0.222398                 -0.175755  \n",
       "churn                           -0.262818                 -0.047291  \n",
       "contract_type_id                 0.358913                  0.099721  \n",
       "payment_type_id                  1.000000                  0.008124  \n",
       "internet_service_type_id         0.008124                  1.000000  "
      ]
     },
     "execution_count": 17,
     "metadata": {},
     "output_type": "execute_result"
    }
   ],
   "source": [
    "#find correlation- I think age correlates the most to churn\n",
    "telco_correlation = telco.corr()\n",
    "telco_correlation\n",
    "#this shows that senior_citizen and monthly_charges have the highest pos corr with churn"
   ]
  },
  {
   "cell_type": "code",
   "execution_count": 18,
   "metadata": {},
   "outputs": [
    {
     "data": {
      "text/plain": [
       "senior_citizen              0.150889\n",
       "tenure                     -0.352229\n",
       "internet_service_type_id   -0.047291\n",
       "contract_type_id           -0.396713\n",
       "payment_type_id            -0.262818\n",
       "monthly_charges             0.193356\n",
       "total_charges              -0.198324\n",
       "churn                       1.000000\n",
       "contract_type_id           -0.396713\n",
       "payment_type_id            -0.262818\n",
       "internet_service_type_id   -0.047291\n",
       "Name: churn, dtype: float64"
      ]
     },
     "execution_count": 18,
     "metadata": {},
     "output_type": "execute_result"
    }
   ],
   "source": [
    "#this gives the all the correlation with JUST churn\n",
    "telco_correlation['churn']\n",
    "\n",
    "## again, senior_citizen is the highest"
   ]
  },
  {
   "cell_type": "markdown",
   "metadata": {},
   "source": [
    "_______"
   ]
  },
  {
   "cell_type": "markdown",
   "metadata": {},
   "source": [
    "### Modeling"
   ]
  },
  {
   "cell_type": "markdown",
   "metadata": {},
   "source": [
    "#### Find the appropriate model to use\n",
    "- churn (numerical) and senior_citizen (numerical)\n",
    "- 2 continuous variables\n",
    "- "
   ]
  },
  {
   "cell_type": "code",
   "execution_count": 19,
   "metadata": {},
   "outputs": [
    {
     "name": "stdout",
     "output_type": "stream",
     "text": [
      "<class 'pandas.core.frame.DataFrame'>\n",
      "RangeIndex: 7043 entries, 0 to 7042\n",
      "Data columns (total 26 columns):\n",
      " #   Column                    Non-Null Count  Dtype  \n",
      "---  ------                    --------------  -----  \n",
      " 0   gender                    7043 non-null   object \n",
      " 1   senior_citizen            7043 non-null   int64  \n",
      " 2   partner                   7043 non-null   object \n",
      " 3   dependents                7043 non-null   object \n",
      " 4   tenure                    7043 non-null   int64  \n",
      " 5   phone_service             7043 non-null   object \n",
      " 6   multiple_lines            7043 non-null   object \n",
      " 7   internet_service_type_id  7043 non-null   int64  \n",
      " 8   online_security           7043 non-null   object \n",
      " 9   online_backup             7043 non-null   object \n",
      " 10  device_protection         7043 non-null   object \n",
      " 11  tech_support              7043 non-null   object \n",
      " 12  streaming_tv              7043 non-null   object \n",
      " 13  streaming_movies          7043 non-null   object \n",
      " 14  contract_type_id          7043 non-null   int64  \n",
      " 15  paperless_billing         7043 non-null   object \n",
      " 16  payment_type_id           7043 non-null   int64  \n",
      " 17  monthly_charges           7043 non-null   float64\n",
      " 18  total_charges             7043 non-null   float64\n",
      " 19  churn                     7043 non-null   int64  \n",
      " 20  contract_type_id          7043 non-null   int64  \n",
      " 21  contract_type             7043 non-null   object \n",
      " 22  payment_type_id           7043 non-null   int64  \n",
      " 23  payment_type              7043 non-null   object \n",
      " 24  internet_service_type_id  7043 non-null   int64  \n",
      " 25  internet_service_type     7043 non-null   object \n",
      "dtypes: float64(2), int64(9), object(15)\n",
      "memory usage: 1.4+ MB\n"
     ]
    }
   ],
   "source": [
    "telco.info()"
   ]
  },
  {
   "cell_type": "markdown",
   "metadata": {},
   "source": [
    "### Hypothosis:\n",
    "\n",
    "- **$H_{0}$**: there is no relationshp between churn and customer age\n",
    "- **$H_{a}$**: there is a relationshp between churn and customer age\n",
    "- **True Positive**: I reject the $H_{0}$, and the network latency has chanced since switching providers\n",
    "- **True Negative**: I fail to reject the $H_{0}$, and the network latency has not chanced since switching providers\n",
    "- **False Positive**: I reject the $H_{0}$, but switching provides does not change network latency\n",
    "- **False Negative**: I fail to reject the $H_{0}$, but switching provides does change network latency"
   ]
  },
  {
   "cell_type": "code",
   "execution_count": null,
   "metadata": {},
   "outputs": [],
   "source": [
    "## crosstab, confusion matrix"
   ]
  },
  {
   "cell_type": "code",
   "execution_count": null,
   "metadata": {},
   "outputs": [],
   "source": [
    "sns.histplot(x='variable', y='value', hue= 'species_name', data=melt)\n",
    "plt.show()"
   ]
  },
  {
   "cell_type": "code",
   "execution_count": null,
   "metadata": {},
   "outputs": [],
   "source": [
    "sns.barplot(x=train.species_name, y=train.index)"
   ]
  },
  {
   "cell_type": "code",
   "execution_count": null,
   "metadata": {},
   "outputs": [],
   "source": [
    "###Train Split"
   ]
  },
  {
   "cell_type": "code",
   "execution_count": 23,
   "metadata": {},
   "outputs": [],
   "source": [
    "import prepare\n",
    "import acquire"
   ]
  },
  {
   "cell_type": "code",
   "execution_count": 24,
   "metadata": {},
   "outputs": [
    {
     "ename": "KeyError",
     "evalue": "\"['customer_id' 'internet_service_id' 'contract_type_id' 'payment_type_id'] not found in axis\"",
     "output_type": "error",
     "traceback": [
      "\u001b[0;31m---------------------------------------------------------------------------\u001b[0m",
      "\u001b[0;31mKeyError\u001b[0m                                  Traceback (most recent call last)",
      "\u001b[0;32m<ipython-input-24-add7b36e21db>\u001b[0m in \u001b[0;36m<module>\u001b[0;34m\u001b[0m\n\u001b[0;32m----> 1\u001b[0;31m \u001b[0mtrain\u001b[0m\u001b[0;34m,\u001b[0m \u001b[0mvalidate\u001b[0m\u001b[0;34m,\u001b[0m \u001b[0mtest\u001b[0m \u001b[0;34m=\u001b[0m \u001b[0mprepare\u001b[0m\u001b[0;34m.\u001b[0m\u001b[0mprep_telco_churn\u001b[0m\u001b[0;34m(\u001b[0m\u001b[0macquire\u001b[0m\u001b[0;34m.\u001b[0m\u001b[0mget_telco_churn_data\u001b[0m\u001b[0;34m(\u001b[0m\u001b[0;34m)\u001b[0m\u001b[0;34m)\u001b[0m\u001b[0;34m\u001b[0m\u001b[0;34m\u001b[0m\u001b[0m\n\u001b[0m",
      "\u001b[0;32m~/codeup-data-science/database-exercises/Classification_Project/prepare.py\u001b[0m in \u001b[0;36mprep_telco_churn\u001b[0;34m(df)\u001b[0m\n\u001b[1;32m     14\u001b[0m     '''\n\u001b[1;32m     15\u001b[0m     \u001b[0;31m# drop and rename columns\u001b[0m\u001b[0;34m\u001b[0m\u001b[0;34m\u001b[0m\u001b[0;34m\u001b[0m\u001b[0m\n\u001b[0;32m---> 16\u001b[0;31m     \u001b[0mdf\u001b[0m \u001b[0;34m=\u001b[0m \u001b[0mdf\u001b[0m\u001b[0;34m.\u001b[0m\u001b[0mdrop\u001b[0m\u001b[0;34m(\u001b[0m\u001b[0mcolumns\u001b[0m\u001b[0;34m=\u001b[0m\u001b[0;34m[\u001b[0m\u001b[0;34m'customer_id'\u001b[0m\u001b[0;34m,\u001b[0m \u001b[0;34m'internet_service_id'\u001b[0m\u001b[0;34m,\u001b[0m \u001b[0;34m'contract_type_id'\u001b[0m\u001b[0;34m,\u001b[0m \u001b[0;34m'payment_type_id'\u001b[0m\u001b[0;34m]\u001b[0m\u001b[0;34m)\u001b[0m\u001b[0;34m\u001b[0m\u001b[0;34m\u001b[0m\u001b[0m\n\u001b[0m\u001b[1;32m     17\u001b[0m \u001b[0;34m\u001b[0m\u001b[0m\n\u001b[1;32m     18\u001b[0m     \u001b[0;31m# change data types\u001b[0m\u001b[0;34m\u001b[0m\u001b[0;34m\u001b[0m\u001b[0;34m\u001b[0m\u001b[0m\n",
      "\u001b[0;32m/opt/homebrew/anaconda3/lib/python3.8/site-packages/pandas/core/frame.py\u001b[0m in \u001b[0;36mdrop\u001b[0;34m(self, labels, axis, index, columns, level, inplace, errors)\u001b[0m\n\u001b[1;32m   4161\u001b[0m                 \u001b[0mweight\u001b[0m  \u001b[0;36m1.0\u001b[0m     \u001b[0;36m0.8\u001b[0m\u001b[0;34m\u001b[0m\u001b[0;34m\u001b[0m\u001b[0m\n\u001b[1;32m   4162\u001b[0m         \"\"\"\n\u001b[0;32m-> 4163\u001b[0;31m         return super().drop(\n\u001b[0m\u001b[1;32m   4164\u001b[0m             \u001b[0mlabels\u001b[0m\u001b[0;34m=\u001b[0m\u001b[0mlabels\u001b[0m\u001b[0;34m,\u001b[0m\u001b[0;34m\u001b[0m\u001b[0;34m\u001b[0m\u001b[0m\n\u001b[1;32m   4165\u001b[0m             \u001b[0maxis\u001b[0m\u001b[0;34m=\u001b[0m\u001b[0maxis\u001b[0m\u001b[0;34m,\u001b[0m\u001b[0;34m\u001b[0m\u001b[0;34m\u001b[0m\u001b[0m\n",
      "\u001b[0;32m/opt/homebrew/anaconda3/lib/python3.8/site-packages/pandas/core/generic.py\u001b[0m in \u001b[0;36mdrop\u001b[0;34m(self, labels, axis, index, columns, level, inplace, errors)\u001b[0m\n\u001b[1;32m   3885\u001b[0m         \u001b[0;32mfor\u001b[0m \u001b[0maxis\u001b[0m\u001b[0;34m,\u001b[0m \u001b[0mlabels\u001b[0m \u001b[0;32min\u001b[0m \u001b[0maxes\u001b[0m\u001b[0;34m.\u001b[0m\u001b[0mitems\u001b[0m\u001b[0;34m(\u001b[0m\u001b[0;34m)\u001b[0m\u001b[0;34m:\u001b[0m\u001b[0;34m\u001b[0m\u001b[0;34m\u001b[0m\u001b[0m\n\u001b[1;32m   3886\u001b[0m             \u001b[0;32mif\u001b[0m \u001b[0mlabels\u001b[0m \u001b[0;32mis\u001b[0m \u001b[0;32mnot\u001b[0m \u001b[0;32mNone\u001b[0m\u001b[0;34m:\u001b[0m\u001b[0;34m\u001b[0m\u001b[0;34m\u001b[0m\u001b[0m\n\u001b[0;32m-> 3887\u001b[0;31m                 \u001b[0mobj\u001b[0m \u001b[0;34m=\u001b[0m \u001b[0mobj\u001b[0m\u001b[0;34m.\u001b[0m\u001b[0m_drop_axis\u001b[0m\u001b[0;34m(\u001b[0m\u001b[0mlabels\u001b[0m\u001b[0;34m,\u001b[0m \u001b[0maxis\u001b[0m\u001b[0;34m,\u001b[0m \u001b[0mlevel\u001b[0m\u001b[0;34m=\u001b[0m\u001b[0mlevel\u001b[0m\u001b[0;34m,\u001b[0m \u001b[0merrors\u001b[0m\u001b[0;34m=\u001b[0m\u001b[0merrors\u001b[0m\u001b[0;34m)\u001b[0m\u001b[0;34m\u001b[0m\u001b[0;34m\u001b[0m\u001b[0m\n\u001b[0m\u001b[1;32m   3888\u001b[0m \u001b[0;34m\u001b[0m\u001b[0m\n\u001b[1;32m   3889\u001b[0m         \u001b[0;32mif\u001b[0m \u001b[0minplace\u001b[0m\u001b[0;34m:\u001b[0m\u001b[0;34m\u001b[0m\u001b[0;34m\u001b[0m\u001b[0m\n",
      "\u001b[0;32m/opt/homebrew/anaconda3/lib/python3.8/site-packages/pandas/core/generic.py\u001b[0m in \u001b[0;36m_drop_axis\u001b[0;34m(self, labels, axis, level, errors)\u001b[0m\n\u001b[1;32m   3938\u001b[0m                 \u001b[0mlabels_missing\u001b[0m \u001b[0;34m=\u001b[0m \u001b[0;34m(\u001b[0m\u001b[0maxis\u001b[0m\u001b[0;34m.\u001b[0m\u001b[0mget_indexer_for\u001b[0m\u001b[0;34m(\u001b[0m\u001b[0mlabels\u001b[0m\u001b[0;34m)\u001b[0m \u001b[0;34m==\u001b[0m \u001b[0;34m-\u001b[0m\u001b[0;36m1\u001b[0m\u001b[0;34m)\u001b[0m\u001b[0;34m.\u001b[0m\u001b[0many\u001b[0m\u001b[0;34m(\u001b[0m\u001b[0;34m)\u001b[0m\u001b[0;34m\u001b[0m\u001b[0;34m\u001b[0m\u001b[0m\n\u001b[1;32m   3939\u001b[0m                 \u001b[0;32mif\u001b[0m \u001b[0merrors\u001b[0m \u001b[0;34m==\u001b[0m \u001b[0;34m\"raise\"\u001b[0m \u001b[0;32mand\u001b[0m \u001b[0mlabels_missing\u001b[0m\u001b[0;34m:\u001b[0m\u001b[0;34m\u001b[0m\u001b[0;34m\u001b[0m\u001b[0m\n\u001b[0;32m-> 3940\u001b[0;31m                     \u001b[0;32mraise\u001b[0m \u001b[0mKeyError\u001b[0m\u001b[0;34m(\u001b[0m\u001b[0;34mf\"{labels} not found in axis\"\u001b[0m\u001b[0;34m)\u001b[0m\u001b[0;34m\u001b[0m\u001b[0;34m\u001b[0m\u001b[0m\n\u001b[0m\u001b[1;32m   3941\u001b[0m \u001b[0;34m\u001b[0m\u001b[0m\n\u001b[1;32m   3942\u001b[0m             \u001b[0mslicer\u001b[0m \u001b[0;34m=\u001b[0m \u001b[0;34m[\u001b[0m\u001b[0mslice\u001b[0m\u001b[0;34m(\u001b[0m\u001b[0;32mNone\u001b[0m\u001b[0;34m)\u001b[0m\u001b[0;34m]\u001b[0m \u001b[0;34m*\u001b[0m \u001b[0mself\u001b[0m\u001b[0;34m.\u001b[0m\u001b[0mndim\u001b[0m\u001b[0;34m\u001b[0m\u001b[0;34m\u001b[0m\u001b[0m\n",
      "\u001b[0;31mKeyError\u001b[0m: \"['customer_id' 'internet_service_id' 'contract_type_id' 'payment_type_id'] not found in axis\""
     ]
    }
   ],
   "source": [
    "train, validate, test = prepare.prep_telco_churn(acquire.get_telco_churn_data())"
   ]
  },
  {
   "cell_type": "code",
   "execution_count": null,
   "metadata": {},
   "outputs": [],
   "source": [
    "pd.crosstab(train.survived, train.model5)"
   ]
  }
 ],
 "metadata": {
  "kernelspec": {
   "display_name": "Python 3",
   "language": "python",
   "name": "python3"
  },
  "language_info": {
   "codemirror_mode": {
    "name": "ipython",
    "version": 3
   },
   "file_extension": ".py",
   "mimetype": "text/x-python",
   "name": "python",
   "nbconvert_exporter": "python",
   "pygments_lexer": "ipython3",
   "version": "3.8.5"
  }
 },
 "nbformat": 4,
 "nbformat_minor": 4
}
