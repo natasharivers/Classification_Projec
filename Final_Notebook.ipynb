{
 "cells": [
  {
   "cell_type": "markdown",
   "metadata": {},
   "source": [
    "# Telco Churn Classification Project"
   ]
  },
  {
   "cell_type": "markdown",
   "metadata": {},
   "source": [
    "___________________________________"
   ]
  },
  {
   "cell_type": "markdown",
   "metadata": {},
   "source": [
    "## Business Goals:\n",
    "- Find a driver of churn for Telco customers\n",
    "- Construct a ML classification model that accurately predicts customer churn.\n",
    "- Document your process well enough to be presented or read like a report"
   ]
  },
  {
   "cell_type": "markdown",
   "metadata": {},
   "source": [
    "____________________________"
   ]
  },
  {
   "cell_type": "markdown",
   "metadata": {},
   "source": [
    "## Project Planning:\n",
    "1. Create README.md with data dictionary, project and businesss goals, create inital hypothesis\n",
    "2. Acquire data from the Codeup Database and create a function to automate this process. Save the function in an acquire.py file to import into the Final Report Notebook.\n",
    "3. Clean and prepare data for the first iteration through the pipeline, MVP preparation. Create a function to automate the process, store the function in a prepare.py module, and prepare data in Final Report Notebook by importing and using the funtion.\n",
    "4. Clearly define two hypotheses, set an alpha, run the statistical tests needed, reject or fail to reject the Null Hypothesis, and document findings and takeaways.\n",
    "5. Establish a baseline accuracy and document well.\n",
    "6. Train three different classification models.\n",
    "7. Evaluate models on train and validate datasets.\n",
    "8. Choose the model with that performs the best and evaluate that single model on the test dataset.\n",
    "9. Create csv file with the customer id, the probability of the target values, and the model's prediction for each observation in my test dataset.\n",
    "10. Document conclusions, takeaways, and next steps in the Final Report Notebook."
   ]
  },
  {
   "cell_type": "markdown",
   "metadata": {},
   "source": [
    "______________________________"
   ]
  },
  {
   "cell_type": "markdown",
   "metadata": {},
   "source": [
    "## Executive Summary- Conclusions and Next Steps:\n",
    "- My findings are:\n",
    "    - I will be using the decision tree model as my best model for prediction my target value, churn because:\n",
    "        - there is an accuracy of 79.36% on both the train set and 78.95% on the validate set\n",
    "        - this model outperformed my baseline score of 73.12%\n",
    "        - there is not a large drop off of accuracy between the two sets (thus it is not overfit)"
   ]
  },
  {
   "cell_type": "markdown",
   "metadata": {},
   "source": [
    "_________________________"
   ]
  },
  {
   "cell_type": "code",
   "execution_count": 1,
   "metadata": {},
   "outputs": [],
   "source": [
    "#import needed libraries\n",
    "\n",
    "import pandas as pd\n",
    "import numpy as np\n",
    "import os\n",
    "import matplotlib.pyplot as plt\n",
    "from scipy import stats\n",
    "import seaborn as sns\n",
    "from pydataset import data\n",
    "\n",
    "#import ignore warnings\n",
    "import warnings\n",
    "warnings.filterwarnings(\"ignore\")\n"
   ]
  },
  {
   "cell_type": "code",
   "execution_count": 2,
   "metadata": {},
   "outputs": [],
   "source": [
    "from sklearn.model_selection import train_test_split #train, test, split\n",
    "from sklearn.metrics import classification_report\n",
    "from sklearn.metrics import precision_score, accuracy_score, recall_score, f1_score\n",
    "from sklearn.tree import DecisionTreeClassifier, plot_tree, export_text\n",
    "from sklearn.model_selection import train_test_split\n",
    "from sklearn.metrics import confusion_matrix\n"
   ]
  },
  {
   "cell_type": "markdown",
   "metadata": {},
   "source": [
    "# Acquire"
   ]
  },
  {
   "cell_type": "markdown",
   "metadata": {},
   "source": [
    "Plan --- **Acquire** --- Prepare --- Explore --- Model --- Deliver"
   ]
  },
  {
   "cell_type": "code",
   "execution_count": 3,
   "metadata": {},
   "outputs": [],
   "source": [
    "# acquire\n",
    "from env import host, user, password\n",
    "import acquire"
   ]
  },
  {
   "cell_type": "code",
   "execution_count": 4,
   "metadata": {},
   "outputs": [],
   "source": [
    "# Create helper function to get the necessary connection url.\n",
    "\n",
    "def get_connection(db_name):\n",
    "    '''\n",
    "    This function uses my info from my env file to\n",
    "    create a connection url to access the Codeup db.\n",
    "    '''\n",
    "    from env import host, user, password\n",
    "    return f'mysql+pymysql://{user}:{password}@{host}/{db_name}'"
   ]
  },
  {
   "cell_type": "code",
   "execution_count": 5,
   "metadata": {},
   "outputs": [],
   "source": [
    "#acquire function\n",
    "def get_telco_churn_data():\n",
    "    '''\n",
    "    This function reads in the iris data from the Codeup db\n",
    "    and returns a pandas DataFrame with all columns.\n",
    "    '''\n",
    "    \n",
    "    sql_query = '''\n",
    "    SELECT *\n",
    "    FROM customers\n",
    "    JOIN contract_types ON customers.contract_type_id = contract_types.contract_type_id\n",
    "    JOIN payment_types ON customers.payment_type_id = payment_types.payment_type_id\n",
    "    JOIN internet_service_types ON customers.internet_service_type_id = internet_service_types.internet_service_type_id\n",
    "    '''\n",
    "    return pd.read_sql(sql_query, get_connection('telco_churn'))"
   ]
  },
  {
   "cell_type": "code",
   "execution_count": 6,
   "metadata": {},
   "outputs": [],
   "source": [
    "# call acquire function and take a look\n",
    "df = get_telco_churn_data()"
   ]
  },
  {
   "cell_type": "code",
   "execution_count": 7,
   "metadata": {
    "scrolled": true
   },
   "outputs": [
    {
     "data": {
      "text/html": [
       "<div>\n",
       "<style scoped>\n",
       "    .dataframe tbody tr th:only-of-type {\n",
       "        vertical-align: middle;\n",
       "    }\n",
       "\n",
       "    .dataframe tbody tr th {\n",
       "        vertical-align: top;\n",
       "    }\n",
       "\n",
       "    .dataframe thead th {\n",
       "        text-align: right;\n",
       "    }\n",
       "</style>\n",
       "<table border=\"1\" class=\"dataframe\">\n",
       "  <thead>\n",
       "    <tr style=\"text-align: right;\">\n",
       "      <th></th>\n",
       "      <th>customer_id</th>\n",
       "      <th>gender</th>\n",
       "      <th>senior_citizen</th>\n",
       "      <th>partner</th>\n",
       "      <th>dependents</th>\n",
       "      <th>tenure</th>\n",
       "      <th>phone_service</th>\n",
       "      <th>multiple_lines</th>\n",
       "      <th>internet_service_type_id</th>\n",
       "      <th>online_security</th>\n",
       "      <th>...</th>\n",
       "      <th>payment_type_id</th>\n",
       "      <th>monthly_charges</th>\n",
       "      <th>total_charges</th>\n",
       "      <th>churn</th>\n",
       "      <th>contract_type_id</th>\n",
       "      <th>contract_type</th>\n",
       "      <th>payment_type_id</th>\n",
       "      <th>payment_type</th>\n",
       "      <th>internet_service_type_id</th>\n",
       "      <th>internet_service_type</th>\n",
       "    </tr>\n",
       "  </thead>\n",
       "  <tbody>\n",
       "    <tr>\n",
       "      <th>0</th>\n",
       "      <td>0016-QLJIS</td>\n",
       "      <td>Female</td>\n",
       "      <td>0</td>\n",
       "      <td>Yes</td>\n",
       "      <td>Yes</td>\n",
       "      <td>65</td>\n",
       "      <td>Yes</td>\n",
       "      <td>Yes</td>\n",
       "      <td>1</td>\n",
       "      <td>Yes</td>\n",
       "      <td>...</td>\n",
       "      <td>2</td>\n",
       "      <td>90.45</td>\n",
       "      <td>5957.9</td>\n",
       "      <td>No</td>\n",
       "      <td>3</td>\n",
       "      <td>Two year</td>\n",
       "      <td>2</td>\n",
       "      <td>Mailed check</td>\n",
       "      <td>1</td>\n",
       "      <td>DSL</td>\n",
       "    </tr>\n",
       "    <tr>\n",
       "      <th>1</th>\n",
       "      <td>0017-DINOC</td>\n",
       "      <td>Male</td>\n",
       "      <td>0</td>\n",
       "      <td>No</td>\n",
       "      <td>No</td>\n",
       "      <td>54</td>\n",
       "      <td>No</td>\n",
       "      <td>No phone service</td>\n",
       "      <td>1</td>\n",
       "      <td>Yes</td>\n",
       "      <td>...</td>\n",
       "      <td>4</td>\n",
       "      <td>45.20</td>\n",
       "      <td>2460.55</td>\n",
       "      <td>No</td>\n",
       "      <td>3</td>\n",
       "      <td>Two year</td>\n",
       "      <td>4</td>\n",
       "      <td>Credit card (automatic)</td>\n",
       "      <td>1</td>\n",
       "      <td>DSL</td>\n",
       "    </tr>\n",
       "    <tr>\n",
       "      <th>2</th>\n",
       "      <td>0019-GFNTW</td>\n",
       "      <td>Female</td>\n",
       "      <td>0</td>\n",
       "      <td>No</td>\n",
       "      <td>No</td>\n",
       "      <td>56</td>\n",
       "      <td>No</td>\n",
       "      <td>No phone service</td>\n",
       "      <td>1</td>\n",
       "      <td>Yes</td>\n",
       "      <td>...</td>\n",
       "      <td>3</td>\n",
       "      <td>45.05</td>\n",
       "      <td>2560.1</td>\n",
       "      <td>No</td>\n",
       "      <td>3</td>\n",
       "      <td>Two year</td>\n",
       "      <td>3</td>\n",
       "      <td>Bank transfer (automatic)</td>\n",
       "      <td>1</td>\n",
       "      <td>DSL</td>\n",
       "    </tr>\n",
       "    <tr>\n",
       "      <th>3</th>\n",
       "      <td>0056-EPFBG</td>\n",
       "      <td>Male</td>\n",
       "      <td>0</td>\n",
       "      <td>Yes</td>\n",
       "      <td>Yes</td>\n",
       "      <td>20</td>\n",
       "      <td>No</td>\n",
       "      <td>No phone service</td>\n",
       "      <td>1</td>\n",
       "      <td>Yes</td>\n",
       "      <td>...</td>\n",
       "      <td>4</td>\n",
       "      <td>39.40</td>\n",
       "      <td>825.4</td>\n",
       "      <td>No</td>\n",
       "      <td>3</td>\n",
       "      <td>Two year</td>\n",
       "      <td>4</td>\n",
       "      <td>Credit card (automatic)</td>\n",
       "      <td>1</td>\n",
       "      <td>DSL</td>\n",
       "    </tr>\n",
       "    <tr>\n",
       "      <th>4</th>\n",
       "      <td>0078-XZMHT</td>\n",
       "      <td>Male</td>\n",
       "      <td>0</td>\n",
       "      <td>Yes</td>\n",
       "      <td>No</td>\n",
       "      <td>72</td>\n",
       "      <td>Yes</td>\n",
       "      <td>Yes</td>\n",
       "      <td>1</td>\n",
       "      <td>No</td>\n",
       "      <td>...</td>\n",
       "      <td>3</td>\n",
       "      <td>85.15</td>\n",
       "      <td>6316.2</td>\n",
       "      <td>No</td>\n",
       "      <td>3</td>\n",
       "      <td>Two year</td>\n",
       "      <td>3</td>\n",
       "      <td>Bank transfer (automatic)</td>\n",
       "      <td>1</td>\n",
       "      <td>DSL</td>\n",
       "    </tr>\n",
       "  </tbody>\n",
       "</table>\n",
       "<p>5 rows × 27 columns</p>\n",
       "</div>"
      ],
      "text/plain": [
       "  customer_id  gender  senior_citizen partner dependents  tenure  \\\n",
       "0  0016-QLJIS  Female               0     Yes        Yes      65   \n",
       "1  0017-DINOC    Male               0      No         No      54   \n",
       "2  0019-GFNTW  Female               0      No         No      56   \n",
       "3  0056-EPFBG    Male               0     Yes        Yes      20   \n",
       "4  0078-XZMHT    Male               0     Yes         No      72   \n",
       "\n",
       "  phone_service    multiple_lines  internet_service_type_id online_security  \\\n",
       "0           Yes               Yes                         1             Yes   \n",
       "1            No  No phone service                         1             Yes   \n",
       "2            No  No phone service                         1             Yes   \n",
       "3            No  No phone service                         1             Yes   \n",
       "4           Yes               Yes                         1              No   \n",
       "\n",
       "   ... payment_type_id monthly_charges total_charges churn contract_type_id  \\\n",
       "0  ...               2           90.45        5957.9    No                3   \n",
       "1  ...               4           45.20       2460.55    No                3   \n",
       "2  ...               3           45.05        2560.1    No                3   \n",
       "3  ...               4           39.40         825.4    No                3   \n",
       "4  ...               3           85.15        6316.2    No                3   \n",
       "\n",
       "   contract_type payment_type_id               payment_type  \\\n",
       "0       Two year               2               Mailed check   \n",
       "1       Two year               4    Credit card (automatic)   \n",
       "2       Two year               3  Bank transfer (automatic)   \n",
       "3       Two year               4    Credit card (automatic)   \n",
       "4       Two year               3  Bank transfer (automatic)   \n",
       "\n",
       "   internet_service_type_id internet_service_type  \n",
       "0                         1                   DSL  \n",
       "1                         1                   DSL  \n",
       "2                         1                   DSL  \n",
       "3                         1                   DSL  \n",
       "4                         1                   DSL  \n",
       "\n",
       "[5 rows x 27 columns]"
      ]
     },
     "execution_count": 7,
     "metadata": {},
     "output_type": "execute_result"
    }
   ],
   "source": [
    "df.head()"
   ]
  },
  {
   "cell_type": "markdown",
   "metadata": {},
   "source": [
    "## Takeaways of the Acquire process:\n",
    "- I wrote a SQL query to create the acquire function\n",
    "- I joined 3 tables together to get all data needed\n"
   ]
  },
  {
   "cell_type": "markdown",
   "metadata": {},
   "source": [
    "<hr style=\"border:2px solid black\"> </hr>"
   ]
  },
  {
   "cell_type": "markdown",
   "metadata": {},
   "source": [
    "# Prepare"
   ]
  },
  {
   "cell_type": "markdown",
   "metadata": {},
   "source": [
    "Plan --- Acquire --- **Prepare** --- Explore --- Model --- Deliver"
   ]
  },
  {
   "cell_type": "code",
   "execution_count": 8,
   "metadata": {},
   "outputs": [],
   "source": [
    "# import prepare"
   ]
  },
  {
   "cell_type": "code",
   "execution_count": 9,
   "metadata": {},
   "outputs": [],
   "source": [
    "def prep_telco_churn(df):\n",
    "    '''\n",
    "    This function takes in the telco_churn df acquired by get_telco_churn_data\n",
    "    Returns the telco_churn df.\n",
    "    '''\n",
    "    # drop duplicate columns from join\n",
    "    df = df.loc[:, ~df.columns.duplicated()]\n",
    "    \n",
    "    # change data types\n",
    "    df.total_charges = df.total_charges.str.replace(' ', '0').astype(float)\n",
    "    df.replace({'churn': {'No':0, 'Yes':1}}, inplace=True)\n",
    "    \n",
    "    #drop duplicates\n",
    "    df.drop_duplicates(inplace=True)\n",
    "\n",
    "    #create dummies\n",
    "    dummy_df = pd.get_dummies(df[['internet_service_type_id','contract_type_id']], dummy_na = False, drop_first=[True,True])\n",
    "    #concat dummies with original df\n",
    "    df= pd.concat([df, dummy_df], axis=1)\n",
    "\n",
    "    return df"
   ]
  },
  {
   "cell_type": "code",
   "execution_count": 10,
   "metadata": {},
   "outputs": [],
   "source": [
    "#reassign prep_telco_churn(df) to just df\n",
    "df = prep_telco_churn(df)"
   ]
  },
  {
   "cell_type": "code",
   "execution_count": 11,
   "metadata": {
    "scrolled": true
   },
   "outputs": [
    {
     "data": {
      "text/html": [
       "<div>\n",
       "<style scoped>\n",
       "    .dataframe tbody tr th:only-of-type {\n",
       "        vertical-align: middle;\n",
       "    }\n",
       "\n",
       "    .dataframe tbody tr th {\n",
       "        vertical-align: top;\n",
       "    }\n",
       "\n",
       "    .dataframe thead th {\n",
       "        text-align: right;\n",
       "    }\n",
       "</style>\n",
       "<table border=\"1\" class=\"dataframe\">\n",
       "  <thead>\n",
       "    <tr style=\"text-align: right;\">\n",
       "      <th></th>\n",
       "      <th>customer_id</th>\n",
       "      <th>gender</th>\n",
       "      <th>senior_citizen</th>\n",
       "      <th>partner</th>\n",
       "      <th>dependents</th>\n",
       "      <th>tenure</th>\n",
       "      <th>phone_service</th>\n",
       "      <th>multiple_lines</th>\n",
       "      <th>internet_service_type_id</th>\n",
       "      <th>online_security</th>\n",
       "      <th>...</th>\n",
       "      <th>paperless_billing</th>\n",
       "      <th>payment_type_id</th>\n",
       "      <th>monthly_charges</th>\n",
       "      <th>total_charges</th>\n",
       "      <th>churn</th>\n",
       "      <th>contract_type</th>\n",
       "      <th>payment_type</th>\n",
       "      <th>internet_service_type</th>\n",
       "      <th>internet_service_type_id</th>\n",
       "      <th>contract_type_id</th>\n",
       "    </tr>\n",
       "  </thead>\n",
       "  <tbody>\n",
       "    <tr>\n",
       "      <th>0</th>\n",
       "      <td>0016-QLJIS</td>\n",
       "      <td>Female</td>\n",
       "      <td>0</td>\n",
       "      <td>Yes</td>\n",
       "      <td>Yes</td>\n",
       "      <td>65</td>\n",
       "      <td>Yes</td>\n",
       "      <td>Yes</td>\n",
       "      <td>1</td>\n",
       "      <td>Yes</td>\n",
       "      <td>...</td>\n",
       "      <td>Yes</td>\n",
       "      <td>2</td>\n",
       "      <td>90.45</td>\n",
       "      <td>5957.90</td>\n",
       "      <td>0</td>\n",
       "      <td>Two year</td>\n",
       "      <td>Mailed check</td>\n",
       "      <td>DSL</td>\n",
       "      <td>1</td>\n",
       "      <td>3</td>\n",
       "    </tr>\n",
       "    <tr>\n",
       "      <th>1</th>\n",
       "      <td>0017-DINOC</td>\n",
       "      <td>Male</td>\n",
       "      <td>0</td>\n",
       "      <td>No</td>\n",
       "      <td>No</td>\n",
       "      <td>54</td>\n",
       "      <td>No</td>\n",
       "      <td>No phone service</td>\n",
       "      <td>1</td>\n",
       "      <td>Yes</td>\n",
       "      <td>...</td>\n",
       "      <td>No</td>\n",
       "      <td>4</td>\n",
       "      <td>45.20</td>\n",
       "      <td>2460.55</td>\n",
       "      <td>0</td>\n",
       "      <td>Two year</td>\n",
       "      <td>Credit card (automatic)</td>\n",
       "      <td>DSL</td>\n",
       "      <td>1</td>\n",
       "      <td>3</td>\n",
       "    </tr>\n",
       "    <tr>\n",
       "      <th>2</th>\n",
       "      <td>0019-GFNTW</td>\n",
       "      <td>Female</td>\n",
       "      <td>0</td>\n",
       "      <td>No</td>\n",
       "      <td>No</td>\n",
       "      <td>56</td>\n",
       "      <td>No</td>\n",
       "      <td>No phone service</td>\n",
       "      <td>1</td>\n",
       "      <td>Yes</td>\n",
       "      <td>...</td>\n",
       "      <td>No</td>\n",
       "      <td>3</td>\n",
       "      <td>45.05</td>\n",
       "      <td>2560.10</td>\n",
       "      <td>0</td>\n",
       "      <td>Two year</td>\n",
       "      <td>Bank transfer (automatic)</td>\n",
       "      <td>DSL</td>\n",
       "      <td>1</td>\n",
       "      <td>3</td>\n",
       "    </tr>\n",
       "    <tr>\n",
       "      <th>3</th>\n",
       "      <td>0056-EPFBG</td>\n",
       "      <td>Male</td>\n",
       "      <td>0</td>\n",
       "      <td>Yes</td>\n",
       "      <td>Yes</td>\n",
       "      <td>20</td>\n",
       "      <td>No</td>\n",
       "      <td>No phone service</td>\n",
       "      <td>1</td>\n",
       "      <td>Yes</td>\n",
       "      <td>...</td>\n",
       "      <td>Yes</td>\n",
       "      <td>4</td>\n",
       "      <td>39.40</td>\n",
       "      <td>825.40</td>\n",
       "      <td>0</td>\n",
       "      <td>Two year</td>\n",
       "      <td>Credit card (automatic)</td>\n",
       "      <td>DSL</td>\n",
       "      <td>1</td>\n",
       "      <td>3</td>\n",
       "    </tr>\n",
       "    <tr>\n",
       "      <th>4</th>\n",
       "      <td>0078-XZMHT</td>\n",
       "      <td>Male</td>\n",
       "      <td>0</td>\n",
       "      <td>Yes</td>\n",
       "      <td>No</td>\n",
       "      <td>72</td>\n",
       "      <td>Yes</td>\n",
       "      <td>Yes</td>\n",
       "      <td>1</td>\n",
       "      <td>No</td>\n",
       "      <td>...</td>\n",
       "      <td>Yes</td>\n",
       "      <td>3</td>\n",
       "      <td>85.15</td>\n",
       "      <td>6316.20</td>\n",
       "      <td>0</td>\n",
       "      <td>Two year</td>\n",
       "      <td>Bank transfer (automatic)</td>\n",
       "      <td>DSL</td>\n",
       "      <td>1</td>\n",
       "      <td>3</td>\n",
       "    </tr>\n",
       "  </tbody>\n",
       "</table>\n",
       "<p>5 rows × 26 columns</p>\n",
       "</div>"
      ],
      "text/plain": [
       "  customer_id  gender  senior_citizen partner dependents  tenure  \\\n",
       "0  0016-QLJIS  Female               0     Yes        Yes      65   \n",
       "1  0017-DINOC    Male               0      No         No      54   \n",
       "2  0019-GFNTW  Female               0      No         No      56   \n",
       "3  0056-EPFBG    Male               0     Yes        Yes      20   \n",
       "4  0078-XZMHT    Male               0     Yes         No      72   \n",
       "\n",
       "  phone_service    multiple_lines  internet_service_type_id online_security  \\\n",
       "0           Yes               Yes                         1             Yes   \n",
       "1            No  No phone service                         1             Yes   \n",
       "2            No  No phone service                         1             Yes   \n",
       "3            No  No phone service                         1             Yes   \n",
       "4           Yes               Yes                         1              No   \n",
       "\n",
       "   ... paperless_billing payment_type_id monthly_charges total_charges churn  \\\n",
       "0  ...               Yes               2           90.45       5957.90     0   \n",
       "1  ...                No               4           45.20       2460.55     0   \n",
       "2  ...                No               3           45.05       2560.10     0   \n",
       "3  ...               Yes               4           39.40        825.40     0   \n",
       "4  ...               Yes               3           85.15       6316.20     0   \n",
       "\n",
       "   contract_type               payment_type  internet_service_type  \\\n",
       "0       Two year               Mailed check                    DSL   \n",
       "1       Two year    Credit card (automatic)                    DSL   \n",
       "2       Two year  Bank transfer (automatic)                    DSL   \n",
       "3       Two year    Credit card (automatic)                    DSL   \n",
       "4       Two year  Bank transfer (automatic)                    DSL   \n",
       "\n",
       "   internet_service_type_id  contract_type_id  \n",
       "0                         1                 3  \n",
       "1                         1                 3  \n",
       "2                         1                 3  \n",
       "3                         1                 3  \n",
       "4                         1                 3  \n",
       "\n",
       "[5 rows x 26 columns]"
      ]
     },
     "execution_count": 11,
     "metadata": {},
     "output_type": "execute_result"
    }
   ],
   "source": [
    "#call df and look at it\n",
    "df.head()"
   ]
  },
  {
   "cell_type": "code",
   "execution_count": 72,
   "metadata": {},
   "outputs": [],
   "source": [
    "#split data\n",
    "train, test = train_test_split(df, test_size=.2, random_state=123)\n",
    "train, validate = train_test_split(train, test_size=.3, random_state=123)"
   ]
  },
  {
   "cell_type": "code",
   "execution_count": 74,
   "metadata": {},
   "outputs": [
    {
     "name": "stdout",
     "output_type": "stream",
     "text": [
      "train shape: (3943, 26)\n",
      "validate shape: (1691, 26)\n",
      "test shape: (1409, 26)\n"
     ]
    }
   ],
   "source": [
    "print(f'train shape: {train.shape}')\n",
    "print(f'validate shape: {validate.shape}')\n",
    "print(f'test shape: {test.shape}')"
   ]
  },
  {
   "cell_type": "markdown",
   "metadata": {},
   "source": [
    "## Takeaways of the Prepare process:\n",
    "\n",
    "- prep_telco_churn(df) function was created to:\n",
    "    - change data types \n",
    "    - remove duplicates (if any) \n",
    "    - create dummy columns\n",
    "    - concatinate those dummy columns with the original dataframe\n",
    "- \"prep_telco_churn(df)\" was then renamed to \"df\"\n"
   ]
  },
  {
   "cell_type": "markdown",
   "metadata": {},
   "source": [
    "<hr style=\"border:2px solid black\"> </hr>"
   ]
  },
  {
   "cell_type": "markdown",
   "metadata": {},
   "source": [
    "# Explore"
   ]
  },
  {
   "cell_type": "markdown",
   "metadata": {},
   "source": [
    "Plan --- Acquire --- Prepare --- **Explore** --- Model --- Deliver"
   ]
  },
  {
   "cell_type": "code",
   "execution_count": 76,
   "metadata": {},
   "outputs": [
    {
     "data": {
      "text/html": [
       "<div>\n",
       "<style scoped>\n",
       "    .dataframe tbody tr th:only-of-type {\n",
       "        vertical-align: middle;\n",
       "    }\n",
       "\n",
       "    .dataframe tbody tr th {\n",
       "        vertical-align: top;\n",
       "    }\n",
       "\n",
       "    .dataframe thead th {\n",
       "        text-align: right;\n",
       "    }\n",
       "</style>\n",
       "<table border=\"1\" class=\"dataframe\">\n",
       "  <thead>\n",
       "    <tr style=\"text-align: right;\">\n",
       "      <th></th>\n",
       "      <th>customer_id</th>\n",
       "      <th>gender</th>\n",
       "      <th>senior_citizen</th>\n",
       "      <th>partner</th>\n",
       "      <th>dependents</th>\n",
       "      <th>tenure</th>\n",
       "      <th>phone_service</th>\n",
       "      <th>multiple_lines</th>\n",
       "      <th>internet_service_type_id</th>\n",
       "      <th>online_security</th>\n",
       "      <th>...</th>\n",
       "      <th>paperless_billing</th>\n",
       "      <th>payment_type_id</th>\n",
       "      <th>monthly_charges</th>\n",
       "      <th>total_charges</th>\n",
       "      <th>churn</th>\n",
       "      <th>contract_type</th>\n",
       "      <th>payment_type</th>\n",
       "      <th>internet_service_type</th>\n",
       "      <th>internet_service_type_id</th>\n",
       "      <th>contract_type_id</th>\n",
       "    </tr>\n",
       "  </thead>\n",
       "  <tbody>\n",
       "    <tr>\n",
       "      <th>4604</th>\n",
       "      <td>5564-NEMQO</td>\n",
       "      <td>Female</td>\n",
       "      <td>1</td>\n",
       "      <td>No</td>\n",
       "      <td>No</td>\n",
       "      <td>1</td>\n",
       "      <td>Yes</td>\n",
       "      <td>No</td>\n",
       "      <td>2</td>\n",
       "      <td>No</td>\n",
       "      <td>...</td>\n",
       "      <td>Yes</td>\n",
       "      <td>3</td>\n",
       "      <td>75.30</td>\n",
       "      <td>75.30</td>\n",
       "      <td>1</td>\n",
       "      <td>Month-to-month</td>\n",
       "      <td>Bank transfer (automatic)</td>\n",
       "      <td>Fiber optic</td>\n",
       "      <td>2</td>\n",
       "      <td>1</td>\n",
       "    </tr>\n",
       "    <tr>\n",
       "      <th>5566</th>\n",
       "      <td>0825-CPPQH</td>\n",
       "      <td>Female</td>\n",
       "      <td>0</td>\n",
       "      <td>Yes</td>\n",
       "      <td>No</td>\n",
       "      <td>71</td>\n",
       "      <td>Yes</td>\n",
       "      <td>No</td>\n",
       "      <td>3</td>\n",
       "      <td>No internet service</td>\n",
       "      <td>...</td>\n",
       "      <td>No</td>\n",
       "      <td>4</td>\n",
       "      <td>19.10</td>\n",
       "      <td>1372.45</td>\n",
       "      <td>0</td>\n",
       "      <td>Two year</td>\n",
       "      <td>Credit card (automatic)</td>\n",
       "      <td>None</td>\n",
       "      <td>3</td>\n",
       "      <td>3</td>\n",
       "    </tr>\n",
       "    <tr>\n",
       "      <th>6204</th>\n",
       "      <td>1561-BWHIN</td>\n",
       "      <td>Male</td>\n",
       "      <td>0</td>\n",
       "      <td>Yes</td>\n",
       "      <td>Yes</td>\n",
       "      <td>19</td>\n",
       "      <td>Yes</td>\n",
       "      <td>No</td>\n",
       "      <td>3</td>\n",
       "      <td>No internet service</td>\n",
       "      <td>...</td>\n",
       "      <td>No</td>\n",
       "      <td>2</td>\n",
       "      <td>19.80</td>\n",
       "      <td>344.50</td>\n",
       "      <td>0</td>\n",
       "      <td>One year</td>\n",
       "      <td>Mailed check</td>\n",
       "      <td>None</td>\n",
       "      <td>3</td>\n",
       "      <td>2</td>\n",
       "    </tr>\n",
       "    <tr>\n",
       "      <th>5837</th>\n",
       "      <td>4979-HPRFL</td>\n",
       "      <td>Male</td>\n",
       "      <td>0</td>\n",
       "      <td>Yes</td>\n",
       "      <td>Yes</td>\n",
       "      <td>56</td>\n",
       "      <td>Yes</td>\n",
       "      <td>Yes</td>\n",
       "      <td>3</td>\n",
       "      <td>No internet service</td>\n",
       "      <td>...</td>\n",
       "      <td>No</td>\n",
       "      <td>3</td>\n",
       "      <td>24.15</td>\n",
       "      <td>1402.25</td>\n",
       "      <td>0</td>\n",
       "      <td>Two year</td>\n",
       "      <td>Bank transfer (automatic)</td>\n",
       "      <td>None</td>\n",
       "      <td>3</td>\n",
       "      <td>3</td>\n",
       "    </tr>\n",
       "    <tr>\n",
       "      <th>1276</th>\n",
       "      <td>0749-IRGQE</td>\n",
       "      <td>Female</td>\n",
       "      <td>1</td>\n",
       "      <td>Yes</td>\n",
       "      <td>No</td>\n",
       "      <td>13</td>\n",
       "      <td>No</td>\n",
       "      <td>No phone service</td>\n",
       "      <td>1</td>\n",
       "      <td>No</td>\n",
       "      <td>...</td>\n",
       "      <td>No</td>\n",
       "      <td>1</td>\n",
       "      <td>45.30</td>\n",
       "      <td>528.45</td>\n",
       "      <td>0</td>\n",
       "      <td>Month-to-month</td>\n",
       "      <td>Electronic check</td>\n",
       "      <td>DSL</td>\n",
       "      <td>1</td>\n",
       "      <td>1</td>\n",
       "    </tr>\n",
       "  </tbody>\n",
       "</table>\n",
       "<p>5 rows × 26 columns</p>\n",
       "</div>"
      ],
      "text/plain": [
       "     customer_id  gender  senior_citizen partner dependents  tenure  \\\n",
       "4604  5564-NEMQO  Female               1      No         No       1   \n",
       "5566  0825-CPPQH  Female               0     Yes         No      71   \n",
       "6204  1561-BWHIN    Male               0     Yes        Yes      19   \n",
       "5837  4979-HPRFL    Male               0     Yes        Yes      56   \n",
       "1276  0749-IRGQE  Female               1     Yes         No      13   \n",
       "\n",
       "     phone_service    multiple_lines  internet_service_type_id  \\\n",
       "4604           Yes                No                         2   \n",
       "5566           Yes                No                         3   \n",
       "6204           Yes                No                         3   \n",
       "5837           Yes               Yes                         3   \n",
       "1276            No  No phone service                         1   \n",
       "\n",
       "          online_security  ... paperless_billing payment_type_id  \\\n",
       "4604                   No  ...               Yes               3   \n",
       "5566  No internet service  ...                No               4   \n",
       "6204  No internet service  ...                No               2   \n",
       "5837  No internet service  ...                No               3   \n",
       "1276                   No  ...                No               1   \n",
       "\n",
       "     monthly_charges total_charges churn   contract_type  \\\n",
       "4604           75.30         75.30     1  Month-to-month   \n",
       "5566           19.10       1372.45     0        Two year   \n",
       "6204           19.80        344.50     0        One year   \n",
       "5837           24.15       1402.25     0        Two year   \n",
       "1276           45.30        528.45     0  Month-to-month   \n",
       "\n",
       "                   payment_type  internet_service_type  \\\n",
       "4604  Bank transfer (automatic)            Fiber optic   \n",
       "5566    Credit card (automatic)                   None   \n",
       "6204               Mailed check                   None   \n",
       "5837  Bank transfer (automatic)                   None   \n",
       "1276           Electronic check                    DSL   \n",
       "\n",
       "      internet_service_type_id  contract_type_id  \n",
       "4604                         2                 1  \n",
       "5566                         3                 3  \n",
       "6204                         3                 2  \n",
       "5837                         3                 3  \n",
       "1276                         1                 1  \n",
       "\n",
       "[5 rows x 26 columns]"
      ]
     },
     "execution_count": 76,
     "metadata": {},
     "output_type": "execute_result"
    }
   ],
   "source": [
    "#take a look at the data\n",
    "train.head()"
   ]
  },
  {
   "cell_type": "code",
   "execution_count": 77,
   "metadata": {},
   "outputs": [
    {
     "name": "stdout",
     "output_type": "stream",
     "text": [
      "<class 'pandas.core.frame.DataFrame'>\n",
      "Int64Index: 3943 entries, 4604 to 6958\n",
      "Data columns (total 26 columns):\n",
      " #   Column                    Non-Null Count  Dtype  \n",
      "---  ------                    --------------  -----  \n",
      " 0   customer_id               3943 non-null   object \n",
      " 1   gender                    3943 non-null   object \n",
      " 2   senior_citizen            3943 non-null   int64  \n",
      " 3   partner                   3943 non-null   object \n",
      " 4   dependents                3943 non-null   object \n",
      " 5   tenure                    3943 non-null   int64  \n",
      " 6   phone_service             3943 non-null   object \n",
      " 7   multiple_lines            3943 non-null   object \n",
      " 8   internet_service_type_id  3943 non-null   int64  \n",
      " 9   online_security           3943 non-null   object \n",
      " 10  online_backup             3943 non-null   object \n",
      " 11  device_protection         3943 non-null   object \n",
      " 12  tech_support              3943 non-null   object \n",
      " 13  streaming_tv              3943 non-null   object \n",
      " 14  streaming_movies          3943 non-null   object \n",
      " 15  contract_type_id          3943 non-null   int64  \n",
      " 16  paperless_billing         3943 non-null   object \n",
      " 17  payment_type_id           3943 non-null   int64  \n",
      " 18  monthly_charges           3943 non-null   float64\n",
      " 19  total_charges             3943 non-null   float64\n",
      " 20  churn                     3943 non-null   int64  \n",
      " 21  contract_type             3943 non-null   object \n",
      " 22  payment_type              3943 non-null   object \n",
      " 23  internet_service_type     3943 non-null   object \n",
      " 24  internet_service_type_id  3943 non-null   int64  \n",
      " 25  contract_type_id          3943 non-null   int64  \n",
      "dtypes: float64(2), int64(8), object(16)\n",
      "memory usage: 831.7+ KB\n"
     ]
    }
   ],
   "source": [
    "#data has int and object data types\n",
    "#look at column names\n",
    "train.info()"
   ]
  },
  {
   "cell_type": "markdown",
   "metadata": {},
   "source": [
    "### data summary:\n",
    "- 18 object data types\n",
    "- 8 integer data types\n",
    "- 1 float data type\n",
    "- 0 null values"
   ]
  },
  {
   "cell_type": "code",
   "execution_count": 78,
   "metadata": {},
   "outputs": [
    {
     "data": {
      "text/html": [
       "<div>\n",
       "<style scoped>\n",
       "    .dataframe tbody tr th:only-of-type {\n",
       "        vertical-align: middle;\n",
       "    }\n",
       "\n",
       "    .dataframe tbody tr th {\n",
       "        vertical-align: top;\n",
       "    }\n",
       "\n",
       "    .dataframe thead th {\n",
       "        text-align: right;\n",
       "    }\n",
       "</style>\n",
       "<table border=\"1\" class=\"dataframe\">\n",
       "  <thead>\n",
       "    <tr style=\"text-align: right;\">\n",
       "      <th></th>\n",
       "      <th>senior_citizen</th>\n",
       "      <th>tenure</th>\n",
       "      <th>internet_service_type_id</th>\n",
       "      <th>contract_type_id</th>\n",
       "      <th>payment_type_id</th>\n",
       "      <th>monthly_charges</th>\n",
       "      <th>total_charges</th>\n",
       "      <th>churn</th>\n",
       "      <th>internet_service_type_id</th>\n",
       "      <th>contract_type_id</th>\n",
       "    </tr>\n",
       "  </thead>\n",
       "  <tbody>\n",
       "    <tr>\n",
       "      <th>count</th>\n",
       "      <td>3943.000000</td>\n",
       "      <td>3943.000000</td>\n",
       "      <td>3943.000000</td>\n",
       "      <td>3943.000000</td>\n",
       "      <td>3943.000000</td>\n",
       "      <td>3943.000000</td>\n",
       "      <td>3943.000000</td>\n",
       "      <td>3943.000000</td>\n",
       "      <td>3943.000000</td>\n",
       "      <td>3943.000000</td>\n",
       "    </tr>\n",
       "    <tr>\n",
       "      <th>mean</th>\n",
       "      <td>0.162059</td>\n",
       "      <td>32.229267</td>\n",
       "      <td>1.874715</td>\n",
       "      <td>1.690591</td>\n",
       "      <td>2.314228</td>\n",
       "      <td>64.613594</td>\n",
       "      <td>2259.259574</td>\n",
       "      <td>0.268831</td>\n",
       "      <td>1.874715</td>\n",
       "      <td>1.690591</td>\n",
       "    </tr>\n",
       "    <tr>\n",
       "      <th>std</th>\n",
       "      <td>0.368552</td>\n",
       "      <td>24.575528</td>\n",
       "      <td>0.738536</td>\n",
       "      <td>0.835920</td>\n",
       "      <td>1.148938</td>\n",
       "      <td>30.005884</td>\n",
       "      <td>2249.519566</td>\n",
       "      <td>0.443408</td>\n",
       "      <td>0.738536</td>\n",
       "      <td>0.835920</td>\n",
       "    </tr>\n",
       "    <tr>\n",
       "      <th>min</th>\n",
       "      <td>0.000000</td>\n",
       "      <td>0.000000</td>\n",
       "      <td>1.000000</td>\n",
       "      <td>1.000000</td>\n",
       "      <td>1.000000</td>\n",
       "      <td>18.550000</td>\n",
       "      <td>0.000000</td>\n",
       "      <td>0.000000</td>\n",
       "      <td>1.000000</td>\n",
       "      <td>1.000000</td>\n",
       "    </tr>\n",
       "    <tr>\n",
       "      <th>25%</th>\n",
       "      <td>0.000000</td>\n",
       "      <td>8.000000</td>\n",
       "      <td>1.000000</td>\n",
       "      <td>1.000000</td>\n",
       "      <td>1.000000</td>\n",
       "      <td>35.475000</td>\n",
       "      <td>403.000000</td>\n",
       "      <td>0.000000</td>\n",
       "      <td>1.000000</td>\n",
       "      <td>1.000000</td>\n",
       "    </tr>\n",
       "    <tr>\n",
       "      <th>50%</th>\n",
       "      <td>0.000000</td>\n",
       "      <td>29.000000</td>\n",
       "      <td>2.000000</td>\n",
       "      <td>1.000000</td>\n",
       "      <td>2.000000</td>\n",
       "      <td>70.350000</td>\n",
       "      <td>1381.800000</td>\n",
       "      <td>0.000000</td>\n",
       "      <td>2.000000</td>\n",
       "      <td>1.000000</td>\n",
       "    </tr>\n",
       "    <tr>\n",
       "      <th>75%</th>\n",
       "      <td>0.000000</td>\n",
       "      <td>55.000000</td>\n",
       "      <td>2.000000</td>\n",
       "      <td>2.000000</td>\n",
       "      <td>3.000000</td>\n",
       "      <td>89.650000</td>\n",
       "      <td>3774.900000</td>\n",
       "      <td>1.000000</td>\n",
       "      <td>2.000000</td>\n",
       "      <td>2.000000</td>\n",
       "    </tr>\n",
       "    <tr>\n",
       "      <th>max</th>\n",
       "      <td>1.000000</td>\n",
       "      <td>72.000000</td>\n",
       "      <td>3.000000</td>\n",
       "      <td>3.000000</td>\n",
       "      <td>4.000000</td>\n",
       "      <td>118.650000</td>\n",
       "      <td>8670.100000</td>\n",
       "      <td>1.000000</td>\n",
       "      <td>3.000000</td>\n",
       "      <td>3.000000</td>\n",
       "    </tr>\n",
       "  </tbody>\n",
       "</table>\n",
       "</div>"
      ],
      "text/plain": [
       "       senior_citizen       tenure  internet_service_type_id  \\\n",
       "count     3943.000000  3943.000000               3943.000000   \n",
       "mean         0.162059    32.229267                  1.874715   \n",
       "std          0.368552    24.575528                  0.738536   \n",
       "min          0.000000     0.000000                  1.000000   \n",
       "25%          0.000000     8.000000                  1.000000   \n",
       "50%          0.000000    29.000000                  2.000000   \n",
       "75%          0.000000    55.000000                  2.000000   \n",
       "max          1.000000    72.000000                  3.000000   \n",
       "\n",
       "       contract_type_id  payment_type_id  monthly_charges  total_charges  \\\n",
       "count       3943.000000      3943.000000      3943.000000    3943.000000   \n",
       "mean           1.690591         2.314228        64.613594    2259.259574   \n",
       "std            0.835920         1.148938        30.005884    2249.519566   \n",
       "min            1.000000         1.000000        18.550000       0.000000   \n",
       "25%            1.000000         1.000000        35.475000     403.000000   \n",
       "50%            1.000000         2.000000        70.350000    1381.800000   \n",
       "75%            2.000000         3.000000        89.650000    3774.900000   \n",
       "max            3.000000         4.000000       118.650000    8670.100000   \n",
       "\n",
       "             churn  internet_service_type_id  contract_type_id  \n",
       "count  3943.000000               3943.000000       3943.000000  \n",
       "mean      0.268831                  1.874715          1.690591  \n",
       "std       0.443408                  0.738536          0.835920  \n",
       "min       0.000000                  1.000000          1.000000  \n",
       "25%       0.000000                  1.000000          1.000000  \n",
       "50%       0.000000                  2.000000          1.000000  \n",
       "75%       1.000000                  2.000000          2.000000  \n",
       "max       1.000000                  3.000000          3.000000  "
      ]
     },
     "execution_count": 78,
     "metadata": {},
     "output_type": "execute_result"
    }
   ],
   "source": [
    "#descriptive statistics\n",
    "train.describe()"
   ]
  },
  {
   "cell_type": "code",
   "execution_count": 15,
   "metadata": {},
   "outputs": [
    {
     "data": {
      "text/plain": [
       "0    5174\n",
       "1    1869\n",
       "Name: churn, dtype: int64"
      ]
     },
     "execution_count": 15,
     "metadata": {},
     "output_type": "execute_result"
    }
   ],
   "source": [
    "#we are trying to determine churn... look into that\n",
    "df.churn.value_counts()\n",
    "\n",
    "#this shows 26.54% of all customers churn (1869 out of 7043)"
   ]
  },
  {
   "cell_type": "code",
   "execution_count": 79,
   "metadata": {},
   "outputs": [
    {
     "data": {
      "text/plain": [
       "0    2883\n",
       "1    1060\n",
       "Name: churn, dtype: int64"
      ]
     },
     "execution_count": 79,
     "metadata": {},
     "output_type": "execute_result"
    }
   ],
   "source": [
    "#we are trying to determine churn... look into that\n",
    "train.churn.value_counts()\n",
    "\n",
    "#this shows 26.88% of customers in the train data set churn (1060 out of 3943)"
   ]
  },
  {
   "cell_type": "code",
   "execution_count": 80,
   "metadata": {},
   "outputs": [
    {
     "data": {
      "text/html": [
       "<div>\n",
       "<style scoped>\n",
       "    .dataframe tbody tr th:only-of-type {\n",
       "        vertical-align: middle;\n",
       "    }\n",
       "\n",
       "    .dataframe tbody tr th {\n",
       "        vertical-align: top;\n",
       "    }\n",
       "\n",
       "    .dataframe thead th {\n",
       "        text-align: right;\n",
       "    }\n",
       "</style>\n",
       "<table border=\"1\" class=\"dataframe\">\n",
       "  <thead>\n",
       "    <tr style=\"text-align: right;\">\n",
       "      <th></th>\n",
       "      <th>senior_citizen</th>\n",
       "      <th>tenure</th>\n",
       "      <th>internet_service_type_id</th>\n",
       "      <th>contract_type_id</th>\n",
       "      <th>payment_type_id</th>\n",
       "      <th>monthly_charges</th>\n",
       "      <th>total_charges</th>\n",
       "      <th>churn</th>\n",
       "      <th>internet_service_type_id</th>\n",
       "      <th>contract_type_id</th>\n",
       "    </tr>\n",
       "  </thead>\n",
       "  <tbody>\n",
       "    <tr>\n",
       "      <th>senior_citizen</th>\n",
       "      <td>1.000000</td>\n",
       "      <td>0.007828</td>\n",
       "      <td>-0.024178</td>\n",
       "      <td>-0.148452</td>\n",
       "      <td>-0.072364</td>\n",
       "      <td>0.219926</td>\n",
       "      <td>0.095401</td>\n",
       "      <td>0.154017</td>\n",
       "      <td>-0.024178</td>\n",
       "      <td>-0.148452</td>\n",
       "    </tr>\n",
       "    <tr>\n",
       "      <th>tenure</th>\n",
       "      <td>0.007828</td>\n",
       "      <td>1.000000</td>\n",
       "      <td>-0.040669</td>\n",
       "      <td>0.673449</td>\n",
       "      <td>0.368140</td>\n",
       "      <td>0.239707</td>\n",
       "      <td>0.825686</td>\n",
       "      <td>-0.350872</td>\n",
       "      <td>-0.040669</td>\n",
       "      <td>0.673449</td>\n",
       "    </tr>\n",
       "    <tr>\n",
       "      <th>internet_service_type_id</th>\n",
       "      <td>-0.024178</td>\n",
       "      <td>-0.040669</td>\n",
       "      <td>1.000000</td>\n",
       "      <td>0.098270</td>\n",
       "      <td>0.002460</td>\n",
       "      <td>-0.329914</td>\n",
       "      <td>-0.187585</td>\n",
       "      <td>-0.048956</td>\n",
       "      <td>1.000000</td>\n",
       "      <td>0.098270</td>\n",
       "    </tr>\n",
       "    <tr>\n",
       "      <th>contract_type_id</th>\n",
       "      <td>-0.148452</td>\n",
       "      <td>0.673449</td>\n",
       "      <td>0.098270</td>\n",
       "      <td>1.000000</td>\n",
       "      <td>0.370144</td>\n",
       "      <td>-0.079685</td>\n",
       "      <td>0.448854</td>\n",
       "      <td>-0.395606</td>\n",
       "      <td>0.098270</td>\n",
       "      <td>1.000000</td>\n",
       "    </tr>\n",
       "    <tr>\n",
       "      <th>payment_type_id</th>\n",
       "      <td>-0.072364</td>\n",
       "      <td>0.368140</td>\n",
       "      <td>0.002460</td>\n",
       "      <td>0.370144</td>\n",
       "      <td>1.000000</td>\n",
       "      <td>-0.054415</td>\n",
       "      <td>0.254743</td>\n",
       "      <td>-0.243537</td>\n",
       "      <td>0.002460</td>\n",
       "      <td>0.370144</td>\n",
       "    </tr>\n",
       "    <tr>\n",
       "      <th>monthly_charges</th>\n",
       "      <td>0.219926</td>\n",
       "      <td>0.239707</td>\n",
       "      <td>-0.329914</td>\n",
       "      <td>-0.079685</td>\n",
       "      <td>-0.054415</td>\n",
       "      <td>1.000000</td>\n",
       "      <td>0.645040</td>\n",
       "      <td>0.212429</td>\n",
       "      <td>-0.329914</td>\n",
       "      <td>-0.079685</td>\n",
       "    </tr>\n",
       "    <tr>\n",
       "      <th>total_charges</th>\n",
       "      <td>0.095401</td>\n",
       "      <td>0.825686</td>\n",
       "      <td>-0.187585</td>\n",
       "      <td>0.448854</td>\n",
       "      <td>0.254743</td>\n",
       "      <td>0.645040</td>\n",
       "      <td>1.000000</td>\n",
       "      <td>-0.189770</td>\n",
       "      <td>-0.187585</td>\n",
       "      <td>0.448854</td>\n",
       "    </tr>\n",
       "    <tr>\n",
       "      <th>churn</th>\n",
       "      <td>0.154017</td>\n",
       "      <td>-0.350872</td>\n",
       "      <td>-0.048956</td>\n",
       "      <td>-0.395606</td>\n",
       "      <td>-0.243537</td>\n",
       "      <td>0.212429</td>\n",
       "      <td>-0.189770</td>\n",
       "      <td>1.000000</td>\n",
       "      <td>-0.048956</td>\n",
       "      <td>-0.395606</td>\n",
       "    </tr>\n",
       "    <tr>\n",
       "      <th>internet_service_type_id</th>\n",
       "      <td>-0.024178</td>\n",
       "      <td>-0.040669</td>\n",
       "      <td>1.000000</td>\n",
       "      <td>0.098270</td>\n",
       "      <td>0.002460</td>\n",
       "      <td>-0.329914</td>\n",
       "      <td>-0.187585</td>\n",
       "      <td>-0.048956</td>\n",
       "      <td>1.000000</td>\n",
       "      <td>0.098270</td>\n",
       "    </tr>\n",
       "    <tr>\n",
       "      <th>contract_type_id</th>\n",
       "      <td>-0.148452</td>\n",
       "      <td>0.673449</td>\n",
       "      <td>0.098270</td>\n",
       "      <td>1.000000</td>\n",
       "      <td>0.370144</td>\n",
       "      <td>-0.079685</td>\n",
       "      <td>0.448854</td>\n",
       "      <td>-0.395606</td>\n",
       "      <td>0.098270</td>\n",
       "      <td>1.000000</td>\n",
       "    </tr>\n",
       "  </tbody>\n",
       "</table>\n",
       "</div>"
      ],
      "text/plain": [
       "                          senior_citizen    tenure  internet_service_type_id  \\\n",
       "senior_citizen                  1.000000  0.007828                 -0.024178   \n",
       "tenure                          0.007828  1.000000                 -0.040669   \n",
       "internet_service_type_id       -0.024178 -0.040669                  1.000000   \n",
       "contract_type_id               -0.148452  0.673449                  0.098270   \n",
       "payment_type_id                -0.072364  0.368140                  0.002460   \n",
       "monthly_charges                 0.219926  0.239707                 -0.329914   \n",
       "total_charges                   0.095401  0.825686                 -0.187585   \n",
       "churn                           0.154017 -0.350872                 -0.048956   \n",
       "internet_service_type_id       -0.024178 -0.040669                  1.000000   \n",
       "contract_type_id               -0.148452  0.673449                  0.098270   \n",
       "\n",
       "                          contract_type_id  payment_type_id  monthly_charges  \\\n",
       "senior_citizen                   -0.148452        -0.072364         0.219926   \n",
       "tenure                            0.673449         0.368140         0.239707   \n",
       "internet_service_type_id          0.098270         0.002460        -0.329914   \n",
       "contract_type_id                  1.000000         0.370144        -0.079685   \n",
       "payment_type_id                   0.370144         1.000000        -0.054415   \n",
       "monthly_charges                  -0.079685        -0.054415         1.000000   \n",
       "total_charges                     0.448854         0.254743         0.645040   \n",
       "churn                            -0.395606        -0.243537         0.212429   \n",
       "internet_service_type_id          0.098270         0.002460        -0.329914   \n",
       "contract_type_id                  1.000000         0.370144        -0.079685   \n",
       "\n",
       "                          total_charges     churn  internet_service_type_id  \\\n",
       "senior_citizen                 0.095401  0.154017                 -0.024178   \n",
       "tenure                         0.825686 -0.350872                 -0.040669   \n",
       "internet_service_type_id      -0.187585 -0.048956                  1.000000   \n",
       "contract_type_id               0.448854 -0.395606                  0.098270   \n",
       "payment_type_id                0.254743 -0.243537                  0.002460   \n",
       "monthly_charges                0.645040  0.212429                 -0.329914   \n",
       "total_charges                  1.000000 -0.189770                 -0.187585   \n",
       "churn                         -0.189770  1.000000                 -0.048956   \n",
       "internet_service_type_id      -0.187585 -0.048956                  1.000000   \n",
       "contract_type_id               0.448854 -0.395606                  0.098270   \n",
       "\n",
       "                          contract_type_id  \n",
       "senior_citizen                   -0.148452  \n",
       "tenure                            0.673449  \n",
       "internet_service_type_id          0.098270  \n",
       "contract_type_id                  1.000000  \n",
       "payment_type_id                   0.370144  \n",
       "monthly_charges                  -0.079685  \n",
       "total_charges                     0.448854  \n",
       "churn                            -0.395606  \n",
       "internet_service_type_id          0.098270  \n",
       "contract_type_id                  1.000000  "
      ]
     },
     "execution_count": 80,
     "metadata": {},
     "output_type": "execute_result"
    }
   ],
   "source": [
    "#find correlation- I think age correlates the most to churn\n",
    "telco_correlation = train.corr()\n",
    "telco_correlation\n",
    "#this shows that senior_citizen and monthly_charges have the highest pos corr with churn"
   ]
  },
  {
   "cell_type": "code",
   "execution_count": 81,
   "metadata": {},
   "outputs": [
    {
     "data": {
      "text/plain": [
       "churn                       1.000000\n",
       "monthly_charges             0.212429\n",
       "senior_citizen              0.154017\n",
       "internet_service_type_id   -0.048956\n",
       "internet_service_type_id   -0.048956\n",
       "total_charges              -0.189770\n",
       "payment_type_id            -0.243537\n",
       "tenure                     -0.350872\n",
       "contract_type_id           -0.395606\n",
       "contract_type_id           -0.395606\n",
       "Name: churn, dtype: float64"
      ]
     },
     "execution_count": 81,
     "metadata": {},
     "output_type": "execute_result"
    }
   ],
   "source": [
    "#this gives the all the correlation with JUST churn\n",
    "telco_corr_churn = telco_correlation['churn'].sort_values(ascending=False)\n",
    "telco_corr_churn\n",
    "\n",
    "## again, senior_citizen is the second highest\n",
    "##THIS will indict my DRIVER of churn!!"
   ]
  },
  {
   "cell_type": "code",
   "execution_count": 82,
   "metadata": {},
   "outputs": [
    {
     "data": {
      "image/png": "[encoded data removed]",
      "text/plain": [
       "<Figure size 1152x648 with 2 Axes>"
      ]
     },
     "metadata": {
      "needs_background": "light"
     },
     "output_type": "display_data"
    }
   ],
   "source": [
    "#heatmap to show correlation of all data\n",
    "plt.figure(figsize=(16,9))\n",
    "\n",
    "sns.heatmap(train.corr(), cmap='YlGnBu', center=0, annot=True)\n",
    "\n",
    "plt.title('Correlation of Telco Data')\n",
    "\n",
    "plt.show()"
   ]
  },
  {
   "cell_type": "code",
   "execution_count": 85,
   "metadata": {},
   "outputs": [
    {
     "data": {
      "text/plain": [
       "0    5174\n",
       "1    1869\n",
       "Name: churn, dtype: int64"
      ]
     },
     "execution_count": 85,
     "metadata": {},
     "output_type": "execute_result"
    }
   ],
   "source": [
    "#find out how many customers churn vs how many do not churn\n",
    "df.churn.value_counts()\n",
    "\n",
    "#this shows that (26.54%) of ALL customers DO churn (1869 out of 7043) "
   ]
  },
  {
   "cell_type": "code",
   "execution_count": 83,
   "metadata": {},
   "outputs": [
    {
     "data": {
      "text/plain": [
       "0    2883\n",
       "1    1060\n",
       "Name: churn, dtype: int64"
      ]
     },
     "execution_count": 83,
     "metadata": {},
     "output_type": "execute_result"
    }
   ],
   "source": [
    "#find out how many customers churn vs how many do not churn\n",
    "train.churn.value_counts()\n",
    "\n",
    "#this shows that (26.88%) of customers in the train dataset DO churn (1060 out of 3943) "
   ]
  },
  {
   "cell_type": "code",
   "execution_count": 84,
   "metadata": {},
   "outputs": [
    {
     "data": {
      "image/png": "[encoded data removed]",
      "text/plain": [
       "<Figure size 720x432 with 1 Axes>"
      ]
     },
     "metadata": {
      "needs_background": "light"
     },
     "output_type": "display_data"
    }
   ],
   "source": [
    "#visualize churn data using a countplot\n",
    "plt.figure(figsize=(10,6))\n",
    "sns.countplot(x='churn', data=train)\n",
    "plt.show()"
   ]
  },
  {
   "cell_type": "code",
   "execution_count": 21,
   "metadata": {},
   "outputs": [
    {
     "data": {
      "text/plain": [
       "(64.76169246059882, 118.75, 18.25)"
      ]
     },
     "execution_count": 21,
     "metadata": {},
     "output_type": "execute_result"
    }
   ],
   "source": [
    "#average monthly charges, max monthly charges, min monthly charges\n",
    "df.monthly_charges.mean(), df.monthly_charges.max(), df.monthly_charges.min()"
   ]
  },
  {
   "cell_type": "code",
   "execution_count": 87,
   "metadata": {},
   "outputs": [
    {
     "data": {
      "text/plain": [
       "(64.61359371037278, 118.65, 18.55)"
      ]
     },
     "execution_count": 87,
     "metadata": {},
     "output_type": "execute_result"
    }
   ],
   "source": [
    "#only using TRAIN data average monthly charges, max monthly charges, min monthly charges\n",
    "train.monthly_charges.mean(), train.monthly_charges.max(), train.monthly_charges.min()"
   ]
  },
  {
   "cell_type": "code",
   "execution_count": 86,
   "metadata": {},
   "outputs": [
    {
     "data": {
      "image/png": "[encoded data removed]",
      "text/plain": [
       "<Figure size 1152x648 with 1 Axes>"
      ]
     },
     "metadata": {
      "needs_background": "light"
     },
     "output_type": "display_data"
    }
   ],
   "source": [
    "#visualize monthly charge data\n",
    "plt.figure(figsize=(16,9))\n",
    "sns.countplot(x='monthly_charges', data=train)\n",
    "plt.show()"
   ]
  },
  {
   "cell_type": "code",
   "execution_count": 23,
   "metadata": {},
   "outputs": [
    {
     "data": {
      "text/plain": [
       "0    5901\n",
       "1    1142\n",
       "Name: senior_citizen, dtype: int64"
      ]
     },
     "execution_count": 23,
     "metadata": {},
     "output_type": "execute_result"
    }
   ],
   "source": [
    "#find out how many are senior citizens and how many are not\n",
    "df.senior_citizen.value_counts()\n",
    "\n",
    "#this shows that 16.21% of all customers are seniors (1142 out of 7043)"
   ]
  },
  {
   "cell_type": "code",
   "execution_count": 88,
   "metadata": {},
   "outputs": [
    {
     "data": {
      "text/plain": [
       "0    3304\n",
       "1     639\n",
       "Name: senior_citizen, dtype: int64"
      ]
     },
     "execution_count": 88,
     "metadata": {},
     "output_type": "execute_result"
    }
   ],
   "source": [
    "#find out how many are senior citizens and how many are not\n",
    "train.senior_citizen.value_counts()\n",
    "\n",
    "#this shows that 16.21% of customers in the train dataset are seniors (639 out of 3943)"
   ]
  },
  {
   "cell_type": "code",
   "execution_count": 89,
   "metadata": {},
   "outputs": [
    {
     "data": {
      "image/png": "[encoded data removed]",
      "text/plain": [
       "<Figure size 720x432 with 1 Axes>"
      ]
     },
     "metadata": {
      "needs_background": "light"
     },
     "output_type": "display_data"
    }
   ],
   "source": [
    "#visualize senior_citizen data using countplot\n",
    "plt.figure(figsize=(10,6))\n",
    "sns.countplot(x='senior_citizen', data=train)\n",
    "plt.show()"
   ]
  },
  {
   "cell_type": "code",
   "execution_count": 90,
   "metadata": {},
   "outputs": [
    {
     "data": {
      "image/png": "[encoded data removed]",
      "text/plain": [
       "<Figure size 720x432 with 1 Axes>"
      ]
     },
     "metadata": {
      "needs_background": "light"
     },
     "output_type": "display_data"
    }
   ],
   "source": [
    "#this plot shows senior citizen (1) vs non-senior citizen (0)\n",
    "## who churn (1) vs do not churn (0)\n",
    "plt.figure(figsize=(10,6))\n",
    "sns.countplot(x='churn', hue='senior_citizen', data=train)\n",
    "plt.show()"
   ]
  },
  {
   "cell_type": "code",
   "execution_count": 26,
   "metadata": {},
   "outputs": [
    {
     "data": {
      "text/plain": [
       "(32.37114865824223, 72, 0)"
      ]
     },
     "execution_count": 26,
     "metadata": {},
     "output_type": "execute_result"
    }
   ],
   "source": [
    "#took at look at tenure out of curiosity\n",
    "#average tenure, max tenure, min tenure??\n",
    "df.tenure.mean(), df.tenure.max(), df.tenure.min()"
   ]
  },
  {
   "cell_type": "code",
   "execution_count": 91,
   "metadata": {},
   "outputs": [
    {
     "data": {
      "text/plain": [
       "(32.22926705554146, 72, 0)"
      ]
     },
     "execution_count": 91,
     "metadata": {},
     "output_type": "execute_result"
    }
   ],
   "source": [
    "#average tenure, max tenure, min tenure??\n",
    "train.tenure.mean(), train.tenure.max(), train.tenure.min()"
   ]
  },
  {
   "cell_type": "code",
   "execution_count": 92,
   "metadata": {},
   "outputs": [
    {
     "data": {
      "image/png": "[encoded data removed]",
      "text/plain": [
       "<Figure size 1152x648 with 1 Axes>"
      ]
     },
     "metadata": {
      "needs_background": "light"
     },
     "output_type": "display_data"
    }
   ],
   "source": [
    "#visualize tenure data\n",
    "plt.figure(figsize=(16,9))\n",
    "sns.countplot(x='tenure', data=train)\n",
    "plt.show()"
   ]
  },
  {
   "cell_type": "code",
   "execution_count": 93,
   "metadata": {},
   "outputs": [
    {
     "data": {
      "text/plain": [
       "1     329\n",
       "72    215\n",
       "2     141\n",
       "3     115\n",
       "4     102\n",
       "Name: tenure, dtype: int64"
      ]
     },
     "execution_count": 93,
     "metadata": {},
     "output_type": "execute_result"
    }
   ],
   "source": [
    "#find the actual count for the top 5 tenures\n",
    "tenure_df = train['tenure'].value_counts().sort_values(ascending=False).head()\n",
    "tenure_df\n",
    "\n",
    "#this shows that 8.34% of all customers only have ONE month of tenure (329 out of 3943)"
   ]
  },
  {
   "cell_type": "code",
   "execution_count": 95,
   "metadata": {},
   "outputs": [
    {
     "data": {
      "text/plain": [
       "20.05    35\n",
       "19.85    29\n",
       "19.90    29\n",
       "19.95    27\n",
       "20.25    26\n",
       "         ..\n",
       "56.65     1\n",
       "64.55     1\n",
       "52.20     1\n",
       "77.85     1\n",
       "51.65     1\n",
       "Name: monthly_charges, Length: 1335, dtype: int64"
      ]
     },
     "execution_count": 95,
     "metadata": {},
     "output_type": "execute_result"
    }
   ],
   "source": [
    "#find the actual count for the top 5 monthly_chages\n",
    "monthly_charges_df = train['monthly_charges'].value_counts().sort_values(ascending=False)\n",
    "monthly_charges_df\n"
   ]
  },
  {
   "cell_type": "markdown",
   "metadata": {},
   "source": [
    "## Takeaways of the Explore process:\n",
    "\n",
    "- 7043 total customers\n",
    "    - of those: \n",
    "        - 5901 are NOT senior_citizen (83.79%) while 1142 ARE senior_citizen (16.21%)\n",
    "        - 5174 do NOT churn (73.46%) while 1869 DO churn (26.54%)\n",
    "- Positive Correlation between churn is strongest between 'monthly_charges' and 'senior_citizen'\n",
    "    - 'senior_citizen' is what interests me most to further explore/test\n"
   ]
  },
  {
   "cell_type": "markdown",
   "metadata": {},
   "source": [
    "_______________"
   ]
  },
  {
   "cell_type": "markdown",
   "metadata": {},
   "source": [
    "### Now.. I will find the appropriate statistical test to use\n",
    "- we are using the two following variables: churn (discrete/categorical) and senior_citizen (discrete/categorical)\n",
    "- these are 2 discrete/categorical variables\n",
    "<br>\n",
    "\n",
    "- **Therefore, I will be using $\\chi^2$ testing**"
   ]
  },
  {
   "cell_type": "code",
   "execution_count": 30,
   "metadata": {},
   "outputs": [
    {
     "data": {
      "text/html": [
       "<div>\n",
       "<style scoped>\n",
       "    .dataframe tbody tr th:only-of-type {\n",
       "        vertical-align: middle;\n",
       "    }\n",
       "\n",
       "    .dataframe tbody tr th {\n",
       "        vertical-align: top;\n",
       "    }\n",
       "\n",
       "    .dataframe thead th {\n",
       "        text-align: right;\n",
       "    }\n",
       "</style>\n",
       "<table border=\"1\" class=\"dataframe\">\n",
       "  <thead>\n",
       "    <tr style=\"text-align: right;\">\n",
       "      <th>senior_citizen</th>\n",
       "      <th>0</th>\n",
       "      <th>1</th>\n",
       "    </tr>\n",
       "    <tr>\n",
       "      <th>churn</th>\n",
       "      <th></th>\n",
       "      <th></th>\n",
       "    </tr>\n",
       "  </thead>\n",
       "  <tbody>\n",
       "    <tr>\n",
       "      <th>0</th>\n",
       "      <td>4508</td>\n",
       "      <td>666</td>\n",
       "    </tr>\n",
       "    <tr>\n",
       "      <th>1</th>\n",
       "      <td>1393</td>\n",
       "      <td>476</td>\n",
       "    </tr>\n",
       "  </tbody>\n",
       "</table>\n",
       "</div>"
      ],
      "text/plain": [
       "senior_citizen     0    1\n",
       "churn                    \n",
       "0               4508  666\n",
       "1               1393  476"
      ]
     },
     "execution_count": 30,
     "metadata": {},
     "output_type": "execute_result"
    }
   ],
   "source": [
    "#create confusion matrix\n",
    "observed = pd.crosstab(df.churn, df.senior_citizen)\n",
    "observed"
   ]
  },
  {
   "cell_type": "code",
   "execution_count": 31,
   "metadata": {},
   "outputs": [],
   "source": [
    "#set alpha\n",
    "alpha = 0.05"
   ]
  },
  {
   "cell_type": "code",
   "execution_count": 32,
   "metadata": {},
   "outputs": [
    {
     "data": {
      "text/plain": [
       "(159.42630036838742,\n",
       " 1.510066805092378e-36,\n",
       " 1,\n",
       " array([[4335.05239245,  838.94760755],\n",
       "        [1565.94760755,  303.05239245]]))"
      ]
     },
     "execution_count": 32,
     "metadata": {},
     "output_type": "execute_result"
    }
   ],
   "source": [
    "#chi2 contingency returns 4 different values\n",
    "chi2, p, degf, expected = stats.chi2_contingency(observed)\n",
    "chi2, p, degf, expected"
   ]
  },
  {
   "cell_type": "code",
   "execution_count": 33,
   "metadata": {},
   "outputs": [
    {
     "name": "stdout",
     "output_type": "stream",
     "text": [
      "Observed\n",
      "\n",
      "[[4508  666]\n",
      " [1393  476]]\n",
      "---------------------\n",
      "Expected\n",
      "\n",
      "[[4335  838]\n",
      " [1565  303]]\n",
      "---------------------\n",
      "\n",
      "chi^2 = 159.4263\n",
      "p     = 0.0000\n"
     ]
    }
   ],
   "source": [
    "## make it easier to read\n",
    "print('Observed\\n')\n",
    "print(observed.values)\n",
    "print('---------------------\\nExpected\\n')\n",
    "print(expected.astype(int))\n",
    "print('---------------------\\n')\n",
    "print(f'chi^2 = {chi2:.4f}')\n",
    "print(f'p     = {p:.4f}')"
   ]
  },
  {
   "cell_type": "markdown",
   "metadata": {},
   "source": [
    "## Hypothosis:\n",
    "\n",
    "- **$H_{0}$**: there is no relationship between churn and customer age\n",
    "<br>\n",
    "\n",
    "- **$H_{a}$**: there is a relationshp between churn and customer age\n",
    "<br>\n"
   ]
  },
  {
   "cell_type": "markdown",
   "metadata": {},
   "source": [
    "- **True Positive**: I predict there is a relationship between churn and customer age and there is a relationship\n",
    "<br>\n",
    "\n",
    "- **True Negative**:I predict there is no relationship between churn and customer age and there is not relationship\n",
    "<br>\n",
    "\n",
    "- **False Positive**: I predict there is a relationship between churn and customer age and there is no relationship\n",
    "<br>\n",
    "\n",
    "- **False Negative**: I predict there is no relationship between churn and customer age and there is a relationship"
   ]
  },
  {
   "cell_type": "markdown",
   "metadata": {},
   "source": [
    "## Further takeaways of the Explore process:\n",
    "\n",
    "- $\\chi^2$  test was used because we were dealing with two discrete variable (churn and senior_citizen)\n"
   ]
  },
  {
   "cell_type": "code",
   "execution_count": 105,
   "metadata": {},
   "outputs": [
    {
     "name": "stdout",
     "output_type": "stream",
     "text": [
      "The p-value is less than the alpha: True\n",
      "Conclusion: We reject the null hypothesis\n",
      "Takeaways: There is a relationship between customer age and churn\n"
     ]
    }
   ],
   "source": [
    "print(f'The p-value is less than the alpha: {p < alpha}')\n",
    "\n",
    "if p< alpha:\n",
    "    print('Conclusion: We reject the null hypothesis')\n",
    "else:\n",
    "    print('Conclusion: We fail to reject the null hypothesis')\n",
    "\n",
    "if p< alpha:\n",
    "    print('Takeaways: There is a relationship between customer age and churn')\n",
    "else:\n",
    "    print('Takeaways: There is no relationship between customer age and churn')"
   ]
  },
  {
   "cell_type": "markdown",
   "metadata": {},
   "source": [
    "<hr style=\"border:2px solid black\"> </hr>"
   ]
  },
  {
   "cell_type": "markdown",
   "metadata": {},
   "source": [
    "# Model and Evaluate"
   ]
  },
  {
   "cell_type": "markdown",
   "metadata": {},
   "source": [
    "Plan --- Acquire --- Prepare --- Explore --- **Model** --- Deliver"
   ]
  },
  {
   "cell_type": "code",
   "execution_count": 35,
   "metadata": {},
   "outputs": [],
   "source": [
    "#we've already split the data in previous steps\n",
    "#train, test = train_test_split(df, test_size=.2, random_state=123)\n",
    "#train, validate = train_test_split(train, test_size=.3, random_state=123)"
   ]
  },
  {
   "cell_type": "code",
   "execution_count": 41,
   "metadata": {},
   "outputs": [
    {
     "data": {
      "text/plain": [
       "0    2883\n",
       "1    1060\n",
       "Name: churn, dtype: int64"
      ]
     },
     "execution_count": 41,
     "metadata": {},
     "output_type": "execute_result"
    }
   ],
   "source": [
    "#get value count to determine what baseline will be equal to\n",
    "train.churn.value_counts()"
   ]
  },
  {
   "cell_type": "code",
   "execution_count": 42,
   "metadata": {},
   "outputs": [],
   "source": [
    "#create baseline\n",
    "#because the majority (in value count) was '0', we will use this as our baseline\n",
    "train['baseline_pred'] = 0"
   ]
  },
  {
   "cell_type": "code",
   "execution_count": 43,
   "metadata": {},
   "outputs": [
    {
     "name": "stdout",
     "output_type": "stream",
     "text": [
      "The baseline accuracy is: 73.12%\n"
     ]
    }
   ],
   "source": [
    "##print statement for accuracy of baseline\n",
    "baseline_accuracy = (train.churn == train.baseline_pred).mean()\n",
    "print(f'The baseline accuracy is: {baseline_accuracy:.2%}')"
   ]
  },
  {
   "cell_type": "markdown",
   "metadata": {},
   "source": [
    "## MVP Models\n",
    "- I'm going to try Logistic Regression, DecisionTree, and RandomForest Models with\n",
    "    - 'senior_citizen'\n",
    "    - 'tenure'\n",
    "    - 'monthly_charges'\n",
    "- My goal is to beat my 73.12% baseline accuracy.\n",
    "- Hyperparameters I've adjusted are:\n",
    "    - setting the max_depth for the DecisionTree model to max_depth=5 to avoid overfitting\n",
    "    - setting the.max_depth for the Random Forest Model to max_depth=10 to avoid overfitting\n",
    "    - setting the random_state=123 for DecistionTree, RandomForest, and LogisticRegression models."
   ]
  },
  {
   "cell_type": "code",
   "execution_count": 106,
   "metadata": {},
   "outputs": [],
   "source": [
    "#specify columns to use\n",
    "X_col= ['senior_citizen','tenure', 'monthly_charges']\n",
    "y_col= 'churn'"
   ]
  },
  {
   "cell_type": "code",
   "execution_count": 107,
   "metadata": {},
   "outputs": [],
   "source": [
    "#specify train, validate, test\n",
    "X_train = train[X_col]\n",
    "y_train= train[y_col]\n",
    "\n",
    "X_validate = validate[X_col]\n",
    "y_validate= validate[y_col]\n",
    "\n",
    "X_test = test[X_col]\n",
    "y_test= test[y_col]"
   ]
  },
  {
   "cell_type": "code",
   "execution_count": 108,
   "metadata": {},
   "outputs": [
    {
     "data": {
      "text/plain": [
       "((3943, 26), (1691, 26), (1409, 26))"
      ]
     },
     "execution_count": 108,
     "metadata": {},
     "output_type": "execute_result"
    }
   ],
   "source": [
    "#get shape of sets\n",
    "train.shape, validate.shape, test.shape"
   ]
  },
  {
   "cell_type": "code",
   "execution_count": 109,
   "metadata": {},
   "outputs": [
    {
     "data": {
      "text/plain": [
       "((3943, 3), (3943,))"
      ]
     },
     "execution_count": 109,
     "metadata": {},
     "output_type": "execute_result"
    }
   ],
   "source": [
    "#shape of train set\n",
    "X_train.shape, y_train.shape"
   ]
  },
  {
   "cell_type": "code",
   "execution_count": 110,
   "metadata": {},
   "outputs": [
    {
     "data": {
      "text/html": [
       "<div>\n",
       "<style scoped>\n",
       "    .dataframe tbody tr th:only-of-type {\n",
       "        vertical-align: middle;\n",
       "    }\n",
       "\n",
       "    .dataframe tbody tr th {\n",
       "        vertical-align: top;\n",
       "    }\n",
       "\n",
       "    .dataframe thead th {\n",
       "        text-align: right;\n",
       "    }\n",
       "</style>\n",
       "<table border=\"1\" class=\"dataframe\">\n",
       "  <thead>\n",
       "    <tr style=\"text-align: right;\">\n",
       "      <th></th>\n",
       "      <th>senior_citizen</th>\n",
       "      <th>tenure</th>\n",
       "      <th>monthly_charges</th>\n",
       "    </tr>\n",
       "  </thead>\n",
       "  <tbody>\n",
       "    <tr>\n",
       "      <th>4604</th>\n",
       "      <td>1</td>\n",
       "      <td>1</td>\n",
       "      <td>75.30</td>\n",
       "    </tr>\n",
       "    <tr>\n",
       "      <th>5566</th>\n",
       "      <td>0</td>\n",
       "      <td>71</td>\n",
       "      <td>19.10</td>\n",
       "    </tr>\n",
       "    <tr>\n",
       "      <th>6204</th>\n",
       "      <td>0</td>\n",
       "      <td>19</td>\n",
       "      <td>19.80</td>\n",
       "    </tr>\n",
       "    <tr>\n",
       "      <th>5837</th>\n",
       "      <td>0</td>\n",
       "      <td>56</td>\n",
       "      <td>24.15</td>\n",
       "    </tr>\n",
       "    <tr>\n",
       "      <th>1276</th>\n",
       "      <td>1</td>\n",
       "      <td>13</td>\n",
       "      <td>45.30</td>\n",
       "    </tr>\n",
       "  </tbody>\n",
       "</table>\n",
       "</div>"
      ],
      "text/plain": [
       "      senior_citizen  tenure  monthly_charges\n",
       "4604               1       1            75.30\n",
       "5566               0      71            19.10\n",
       "6204               0      19            19.80\n",
       "5837               0      56            24.15\n",
       "1276               1      13            45.30"
      ]
     },
     "execution_count": 110,
     "metadata": {},
     "output_type": "execute_result"
    }
   ],
   "source": [
    "#take a look at X_train data\n",
    "X_train.head()"
   ]
  },
  {
   "cell_type": "markdown",
   "metadata": {},
   "source": [
    "_______________________"
   ]
  },
  {
   "cell_type": "markdown",
   "metadata": {},
   "source": [
    "# Evaluate MVP Models"
   ]
  },
  {
   "cell_type": "markdown",
   "metadata": {},
   "source": [
    "## Logistic Regression Model "
   ]
  },
  {
   "cell_type": "code",
   "execution_count": 44,
   "metadata": {},
   "outputs": [],
   "source": [
    "#import\n",
    "from sklearn.linear_model import LogisticRegression"
   ]
  },
  {
   "cell_type": "code",
   "execution_count": 45,
   "metadata": {},
   "outputs": [],
   "source": [
    "#Define the logistic regression model\n",
    "logit_model = LogisticRegression(C=0.1, random_state= 123)"
   ]
  },
  {
   "cell_type": "code",
   "execution_count": 46,
   "metadata": {},
   "outputs": [
    {
     "data": {
      "text/plain": [
       "LogisticRegression(C=0.1, random_state=123)"
      ]
     },
     "execution_count": 46,
     "metadata": {},
     "output_type": "execute_result"
    }
   ],
   "source": [
    "#fit the model with train data \n",
    "logit_model.fit(X_train, y_train)"
   ]
  },
  {
   "cell_type": "code",
   "execution_count": 47,
   "metadata": {},
   "outputs": [],
   "source": [
    "#now use the model to make predictions\n",
    "y_pred = logit_model.predict(X_train)"
   ]
  },
  {
   "cell_type": "code",
   "execution_count": 48,
   "metadata": {},
   "outputs": [
    {
     "data": {
      "text/html": [
       "<div>\n",
       "<style scoped>\n",
       "    .dataframe tbody tr th:only-of-type {\n",
       "        vertical-align: middle;\n",
       "    }\n",
       "\n",
       "    .dataframe tbody tr th {\n",
       "        vertical-align: top;\n",
       "    }\n",
       "\n",
       "    .dataframe thead th {\n",
       "        text-align: right;\n",
       "    }\n",
       "</style>\n",
       "<table border=\"1\" class=\"dataframe\">\n",
       "  <thead>\n",
       "    <tr style=\"text-align: right;\">\n",
       "      <th></th>\n",
       "      <th>0</th>\n",
       "      <th>1</th>\n",
       "      <th>accuracy</th>\n",
       "      <th>macro avg</th>\n",
       "      <th>weighted avg</th>\n",
       "    </tr>\n",
       "  </thead>\n",
       "  <tbody>\n",
       "    <tr>\n",
       "      <th>precision</th>\n",
       "      <td>0.826101</td>\n",
       "      <td>0.650127</td>\n",
       "      <td>0.791022</td>\n",
       "      <td>0.738114</td>\n",
       "      <td>0.778794</td>\n",
       "    </tr>\n",
       "    <tr>\n",
       "      <th>recall</th>\n",
       "      <td>0.904613</td>\n",
       "      <td>0.482075</td>\n",
       "      <td>0.791022</td>\n",
       "      <td>0.693344</td>\n",
       "      <td>0.791022</td>\n",
       "    </tr>\n",
       "    <tr>\n",
       "      <th>f1-score</th>\n",
       "      <td>0.863576</td>\n",
       "      <td>0.553629</td>\n",
       "      <td>0.791022</td>\n",
       "      <td>0.708603</td>\n",
       "      <td>0.780253</td>\n",
       "    </tr>\n",
       "    <tr>\n",
       "      <th>support</th>\n",
       "      <td>2883.000000</td>\n",
       "      <td>1060.000000</td>\n",
       "      <td>0.791022</td>\n",
       "      <td>3943.000000</td>\n",
       "      <td>3943.000000</td>\n",
       "    </tr>\n",
       "  </tbody>\n",
       "</table>\n",
       "</div>"
      ],
      "text/plain": [
       "                     0            1  accuracy    macro avg  weighted avg\n",
       "precision     0.826101     0.650127  0.791022     0.738114      0.778794\n",
       "recall        0.904613     0.482075  0.791022     0.693344      0.791022\n",
       "f1-score      0.863576     0.553629  0.791022     0.708603      0.780253\n",
       "support    2883.000000  1060.000000  0.791022  3943.000000   3943.000000"
      ]
     },
     "execution_count": 48,
     "metadata": {},
     "output_type": "execute_result"
    }
   ],
   "source": [
    "#classifcation report\n",
    "pd.DataFrame(classification_report(y_train, y_pred, output_dict=True))"
   ]
  },
  {
   "cell_type": "code",
   "execution_count": 49,
   "metadata": {},
   "outputs": [],
   "source": [
    "#import function created to give score, rates, confusion matrix, and classification report\n",
    "import model_func"
   ]
  },
  {
   "cell_type": "code",
   "execution_count": 50,
   "metadata": {},
   "outputs": [
    {
     "name": "stdout",
     "output_type": "stream",
     "text": [
      "\n",
      "    The accuracy for our model is 79.1022%\n",
      "    The True Positive Rate is 48.208%,    The False Positive Rate is 9.539%,\n",
      "    The True Negative Rate is 90.461%,    The False Negative Rate is 51.792%\n",
      "    ________________________________________________________________________________\n",
      "    \n",
      "\n",
      "    The positive is  'churned'\n",
      "    Confusion Matrix\n",
      "    \n"
     ]
    },
    {
     "data": {
      "text/html": [
       "<div>\n",
       "<style scoped>\n",
       "    .dataframe tbody tr th:only-of-type {\n",
       "        vertical-align: middle;\n",
       "    }\n",
       "\n",
       "    .dataframe tbody tr th {\n",
       "        vertical-align: top;\n",
       "    }\n",
       "\n",
       "    .dataframe thead th {\n",
       "        text-align: right;\n",
       "    }\n",
       "</style>\n",
       "<table border=\"1\" class=\"dataframe\">\n",
       "  <thead>\n",
       "    <tr style=\"text-align: right;\">\n",
       "      <th></th>\n",
       "      <th>pred_didint_churn</th>\n",
       "      <th>pred_churned</th>\n",
       "    </tr>\n",
       "  </thead>\n",
       "  <tbody>\n",
       "    <tr>\n",
       "      <th>actual_didnt_churn</th>\n",
       "      <td>True Negative: 2608</td>\n",
       "      <td>False positive: 275</td>\n",
       "    </tr>\n",
       "    <tr>\n",
       "      <th>actual_churned</th>\n",
       "      <td>False Negative: 549</td>\n",
       "      <td>True Positive: 511</td>\n",
       "    </tr>\n",
       "  </tbody>\n",
       "</table>\n",
       "</div>"
      ],
      "text/plain": [
       "                      pred_didint_churn         pred_churned\n",
       "actual_didnt_churn  True Negative: 2608  False positive: 275\n",
       "actual_churned      False Negative: 549   True Positive: 511"
      ]
     },
     "metadata": {},
     "output_type": "display_data"
    },
    {
     "name": "stdout",
     "output_type": "stream",
     "text": [
      "\n",
      "    ________________________________________________________________________________\n",
      "    \n",
      "    Classification Report:\n",
      "    \n"
     ]
    },
    {
     "data": {
      "text/html": [
       "<div>\n",
       "<style scoped>\n",
       "    .dataframe tbody tr th:only-of-type {\n",
       "        vertical-align: middle;\n",
       "    }\n",
       "\n",
       "    .dataframe tbody tr th {\n",
       "        vertical-align: top;\n",
       "    }\n",
       "\n",
       "    .dataframe thead th {\n",
       "        text-align: right;\n",
       "    }\n",
       "</style>\n",
       "<table border=\"1\" class=\"dataframe\">\n",
       "  <thead>\n",
       "    <tr style=\"text-align: right;\">\n",
       "      <th></th>\n",
       "      <th>precision</th>\n",
       "      <th>recall</th>\n",
       "      <th>f1-score</th>\n",
       "      <th>support</th>\n",
       "    </tr>\n",
       "  </thead>\n",
       "  <tbody>\n",
       "    <tr>\n",
       "      <th>didnt churn</th>\n",
       "      <td>0.826101</td>\n",
       "      <td>0.904613</td>\n",
       "      <td>0.863576</td>\n",
       "      <td>2883.000000</td>\n",
       "    </tr>\n",
       "    <tr>\n",
       "      <th>churned</th>\n",
       "      <td>0.650127</td>\n",
       "      <td>0.482075</td>\n",
       "      <td>0.553629</td>\n",
       "      <td>1060.000000</td>\n",
       "    </tr>\n",
       "    <tr>\n",
       "      <th>accuracy</th>\n",
       "      <td>0.791022</td>\n",
       "      <td>0.791022</td>\n",
       "      <td>0.791022</td>\n",
       "      <td>0.791022</td>\n",
       "    </tr>\n",
       "    <tr>\n",
       "      <th>macro avg</th>\n",
       "      <td>0.738114</td>\n",
       "      <td>0.693344</td>\n",
       "      <td>0.708603</td>\n",
       "      <td>3943.000000</td>\n",
       "    </tr>\n",
       "    <tr>\n",
       "      <th>weighted avg</th>\n",
       "      <td>0.778794</td>\n",
       "      <td>0.791022</td>\n",
       "      <td>0.780253</td>\n",
       "      <td>3943.000000</td>\n",
       "    </tr>\n",
       "  </tbody>\n",
       "</table>\n",
       "</div>"
      ],
      "text/plain": [
       "              precision    recall  f1-score      support\n",
       "didnt churn    0.826101  0.904613  0.863576  2883.000000\n",
       "churned        0.650127  0.482075  0.553629  1060.000000\n",
       "accuracy       0.791022  0.791022  0.791022     0.791022\n",
       "macro avg      0.738114  0.693344  0.708603  3943.000000\n",
       "weighted avg   0.778794  0.791022  0.780253  3943.000000"
      ]
     },
     "metadata": {},
     "output_type": "display_data"
    }
   ],
   "source": [
    "model_func.model_performs(X_train, y_train, logit_model)"
   ]
  },
  {
   "cell_type": "code",
   "execution_count": 51,
   "metadata": {},
   "outputs": [
    {
     "name": "stdout",
     "output_type": "stream",
     "text": [
      "\n",
      "    The accuracy for our model is 78.8291%\n",
      "    The True Positive Rate is 46.444%,    The False Positive Rate is 9.428%,\n",
      "    The True Negative Rate is 90.572%,    The False Negative Rate is 53.556%\n",
      "    ________________________________________________________________________________\n",
      "    \n",
      "\n",
      "    The positive is  'churned'\n",
      "    Confusion Matrix\n",
      "    \n"
     ]
    },
    {
     "data": {
      "text/html": [
       "<div>\n",
       "<style scoped>\n",
       "    .dataframe tbody tr th:only-of-type {\n",
       "        vertical-align: middle;\n",
       "    }\n",
       "\n",
       "    .dataframe tbody tr th {\n",
       "        vertical-align: top;\n",
       "    }\n",
       "\n",
       "    .dataframe thead th {\n",
       "        text-align: right;\n",
       "    }\n",
       "</style>\n",
       "<table border=\"1\" class=\"dataframe\">\n",
       "  <thead>\n",
       "    <tr style=\"text-align: right;\">\n",
       "      <th></th>\n",
       "      <th>pred_didint_churn</th>\n",
       "      <th>pred_churned</th>\n",
       "    </tr>\n",
       "  </thead>\n",
       "  <tbody>\n",
       "    <tr>\n",
       "      <th>actual_didnt_churn</th>\n",
       "      <td>True Negative: 1124</td>\n",
       "      <td>False positive: 117</td>\n",
       "    </tr>\n",
       "    <tr>\n",
       "      <th>actual_churned</th>\n",
       "      <td>False Negative: 241</td>\n",
       "      <td>True Positive: 209</td>\n",
       "    </tr>\n",
       "  </tbody>\n",
       "</table>\n",
       "</div>"
      ],
      "text/plain": [
       "                      pred_didint_churn         pred_churned\n",
       "actual_didnt_churn  True Negative: 1124  False positive: 117\n",
       "actual_churned      False Negative: 241   True Positive: 209"
      ]
     },
     "metadata": {},
     "output_type": "display_data"
    },
    {
     "name": "stdout",
     "output_type": "stream",
     "text": [
      "\n",
      "    ________________________________________________________________________________\n",
      "    \n",
      "    Classification Report:\n",
      "    \n"
     ]
    },
    {
     "data": {
      "text/html": [
       "<div>\n",
       "<style scoped>\n",
       "    .dataframe tbody tr th:only-of-type {\n",
       "        vertical-align: middle;\n",
       "    }\n",
       "\n",
       "    .dataframe tbody tr th {\n",
       "        vertical-align: top;\n",
       "    }\n",
       "\n",
       "    .dataframe thead th {\n",
       "        text-align: right;\n",
       "    }\n",
       "</style>\n",
       "<table border=\"1\" class=\"dataframe\">\n",
       "  <thead>\n",
       "    <tr style=\"text-align: right;\">\n",
       "      <th></th>\n",
       "      <th>precision</th>\n",
       "      <th>recall</th>\n",
       "      <th>f1-score</th>\n",
       "      <th>support</th>\n",
       "    </tr>\n",
       "  </thead>\n",
       "  <tbody>\n",
       "    <tr>\n",
       "      <th>didnt churn</th>\n",
       "      <td>0.823443</td>\n",
       "      <td>0.905721</td>\n",
       "      <td>0.862625</td>\n",
       "      <td>1241.000000</td>\n",
       "    </tr>\n",
       "    <tr>\n",
       "      <th>churned</th>\n",
       "      <td>0.641104</td>\n",
       "      <td>0.464444</td>\n",
       "      <td>0.538660</td>\n",
       "      <td>450.000000</td>\n",
       "    </tr>\n",
       "    <tr>\n",
       "      <th>accuracy</th>\n",
       "      <td>0.788291</td>\n",
       "      <td>0.788291</td>\n",
       "      <td>0.788291</td>\n",
       "      <td>0.788291</td>\n",
       "    </tr>\n",
       "    <tr>\n",
       "      <th>macro avg</th>\n",
       "      <td>0.732274</td>\n",
       "      <td>0.685083</td>\n",
       "      <td>0.700642</td>\n",
       "      <td>1691.000000</td>\n",
       "    </tr>\n",
       "    <tr>\n",
       "      <th>weighted avg</th>\n",
       "      <td>0.774920</td>\n",
       "      <td>0.788291</td>\n",
       "      <td>0.776413</td>\n",
       "      <td>1691.000000</td>\n",
       "    </tr>\n",
       "  </tbody>\n",
       "</table>\n",
       "</div>"
      ],
      "text/plain": [
       "              precision    recall  f1-score      support\n",
       "didnt churn    0.823443  0.905721  0.862625  1241.000000\n",
       "churned        0.641104  0.464444  0.538660   450.000000\n",
       "accuracy       0.788291  0.788291  0.788291     0.788291\n",
       "macro avg      0.732274  0.685083  0.700642  1691.000000\n",
       "weighted avg   0.774920  0.788291  0.776413  1691.000000"
      ]
     },
     "metadata": {},
     "output_type": "display_data"
    }
   ],
   "source": [
    "model_func.model_performs(X_validate, y_validate, logit_model)"
   ]
  },
  {
   "cell_type": "markdown",
   "metadata": {},
   "source": [
    "### Logistic Regression Model Takeaways: \n",
    "\n",
    "- Logistic Regression Model has an accuracy of 79.10% using the train set\n",
    "- Logistic Regression Model has an accuracy of 78.83% using the validate set\n",
    "- Both are **higher** than the baseline accuracy of 73.12% \n",
    "    "
   ]
  },
  {
   "cell_type": "markdown",
   "metadata": {},
   "source": [
    "___________"
   ]
  },
  {
   "cell_type": "markdown",
   "metadata": {},
   "source": [
    "## Random Forest Model"
   ]
  },
  {
   "cell_type": "code",
   "execution_count": 52,
   "metadata": {},
   "outputs": [],
   "source": [
    "#import\n",
    "from sklearn.ensemble import RandomForestClassifier"
   ]
  },
  {
   "cell_type": "code",
   "execution_count": 53,
   "metadata": {},
   "outputs": [],
   "source": [
    "#make our thing\n",
    "rf_model= RandomForestClassifier(min_samples_leaf = 1, max_depth = 10, random_state= 123)"
   ]
  },
  {
   "cell_type": "code",
   "execution_count": 54,
   "metadata": {},
   "outputs": [
    {
     "data": {
      "text/plain": [
       "RandomForestClassifier(max_depth=10, random_state=123)"
      ]
     },
     "execution_count": 54,
     "metadata": {},
     "output_type": "execute_result"
    }
   ],
   "source": [
    "#fit the thing (ONLY on train set!!)\n",
    "rf_model.fit(X_train, y_train)"
   ]
  },
  {
   "cell_type": "code",
   "execution_count": 55,
   "metadata": {},
   "outputs": [
    {
     "name": "stdout",
     "output_type": "stream",
     "text": [
      "\n",
      "    The accuracy for our model is 87.2939%\n",
      "    The True Positive Rate is 66.981%,    The False Positive Rate is 5.238%,\n",
      "    The True Negative Rate is 94.762%,    The False Negative Rate is 33.019%\n",
      "    ________________________________________________________________________________\n",
      "    \n",
      "\n",
      "    The positive is  'churned'\n",
      "    Confusion Matrix\n",
      "    \n"
     ]
    },
    {
     "data": {
      "text/html": [
       "<div>\n",
       "<style scoped>\n",
       "    .dataframe tbody tr th:only-of-type {\n",
       "        vertical-align: middle;\n",
       "    }\n",
       "\n",
       "    .dataframe tbody tr th {\n",
       "        vertical-align: top;\n",
       "    }\n",
       "\n",
       "    .dataframe thead th {\n",
       "        text-align: right;\n",
       "    }\n",
       "</style>\n",
       "<table border=\"1\" class=\"dataframe\">\n",
       "  <thead>\n",
       "    <tr style=\"text-align: right;\">\n",
       "      <th></th>\n",
       "      <th>pred_didint_churn</th>\n",
       "      <th>pred_churned</th>\n",
       "    </tr>\n",
       "  </thead>\n",
       "  <tbody>\n",
       "    <tr>\n",
       "      <th>actual_didnt_churn</th>\n",
       "      <td>True Negative: 2732</td>\n",
       "      <td>False positive: 151</td>\n",
       "    </tr>\n",
       "    <tr>\n",
       "      <th>actual_churned</th>\n",
       "      <td>False Negative: 350</td>\n",
       "      <td>True Positive: 710</td>\n",
       "    </tr>\n",
       "  </tbody>\n",
       "</table>\n",
       "</div>"
      ],
      "text/plain": [
       "                      pred_didint_churn         pred_churned\n",
       "actual_didnt_churn  True Negative: 2732  False positive: 151\n",
       "actual_churned      False Negative: 350   True Positive: 710"
      ]
     },
     "metadata": {},
     "output_type": "display_data"
    },
    {
     "name": "stdout",
     "output_type": "stream",
     "text": [
      "\n",
      "    ________________________________________________________________________________\n",
      "    \n",
      "    Classification Report:\n",
      "    \n"
     ]
    },
    {
     "data": {
      "text/html": [
       "<div>\n",
       "<style scoped>\n",
       "    .dataframe tbody tr th:only-of-type {\n",
       "        vertical-align: middle;\n",
       "    }\n",
       "\n",
       "    .dataframe tbody tr th {\n",
       "        vertical-align: top;\n",
       "    }\n",
       "\n",
       "    .dataframe thead th {\n",
       "        text-align: right;\n",
       "    }\n",
       "</style>\n",
       "<table border=\"1\" class=\"dataframe\">\n",
       "  <thead>\n",
       "    <tr style=\"text-align: right;\">\n",
       "      <th></th>\n",
       "      <th>precision</th>\n",
       "      <th>recall</th>\n",
       "      <th>f1-score</th>\n",
       "      <th>support</th>\n",
       "    </tr>\n",
       "  </thead>\n",
       "  <tbody>\n",
       "    <tr>\n",
       "      <th>didnt churn</th>\n",
       "      <td>0.886437</td>\n",
       "      <td>0.947624</td>\n",
       "      <td>0.916010</td>\n",
       "      <td>2883.000000</td>\n",
       "    </tr>\n",
       "    <tr>\n",
       "      <th>churned</th>\n",
       "      <td>0.824623</td>\n",
       "      <td>0.669811</td>\n",
       "      <td>0.739198</td>\n",
       "      <td>1060.000000</td>\n",
       "    </tr>\n",
       "    <tr>\n",
       "      <th>accuracy</th>\n",
       "      <td>0.872939</td>\n",
       "      <td>0.872939</td>\n",
       "      <td>0.872939</td>\n",
       "      <td>0.872939</td>\n",
       "    </tr>\n",
       "    <tr>\n",
       "      <th>macro avg</th>\n",
       "      <td>0.855530</td>\n",
       "      <td>0.808718</td>\n",
       "      <td>0.827604</td>\n",
       "      <td>3943.000000</td>\n",
       "    </tr>\n",
       "    <tr>\n",
       "      <th>weighted avg</th>\n",
       "      <td>0.869820</td>\n",
       "      <td>0.872939</td>\n",
       "      <td>0.868478</td>\n",
       "      <td>3943.000000</td>\n",
       "    </tr>\n",
       "  </tbody>\n",
       "</table>\n",
       "</div>"
      ],
      "text/plain": [
       "              precision    recall  f1-score      support\n",
       "didnt churn    0.886437  0.947624  0.916010  2883.000000\n",
       "churned        0.824623  0.669811  0.739198  1060.000000\n",
       "accuracy       0.872939  0.872939  0.872939     0.872939\n",
       "macro avg      0.855530  0.808718  0.827604  3943.000000\n",
       "weighted avg   0.869820  0.872939  0.868478  3943.000000"
      ]
     },
     "metadata": {},
     "output_type": "display_data"
    }
   ],
   "source": [
    "#use the thing\n",
    "#train data set score, confusion matrix and classification report\n",
    "model_func.model_performs(X_train, y_train, rf_model)"
   ]
  },
  {
   "cell_type": "code",
   "execution_count": 56,
   "metadata": {},
   "outputs": [
    {
     "name": "stdout",
     "output_type": "stream",
     "text": [
      "\n",
      "    The accuracy for our model is 78.1195%\n",
      "    The True Positive Rate is 46.889%,    The False Positive Rate is 10.556%,\n",
      "    The True Negative Rate is 89.444%,    The False Negative Rate is 53.111%\n",
      "    ________________________________________________________________________________\n",
      "    \n",
      "\n",
      "    The positive is  'churned'\n",
      "    Confusion Matrix\n",
      "    \n"
     ]
    },
    {
     "data": {
      "text/html": [
       "<div>\n",
       "<style scoped>\n",
       "    .dataframe tbody tr th:only-of-type {\n",
       "        vertical-align: middle;\n",
       "    }\n",
       "\n",
       "    .dataframe tbody tr th {\n",
       "        vertical-align: top;\n",
       "    }\n",
       "\n",
       "    .dataframe thead th {\n",
       "        text-align: right;\n",
       "    }\n",
       "</style>\n",
       "<table border=\"1\" class=\"dataframe\">\n",
       "  <thead>\n",
       "    <tr style=\"text-align: right;\">\n",
       "      <th></th>\n",
       "      <th>pred_didint_churn</th>\n",
       "      <th>pred_churned</th>\n",
       "    </tr>\n",
       "  </thead>\n",
       "  <tbody>\n",
       "    <tr>\n",
       "      <th>actual_didnt_churn</th>\n",
       "      <td>True Negative: 1110</td>\n",
       "      <td>False positive: 131</td>\n",
       "    </tr>\n",
       "    <tr>\n",
       "      <th>actual_churned</th>\n",
       "      <td>False Negative: 239</td>\n",
       "      <td>True Positive: 211</td>\n",
       "    </tr>\n",
       "  </tbody>\n",
       "</table>\n",
       "</div>"
      ],
      "text/plain": [
       "                      pred_didint_churn         pred_churned\n",
       "actual_didnt_churn  True Negative: 1110  False positive: 131\n",
       "actual_churned      False Negative: 239   True Positive: 211"
      ]
     },
     "metadata": {},
     "output_type": "display_data"
    },
    {
     "name": "stdout",
     "output_type": "stream",
     "text": [
      "\n",
      "    ________________________________________________________________________________\n",
      "    \n",
      "    Classification Report:\n",
      "    \n"
     ]
    },
    {
     "data": {
      "text/html": [
       "<div>\n",
       "<style scoped>\n",
       "    .dataframe tbody tr th:only-of-type {\n",
       "        vertical-align: middle;\n",
       "    }\n",
       "\n",
       "    .dataframe tbody tr th {\n",
       "        vertical-align: top;\n",
       "    }\n",
       "\n",
       "    .dataframe thead th {\n",
       "        text-align: right;\n",
       "    }\n",
       "</style>\n",
       "<table border=\"1\" class=\"dataframe\">\n",
       "  <thead>\n",
       "    <tr style=\"text-align: right;\">\n",
       "      <th></th>\n",
       "      <th>precision</th>\n",
       "      <th>recall</th>\n",
       "      <th>f1-score</th>\n",
       "      <th>support</th>\n",
       "    </tr>\n",
       "  </thead>\n",
       "  <tbody>\n",
       "    <tr>\n",
       "      <th>didnt churn</th>\n",
       "      <td>0.822832</td>\n",
       "      <td>0.894440</td>\n",
       "      <td>0.857143</td>\n",
       "      <td>1241.000000</td>\n",
       "    </tr>\n",
       "    <tr>\n",
       "      <th>churned</th>\n",
       "      <td>0.616959</td>\n",
       "      <td>0.468889</td>\n",
       "      <td>0.532828</td>\n",
       "      <td>450.000000</td>\n",
       "    </tr>\n",
       "    <tr>\n",
       "      <th>accuracy</th>\n",
       "      <td>0.781195</td>\n",
       "      <td>0.781195</td>\n",
       "      <td>0.781195</td>\n",
       "      <td>0.781195</td>\n",
       "    </tr>\n",
       "    <tr>\n",
       "      <th>macro avg</th>\n",
       "      <td>0.719895</td>\n",
       "      <td>0.681664</td>\n",
       "      <td>0.694986</td>\n",
       "      <td>1691.000000</td>\n",
       "    </tr>\n",
       "    <tr>\n",
       "      <th>weighted avg</th>\n",
       "      <td>0.768046</td>\n",
       "      <td>0.781195</td>\n",
       "      <td>0.770838</td>\n",
       "      <td>1691.000000</td>\n",
       "    </tr>\n",
       "  </tbody>\n",
       "</table>\n",
       "</div>"
      ],
      "text/plain": [
       "              precision    recall  f1-score      support\n",
       "didnt churn    0.822832  0.894440  0.857143  1241.000000\n",
       "churned        0.616959  0.468889  0.532828   450.000000\n",
       "accuracy       0.781195  0.781195  0.781195     0.781195\n",
       "macro avg      0.719895  0.681664  0.694986  1691.000000\n",
       "weighted avg   0.768046  0.781195  0.770838  1691.000000"
      ]
     },
     "metadata": {},
     "output_type": "display_data"
    }
   ],
   "source": [
    "#use the thing\n",
    "#validate data set score, confusion matrix and classification report\n",
    "model_func.model_performs(X_validate, y_validate, rf_model)"
   ]
  },
  {
   "cell_type": "markdown",
   "metadata": {},
   "source": [
    "### Random Forest Model Takeaways: \n",
    "\n",
    "- Random Forest Model has an accuracy of 87.29% using the train set\n",
    "- Random Forest Model has an accuracy of 78.12% using the validate set\n",
    "- Both are **higher** than the baseline accuracy of 73.12% \n",
    "- **but** there is *too much* difference between train and validate set (too overfit)\n"
   ]
  },
  {
   "cell_type": "markdown",
   "metadata": {},
   "source": [
    "___________________"
   ]
  },
  {
   "cell_type": "markdown",
   "metadata": {},
   "source": [
    "## Decision Tree Model"
   ]
  },
  {
   "cell_type": "code",
   "execution_count": 57,
   "metadata": {},
   "outputs": [],
   "source": [
    "#create model\n",
    "dt_model = DecisionTreeClassifier(max_depth=5)"
   ]
  },
  {
   "cell_type": "code",
   "execution_count": 58,
   "metadata": {},
   "outputs": [
    {
     "data": {
      "text/plain": [
       "DecisionTreeClassifier(max_depth=5)"
      ]
     },
     "execution_count": 58,
     "metadata": {},
     "output_type": "execute_result"
    }
   ],
   "source": [
    "#fit model\n",
    "dt_model.fit(X_train, y_train)"
   ]
  },
  {
   "cell_type": "code",
   "execution_count": 59,
   "metadata": {},
   "outputs": [
    {
     "name": "stdout",
     "output_type": "stream",
     "text": [
      "\n",
      "    The accuracy for our model is 79.6855%\n",
      "    The True Positive Rate is 55.283%,    The False Positive Rate is 11.342%,\n",
      "    The True Negative Rate is 88.658%,    The False Negative Rate is 44.717%\n",
      "    ________________________________________________________________________________\n",
      "    \n",
      "\n",
      "    The positive is  'churned'\n",
      "    Confusion Matrix\n",
      "    \n"
     ]
    },
    {
     "data": {
      "text/html": [
       "<div>\n",
       "<style scoped>\n",
       "    .dataframe tbody tr th:only-of-type {\n",
       "        vertical-align: middle;\n",
       "    }\n",
       "\n",
       "    .dataframe tbody tr th {\n",
       "        vertical-align: top;\n",
       "    }\n",
       "\n",
       "    .dataframe thead th {\n",
       "        text-align: right;\n",
       "    }\n",
       "</style>\n",
       "<table border=\"1\" class=\"dataframe\">\n",
       "  <thead>\n",
       "    <tr style=\"text-align: right;\">\n",
       "      <th></th>\n",
       "      <th>pred_didint_churn</th>\n",
       "      <th>pred_churned</th>\n",
       "    </tr>\n",
       "  </thead>\n",
       "  <tbody>\n",
       "    <tr>\n",
       "      <th>actual_didnt_churn</th>\n",
       "      <td>True Negative: 2556</td>\n",
       "      <td>False positive: 327</td>\n",
       "    </tr>\n",
       "    <tr>\n",
       "      <th>actual_churned</th>\n",
       "      <td>False Negative: 474</td>\n",
       "      <td>True Positive: 586</td>\n",
       "    </tr>\n",
       "  </tbody>\n",
       "</table>\n",
       "</div>"
      ],
      "text/plain": [
       "                      pred_didint_churn         pred_churned\n",
       "actual_didnt_churn  True Negative: 2556  False positive: 327\n",
       "actual_churned      False Negative: 474   True Positive: 586"
      ]
     },
     "metadata": {},
     "output_type": "display_data"
    },
    {
     "name": "stdout",
     "output_type": "stream",
     "text": [
      "\n",
      "    ________________________________________________________________________________\n",
      "    \n",
      "    Classification Report:\n",
      "    \n"
     ]
    },
    {
     "data": {
      "text/html": [
       "<div>\n",
       "<style scoped>\n",
       "    .dataframe tbody tr th:only-of-type {\n",
       "        vertical-align: middle;\n",
       "    }\n",
       "\n",
       "    .dataframe tbody tr th {\n",
       "        vertical-align: top;\n",
       "    }\n",
       "\n",
       "    .dataframe thead th {\n",
       "        text-align: right;\n",
       "    }\n",
       "</style>\n",
       "<table border=\"1\" class=\"dataframe\">\n",
       "  <thead>\n",
       "    <tr style=\"text-align: right;\">\n",
       "      <th></th>\n",
       "      <th>precision</th>\n",
       "      <th>recall</th>\n",
       "      <th>f1-score</th>\n",
       "      <th>support</th>\n",
       "    </tr>\n",
       "  </thead>\n",
       "  <tbody>\n",
       "    <tr>\n",
       "      <th>didnt churn</th>\n",
       "      <td>0.843564</td>\n",
       "      <td>0.886576</td>\n",
       "      <td>0.864536</td>\n",
       "      <td>2883.000000</td>\n",
       "    </tr>\n",
       "    <tr>\n",
       "      <th>churned</th>\n",
       "      <td>0.641840</td>\n",
       "      <td>0.552830</td>\n",
       "      <td>0.594019</td>\n",
       "      <td>1060.000000</td>\n",
       "    </tr>\n",
       "    <tr>\n",
       "      <th>accuracy</th>\n",
       "      <td>0.796855</td>\n",
       "      <td>0.796855</td>\n",
       "      <td>0.796855</td>\n",
       "      <td>0.796855</td>\n",
       "    </tr>\n",
       "    <tr>\n",
       "      <th>macro avg</th>\n",
       "      <td>0.742702</td>\n",
       "      <td>0.719703</td>\n",
       "      <td>0.729278</td>\n",
       "      <td>3943.000000</td>\n",
       "    </tr>\n",
       "    <tr>\n",
       "      <th>weighted avg</th>\n",
       "      <td>0.789335</td>\n",
       "      <td>0.796855</td>\n",
       "      <td>0.791813</td>\n",
       "      <td>3943.000000</td>\n",
       "    </tr>\n",
       "  </tbody>\n",
       "</table>\n",
       "</div>"
      ],
      "text/plain": [
       "              precision    recall  f1-score      support\n",
       "didnt churn    0.843564  0.886576  0.864536  2883.000000\n",
       "churned        0.641840  0.552830  0.594019  1060.000000\n",
       "accuracy       0.796855  0.796855  0.796855     0.796855\n",
       "macro avg      0.742702  0.719703  0.729278  3943.000000\n",
       "weighted avg   0.789335  0.796855  0.791813  3943.000000"
      ]
     },
     "metadata": {},
     "output_type": "display_data"
    }
   ],
   "source": [
    "#use the thing\n",
    "#train data set score, confusion matrix and classification report\n",
    "model_func.model_performs(X_train, y_train, dt_model)"
   ]
  },
  {
   "cell_type": "code",
   "execution_count": 60,
   "metadata": {},
   "outputs": [
    {
     "data": {
      "image/png": "[encoded data removed]",
      "text/plain": [
       "<Figure size 1728x864 with 1 Axes>"
      ]
     },
     "metadata": {
      "needs_background": "light"
     },
     "output_type": "display_data"
    }
   ],
   "source": [
    "#visualize train set\n",
    "plt.figure(figsize=(24,12))\n",
    "\n",
    "plot_tree(dt_model, feature_names=X_train.columns.tolist(), filled=True, rounded=True, class_names=['no churn', 'churn'])\n",
    "plt.show()"
   ]
  },
  {
   "cell_type": "code",
   "execution_count": 61,
   "metadata": {},
   "outputs": [
    {
     "name": "stdout",
     "output_type": "stream",
     "text": [
      "\n",
      "    The accuracy for our model is 78.3560%\n",
      "    The True Positive Rate is 52.667%,    The False Positive Rate is 12.329%,\n",
      "    The True Negative Rate is 87.671%,    The False Negative Rate is 47.333%\n",
      "    ________________________________________________________________________________\n",
      "    \n",
      "\n",
      "    The positive is  'churned'\n",
      "    Confusion Matrix\n",
      "    \n"
     ]
    },
    {
     "data": {
      "text/html": [
       "<div>\n",
       "<style scoped>\n",
       "    .dataframe tbody tr th:only-of-type {\n",
       "        vertical-align: middle;\n",
       "    }\n",
       "\n",
       "    .dataframe tbody tr th {\n",
       "        vertical-align: top;\n",
       "    }\n",
       "\n",
       "    .dataframe thead th {\n",
       "        text-align: right;\n",
       "    }\n",
       "</style>\n",
       "<table border=\"1\" class=\"dataframe\">\n",
       "  <thead>\n",
       "    <tr style=\"text-align: right;\">\n",
       "      <th></th>\n",
       "      <th>pred_didint_churn</th>\n",
       "      <th>pred_churned</th>\n",
       "    </tr>\n",
       "  </thead>\n",
       "  <tbody>\n",
       "    <tr>\n",
       "      <th>actual_didnt_churn</th>\n",
       "      <td>True Negative: 1088</td>\n",
       "      <td>False positive: 153</td>\n",
       "    </tr>\n",
       "    <tr>\n",
       "      <th>actual_churned</th>\n",
       "      <td>False Negative: 213</td>\n",
       "      <td>True Positive: 237</td>\n",
       "    </tr>\n",
       "  </tbody>\n",
       "</table>\n",
       "</div>"
      ],
      "text/plain": [
       "                      pred_didint_churn         pred_churned\n",
       "actual_didnt_churn  True Negative: 1088  False positive: 153\n",
       "actual_churned      False Negative: 213   True Positive: 237"
      ]
     },
     "metadata": {},
     "output_type": "display_data"
    },
    {
     "name": "stdout",
     "output_type": "stream",
     "text": [
      "\n",
      "    ________________________________________________________________________________\n",
      "    \n",
      "    Classification Report:\n",
      "    \n"
     ]
    },
    {
     "data": {
      "text/html": [
       "<div>\n",
       "<style scoped>\n",
       "    .dataframe tbody tr th:only-of-type {\n",
       "        vertical-align: middle;\n",
       "    }\n",
       "\n",
       "    .dataframe tbody tr th {\n",
       "        vertical-align: top;\n",
       "    }\n",
       "\n",
       "    .dataframe thead th {\n",
       "        text-align: right;\n",
       "    }\n",
       "</style>\n",
       "<table border=\"1\" class=\"dataframe\">\n",
       "  <thead>\n",
       "    <tr style=\"text-align: right;\">\n",
       "      <th></th>\n",
       "      <th>precision</th>\n",
       "      <th>recall</th>\n",
       "      <th>f1-score</th>\n",
       "      <th>support</th>\n",
       "    </tr>\n",
       "  </thead>\n",
       "  <tbody>\n",
       "    <tr>\n",
       "      <th>didnt churn</th>\n",
       "      <td>0.836280</td>\n",
       "      <td>0.876712</td>\n",
       "      <td>0.856019</td>\n",
       "      <td>1241.00000</td>\n",
       "    </tr>\n",
       "    <tr>\n",
       "      <th>churned</th>\n",
       "      <td>0.607692</td>\n",
       "      <td>0.526667</td>\n",
       "      <td>0.564286</td>\n",
       "      <td>450.00000</td>\n",
       "    </tr>\n",
       "    <tr>\n",
       "      <th>accuracy</th>\n",
       "      <td>0.783560</td>\n",
       "      <td>0.783560</td>\n",
       "      <td>0.783560</td>\n",
       "      <td>0.78356</td>\n",
       "    </tr>\n",
       "    <tr>\n",
       "      <th>macro avg</th>\n",
       "      <td>0.721986</td>\n",
       "      <td>0.701689</td>\n",
       "      <td>0.710152</td>\n",
       "      <td>1691.00000</td>\n",
       "    </tr>\n",
       "    <tr>\n",
       "      <th>weighted avg</th>\n",
       "      <td>0.775449</td>\n",
       "      <td>0.783560</td>\n",
       "      <td>0.778384</td>\n",
       "      <td>1691.00000</td>\n",
       "    </tr>\n",
       "  </tbody>\n",
       "</table>\n",
       "</div>"
      ],
      "text/plain": [
       "              precision    recall  f1-score     support\n",
       "didnt churn    0.836280  0.876712  0.856019  1241.00000\n",
       "churned        0.607692  0.526667  0.564286   450.00000\n",
       "accuracy       0.783560  0.783560  0.783560     0.78356\n",
       "macro avg      0.721986  0.701689  0.710152  1691.00000\n",
       "weighted avg   0.775449  0.783560  0.778384  1691.00000"
      ]
     },
     "metadata": {},
     "output_type": "display_data"
    }
   ],
   "source": [
    "#use the thing\n",
    "#validate data set score, confusion matrix and classification report\n",
    "model_func.model_performs(X_validate, y_validate, dt_model)"
   ]
  },
  {
   "cell_type": "code",
   "execution_count": 62,
   "metadata": {},
   "outputs": [
    {
     "data": {
      "image/png": "[encoded data removed]",
      "text/plain": [
       "<Figure size 1728x864 with 1 Axes>"
      ]
     },
     "metadata": {
      "needs_background": "light"
     },
     "output_type": "display_data"
    }
   ],
   "source": [
    "#visualize validate set\n",
    "plt.figure(figsize=(24,12))\n",
    "\n",
    "plot_tree(dt_model, feature_names=X_validate.columns.tolist(), filled=True, rounded=True, class_names=['no churn', 'churn'])\n",
    "plt.show()"
   ]
  },
  {
   "cell_type": "markdown",
   "metadata": {},
   "source": [
    "### Decision Tree Model Takeaways: \n",
    "\n",
    "- Decision Tree Model has an accuracy of 79.36% using the train set using max_depth=5\n",
    "- Decision Tree Model has an accuracy of 78.95% using the validate set using max_depth=5\n",
    "- Both are **higher** than the baseline accuracy of 73.12% \n"
   ]
  },
  {
   "cell_type": "markdown",
   "metadata": {},
   "source": [
    "### Run Decision Tree Model on Test Dataset"
   ]
  },
  {
   "cell_type": "code",
   "execution_count": 63,
   "metadata": {},
   "outputs": [
    {
     "name": "stdout",
     "output_type": "stream",
     "text": [
      "\n",
      "    The accuracy for our model is 78.7083%\n",
      "    The True Positive Rate is 48.468%,    The False Positive Rate is 10.952%,\n",
      "    The True Negative Rate is 89.048%,    The False Negative Rate is 51.532%\n",
      "    ________________________________________________________________________________\n",
      "    \n",
      "\n",
      "    The positive is  'churned'\n",
      "    Confusion Matrix\n",
      "    \n"
     ]
    },
    {
     "data": {
      "text/html": [
       "<div>\n",
       "<style scoped>\n",
       "    .dataframe tbody tr th:only-of-type {\n",
       "        vertical-align: middle;\n",
       "    }\n",
       "\n",
       "    .dataframe tbody tr th {\n",
       "        vertical-align: top;\n",
       "    }\n",
       "\n",
       "    .dataframe thead th {\n",
       "        text-align: right;\n",
       "    }\n",
       "</style>\n",
       "<table border=\"1\" class=\"dataframe\">\n",
       "  <thead>\n",
       "    <tr style=\"text-align: right;\">\n",
       "      <th></th>\n",
       "      <th>pred_didint_churn</th>\n",
       "      <th>pred_churned</th>\n",
       "    </tr>\n",
       "  </thead>\n",
       "  <tbody>\n",
       "    <tr>\n",
       "      <th>actual_didnt_churn</th>\n",
       "      <td>True Negative: 935</td>\n",
       "      <td>False positive: 115</td>\n",
       "    </tr>\n",
       "    <tr>\n",
       "      <th>actual_churned</th>\n",
       "      <td>False Negative: 185</td>\n",
       "      <td>True Positive: 174</td>\n",
       "    </tr>\n",
       "  </tbody>\n",
       "</table>\n",
       "</div>"
      ],
      "text/plain": [
       "                      pred_didint_churn         pred_churned\n",
       "actual_didnt_churn   True Negative: 935  False positive: 115\n",
       "actual_churned      False Negative: 185   True Positive: 174"
      ]
     },
     "metadata": {},
     "output_type": "display_data"
    },
    {
     "name": "stdout",
     "output_type": "stream",
     "text": [
      "\n",
      "    ________________________________________________________________________________\n",
      "    \n",
      "    Classification Report:\n",
      "    \n"
     ]
    },
    {
     "data": {
      "text/html": [
       "<div>\n",
       "<style scoped>\n",
       "    .dataframe tbody tr th:only-of-type {\n",
       "        vertical-align: middle;\n",
       "    }\n",
       "\n",
       "    .dataframe tbody tr th {\n",
       "        vertical-align: top;\n",
       "    }\n",
       "\n",
       "    .dataframe thead th {\n",
       "        text-align: right;\n",
       "    }\n",
       "</style>\n",
       "<table border=\"1\" class=\"dataframe\">\n",
       "  <thead>\n",
       "    <tr style=\"text-align: right;\">\n",
       "      <th></th>\n",
       "      <th>precision</th>\n",
       "      <th>recall</th>\n",
       "      <th>f1-score</th>\n",
       "      <th>support</th>\n",
       "    </tr>\n",
       "  </thead>\n",
       "  <tbody>\n",
       "    <tr>\n",
       "      <th>didnt churn</th>\n",
       "      <td>0.834821</td>\n",
       "      <td>0.890476</td>\n",
       "      <td>0.861751</td>\n",
       "      <td>1050.000000</td>\n",
       "    </tr>\n",
       "    <tr>\n",
       "      <th>churned</th>\n",
       "      <td>0.602076</td>\n",
       "      <td>0.484680</td>\n",
       "      <td>0.537037</td>\n",
       "      <td>359.000000</td>\n",
       "    </tr>\n",
       "    <tr>\n",
       "      <th>accuracy</th>\n",
       "      <td>0.787083</td>\n",
       "      <td>0.787083</td>\n",
       "      <td>0.787083</td>\n",
       "      <td>0.787083</td>\n",
       "    </tr>\n",
       "    <tr>\n",
       "      <th>macro avg</th>\n",
       "      <td>0.718449</td>\n",
       "      <td>0.687578</td>\n",
       "      <td>0.699394</td>\n",
       "      <td>1409.000000</td>\n",
       "    </tr>\n",
       "    <tr>\n",
       "      <th>weighted avg</th>\n",
       "      <td>0.775520</td>\n",
       "      <td>0.787083</td>\n",
       "      <td>0.779017</td>\n",
       "      <td>1409.000000</td>\n",
       "    </tr>\n",
       "  </tbody>\n",
       "</table>\n",
       "</div>"
      ],
      "text/plain": [
       "              precision    recall  f1-score      support\n",
       "didnt churn    0.834821  0.890476  0.861751  1050.000000\n",
       "churned        0.602076  0.484680  0.537037   359.000000\n",
       "accuracy       0.787083  0.787083  0.787083     0.787083\n",
       "macro avg      0.718449  0.687578  0.699394  1409.000000\n",
       "weighted avg   0.775520  0.787083  0.779017  1409.000000"
      ]
     },
     "metadata": {},
     "output_type": "display_data"
    }
   ],
   "source": [
    "#use the thing\n",
    "#train data set score, confusion matrix and classification report\n",
    "model_func.model_performs(X_test, y_test, dt_model)"
   ]
  },
  {
   "cell_type": "markdown",
   "metadata": {},
   "source": [
    "### Decision Tree Model with Test Dataset: \n",
    "\n",
    "- Decision Tree Model has an accuracy of 78.70% using the train set using max_depth=5\n",
    "- Both are **higher** than the baseline accuracy of 73.12% \n"
   ]
  },
  {
   "cell_type": "markdown",
   "metadata": {},
   "source": [
    "<hr style=\"border:2px solid black\"> </hr>"
   ]
  },
  {
   "cell_type": "markdown",
   "metadata": {},
   "source": [
    "## Create CSV for Predictions"
   ]
  },
  {
   "cell_type": "code",
   "execution_count": 64,
   "metadata": {},
   "outputs": [],
   "source": [
    "import prepare"
   ]
  },
  {
   "cell_type": "code",
   "execution_count": 65,
   "metadata": {},
   "outputs": [],
   "source": [
    "df_all_data = prepare.prep_telco_churn(acquire.get_telco_churn_data())"
   ]
  },
  {
   "cell_type": "code",
   "execution_count": 66,
   "metadata": {},
   "outputs": [],
   "source": [
    "#create column that has prediction based on decision tree model\n",
    "df_all_data ['predictions'] = dt_model.predict(df_all_data[X_col])"
   ]
  },
  {
   "cell_type": "code",
   "execution_count": 67,
   "metadata": {},
   "outputs": [],
   "source": [
    "#create dataframe that shows if that particular customer_id will churn of not\n",
    "df_predictions = df_all_data[['customer_id', 'predictions']]"
   ]
  },
  {
   "cell_type": "code",
   "execution_count": 68,
   "metadata": {},
   "outputs": [
    {
     "data": {
      "text/html": [
       "<div>\n",
       "<style scoped>\n",
       "    .dataframe tbody tr th:only-of-type {\n",
       "        vertical-align: middle;\n",
       "    }\n",
       "\n",
       "    .dataframe tbody tr th {\n",
       "        vertical-align: top;\n",
       "    }\n",
       "\n",
       "    .dataframe thead th {\n",
       "        text-align: right;\n",
       "    }\n",
       "</style>\n",
       "<table border=\"1\" class=\"dataframe\">\n",
       "  <thead>\n",
       "    <tr style=\"text-align: right;\">\n",
       "      <th></th>\n",
       "      <th>customer_id</th>\n",
       "      <th>predictions</th>\n",
       "    </tr>\n",
       "  </thead>\n",
       "  <tbody>\n",
       "    <tr>\n",
       "      <th>0</th>\n",
       "      <td>0016-QLJIS</td>\n",
       "      <td>0</td>\n",
       "    </tr>\n",
       "    <tr>\n",
       "      <th>1</th>\n",
       "      <td>0017-DINOC</td>\n",
       "      <td>0</td>\n",
       "    </tr>\n",
       "    <tr>\n",
       "      <th>2</th>\n",
       "      <td>0019-GFNTW</td>\n",
       "      <td>0</td>\n",
       "    </tr>\n",
       "    <tr>\n",
       "      <th>3</th>\n",
       "      <td>0056-EPFBG</td>\n",
       "      <td>0</td>\n",
       "    </tr>\n",
       "    <tr>\n",
       "      <th>4</th>\n",
       "      <td>0078-XZMHT</td>\n",
       "      <td>0</td>\n",
       "    </tr>\n",
       "  </tbody>\n",
       "</table>\n",
       "</div>"
      ],
      "text/plain": [
       "  customer_id  predictions\n",
       "0  0016-QLJIS            0\n",
       "1  0017-DINOC            0\n",
       "2  0019-GFNTW            0\n",
       "3  0056-EPFBG            0\n",
       "4  0078-XZMHT            0"
      ]
     },
     "execution_count": 68,
     "metadata": {},
     "output_type": "execute_result"
    }
   ],
   "source": [
    "#take a look at this prediction data\n",
    "df_predictions.head()"
   ]
  },
  {
   "cell_type": "code",
   "execution_count": 70,
   "metadata": {},
   "outputs": [
    {
     "data": {
      "text/plain": [
       "0    5451\n",
       "1    1592\n",
       "Name: predictions, dtype: int64"
      ]
     },
     "execution_count": 70,
     "metadata": {},
     "output_type": "execute_result"
    }
   ],
   "source": [
    "df_predictions.predictions.value_counts()\n",
    "# based on predictions, we have 1592 customers who have the potential to churn!!"
   ]
  },
  {
   "cell_type": "code",
   "execution_count": 69,
   "metadata": {},
   "outputs": [],
   "source": [
    "#turn this new dataframe of customer_id and predictions into a CSV file\n",
    "df_predictions.to_csv('telco_churn_predictions.csv')"
   ]
  },
  {
   "cell_type": "markdown",
   "metadata": {},
   "source": [
    "<hr style=\"border:2px solid black\"> </hr>"
   ]
  },
  {
   "cell_type": "markdown",
   "metadata": {},
   "source": [
    "## Conclusion/Final Takeaway:\n",
    "- Overall, the decision tree model performed best\n",
    "\n",
    "    - there is acceptable accuracy on both the train set and the validate set\n",
    "    - the score is higher than the baseline\n",
    "    - there is not a large drop off of accuracy between the two sets (thus it is not overfit)\n",
    "\n",
    "<br>\n",
    "- Use the new dataframe of predictions to target those specific customers that have the most potential to churn"
   ]
  },
  {
   "cell_type": "markdown",
   "metadata": {},
   "source": [
    "<hr style=\"border:2px solid black\"> </hr>"
   ]
  },
  {
   "cell_type": "markdown",
   "metadata": {},
   "source": [
    "## Next Steps/If I had more time:\n",
    "- I would run more models and change the hyperparameters on several different versions\n",
    "- I would look into adding surveying to exiting customers to further understand their actual cause of churn\n",
    "- We can then target the true reason to reduce churn in future customers\n"
   ]
  },
  {
   "cell_type": "code",
   "execution_count": null,
   "metadata": {},
   "outputs": [],
   "source": []
  }
 ],
 "metadata": {
  "kernelspec": {
   "display_name": "Python 3",
   "language": "python",
   "name": "python3"
  },
  "language_info": {
   "codemirror_mode": {
    "name": "ipython",
    "version": 3
   },
   "file_extension": ".py",
   "mimetype": "text/x-python",
   "name": "python",
   "nbconvert_exporter": "python",
   "pygments_lexer": "ipython3",
   "version": "3.8.5"
  }
 },
 "nbformat": 4,
 "nbformat_minor": 4
}
