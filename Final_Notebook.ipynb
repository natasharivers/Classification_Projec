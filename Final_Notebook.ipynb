{
 "cells": [
  {
   "cell_type": "markdown",
   "metadata": {},
   "source": [
    "# Telco Churn Classification Project"
   ]
  },
  {
   "cell_type": "markdown",
   "metadata": {},
   "source": [
    "___________________________________"
   ]
  },
  {
   "cell_type": "markdown",
   "metadata": {},
   "source": [
    "## Project Planning:\n",
    "**Plan** --- Acquire --- Prepare --- Explore --- Model --- Deliver"
   ]
  },
  {
   "cell_type": "markdown",
   "metadata": {},
   "source": [
    "\n",
    "1. Create README.md with data dictionary, project and businesss goals, create inital hypothesis\n",
    "2. Acquire data from the Codeup Database and create a function to automate this process. Save the function in an acquire.py file to import into the Final Report Notebook.\n",
    "3. Clean and prepare data for the first iteration through the pipeline, MVP preparation. Create a function to automate the process, store the function in a prepare.py module, and prepare data in Final Report Notebook by importing and using the funtion.\n",
    "4. Clearly define two hypotheses, set an alpha, run the statistical tests needed, reject or fail to reject the Null Hypothesis, and document findings and takeaways.\n",
    "5. Establish a baseline accuracy and document well.\n",
    "6. Train three different classification models.\n",
    "7. Evaluate models on train and validate datasets.\n",
    "8. Choose the model with that performs the best and evaluate that single model on the test dataset.\n",
    "9. Create csv file with the customer id, the probability of the target values, and the model's prediction for each observation in my test dataset.\n",
    "10. Document conclusions, takeaways, and next steps in the Final Report Notebook."
   ]
  },
  {
   "cell_type": "markdown",
   "metadata": {},
   "source": [
    "____________________________"
   ]
  },
  {
   "cell_type": "markdown",
   "metadata": {},
   "source": [
    "## Business Goals:\n",
    "- Find a driver of churn for Telco customers\n",
    "- Construct a ML classification model that accurately predicts customer churn.\n",
    "- Document your process well enough to be presented or read like a report"
   ]
  },
  {
   "cell_type": "markdown",
   "metadata": {},
   "source": [
    "______________________________"
   ]
  },
  {
   "cell_type": "markdown",
   "metadata": {},
   "source": [
    "## Executive Summary- Conclusions and Next Steps:\n",
    "- My findings are:\n",
    "    - I will be using the decision tree model as my best model for prediction my target value, churn because:\n",
    "        - there is an accuracy of 79.36% on both the train set and 78.95% on the validate set\n",
    "        - this model outperformed my baseline score of 73.12%\n",
    "        - there is not a large drop off of accuracy between the two sets (thus it is not overfit)\n",
    "       \n",
    "       <br>\n",
    "- Next Steps/If I had more time:\n",
    "    - I would run more models and change the hyperparameters on several different versions\n",
    "    - I would look into adding surveying to exiting customers to further understand their actual cause of churn\n",
    "    - We can then target the true reason to reduce churn in future customers"
   ]
  },
  {
   "cell_type": "markdown",
   "metadata": {},
   "source": [
    "_________________________"
   ]
  },
  {
   "cell_type": "code",
   "execution_count": 1,
   "metadata": {},
   "outputs": [],
   "source": [
    "#import needed libraries\n",
    "\n",
    "import pandas as pd\n",
    "import numpy as np\n",
    "import os\n",
    "import matplotlib.pyplot as plt\n",
    "from scipy import stats\n",
    "import seaborn as sns\n",
    "from pydataset import data\n",
    "\n",
    "#import ignore warnings\n",
    "import warnings\n",
    "warnings.filterwarnings(\"ignore\")\n"
   ]
  },
  {
   "cell_type": "code",
   "execution_count": 2,
   "metadata": {},
   "outputs": [],
   "source": [
    "from sklearn.model_selection import train_test_split #train, test, split\n",
    "from sklearn.metrics import classification_report\n",
    "from sklearn.metrics import precision_score, accuracy_score, recall_score, f1_score\n",
    "from sklearn.tree import DecisionTreeClassifier, plot_tree, export_text\n",
    "from sklearn.model_selection import train_test_split\n",
    "from sklearn.metrics import confusion_matrix\n"
   ]
  },
  {
   "cell_type": "markdown",
   "metadata": {},
   "source": [
    "# Acquire"
   ]
  },
  {
   "cell_type": "markdown",
   "metadata": {},
   "source": [
    "Plan --- **Acquire** --- Prepare --- Explore --- Model --- Deliver"
   ]
  },
  {
   "cell_type": "code",
   "execution_count": 3,
   "metadata": {},
   "outputs": [],
   "source": [
    "# acquire\n",
    "from env import host, user, password\n",
    "import acquire"
   ]
  },
  {
   "cell_type": "code",
   "execution_count": 4,
   "metadata": {},
   "outputs": [],
   "source": [
    "# call acquire function and take a look at data\n",
    "df = acquire.get_telco_churn_data()"
   ]
  },
  {
   "cell_type": "code",
   "execution_count": 5,
   "metadata": {},
   "outputs": [
    {
     "data": {
      "text/html": [
       "<div>\n",
       "<style scoped>\n",
       "    .dataframe tbody tr th:only-of-type {\n",
       "        vertical-align: middle;\n",
       "    }\n",
       "\n",
       "    .dataframe tbody tr th {\n",
       "        vertical-align: top;\n",
       "    }\n",
       "\n",
       "    .dataframe thead th {\n",
       "        text-align: right;\n",
       "    }\n",
       "</style>\n",
       "<table border=\"1\" class=\"dataframe\">\n",
       "  <thead>\n",
       "    <tr style=\"text-align: right;\">\n",
       "      <th></th>\n",
       "      <th>customer_id</th>\n",
       "      <th>gender</th>\n",
       "      <th>senior_citizen</th>\n",
       "      <th>partner</th>\n",
       "      <th>dependents</th>\n",
       "      <th>tenure</th>\n",
       "      <th>phone_service</th>\n",
       "      <th>multiple_lines</th>\n",
       "      <th>internet_service_type_id</th>\n",
       "      <th>online_security</th>\n",
       "      <th>...</th>\n",
       "      <th>payment_type_id</th>\n",
       "      <th>monthly_charges</th>\n",
       "      <th>total_charges</th>\n",
       "      <th>churn</th>\n",
       "      <th>contract_type_id</th>\n",
       "      <th>contract_type</th>\n",
       "      <th>payment_type_id</th>\n",
       "      <th>payment_type</th>\n",
       "      <th>internet_service_type_id</th>\n",
       "      <th>internet_service_type</th>\n",
       "    </tr>\n",
       "  </thead>\n",
       "  <tbody>\n",
       "    <tr>\n",
       "      <th>0</th>\n",
       "      <td>0016-QLJIS</td>\n",
       "      <td>Female</td>\n",
       "      <td>0</td>\n",
       "      <td>Yes</td>\n",
       "      <td>Yes</td>\n",
       "      <td>65</td>\n",
       "      <td>Yes</td>\n",
       "      <td>Yes</td>\n",
       "      <td>1</td>\n",
       "      <td>Yes</td>\n",
       "      <td>...</td>\n",
       "      <td>2</td>\n",
       "      <td>90.45</td>\n",
       "      <td>5957.9</td>\n",
       "      <td>No</td>\n",
       "      <td>3</td>\n",
       "      <td>Two year</td>\n",
       "      <td>2</td>\n",
       "      <td>Mailed check</td>\n",
       "      <td>1</td>\n",
       "      <td>DSL</td>\n",
       "    </tr>\n",
       "    <tr>\n",
       "      <th>1</th>\n",
       "      <td>0017-DINOC</td>\n",
       "      <td>Male</td>\n",
       "      <td>0</td>\n",
       "      <td>No</td>\n",
       "      <td>No</td>\n",
       "      <td>54</td>\n",
       "      <td>No</td>\n",
       "      <td>No phone service</td>\n",
       "      <td>1</td>\n",
       "      <td>Yes</td>\n",
       "      <td>...</td>\n",
       "      <td>4</td>\n",
       "      <td>45.20</td>\n",
       "      <td>2460.55</td>\n",
       "      <td>No</td>\n",
       "      <td>3</td>\n",
       "      <td>Two year</td>\n",
       "      <td>4</td>\n",
       "      <td>Credit card (automatic)</td>\n",
       "      <td>1</td>\n",
       "      <td>DSL</td>\n",
       "    </tr>\n",
       "    <tr>\n",
       "      <th>2</th>\n",
       "      <td>0019-GFNTW</td>\n",
       "      <td>Female</td>\n",
       "      <td>0</td>\n",
       "      <td>No</td>\n",
       "      <td>No</td>\n",
       "      <td>56</td>\n",
       "      <td>No</td>\n",
       "      <td>No phone service</td>\n",
       "      <td>1</td>\n",
       "      <td>Yes</td>\n",
       "      <td>...</td>\n",
       "      <td>3</td>\n",
       "      <td>45.05</td>\n",
       "      <td>2560.1</td>\n",
       "      <td>No</td>\n",
       "      <td>3</td>\n",
       "      <td>Two year</td>\n",
       "      <td>3</td>\n",
       "      <td>Bank transfer (automatic)</td>\n",
       "      <td>1</td>\n",
       "      <td>DSL</td>\n",
       "    </tr>\n",
       "    <tr>\n",
       "      <th>3</th>\n",
       "      <td>0056-EPFBG</td>\n",
       "      <td>Male</td>\n",
       "      <td>0</td>\n",
       "      <td>Yes</td>\n",
       "      <td>Yes</td>\n",
       "      <td>20</td>\n",
       "      <td>No</td>\n",
       "      <td>No phone service</td>\n",
       "      <td>1</td>\n",
       "      <td>Yes</td>\n",
       "      <td>...</td>\n",
       "      <td>4</td>\n",
       "      <td>39.40</td>\n",
       "      <td>825.4</td>\n",
       "      <td>No</td>\n",
       "      <td>3</td>\n",
       "      <td>Two year</td>\n",
       "      <td>4</td>\n",
       "      <td>Credit card (automatic)</td>\n",
       "      <td>1</td>\n",
       "      <td>DSL</td>\n",
       "    </tr>\n",
       "    <tr>\n",
       "      <th>4</th>\n",
       "      <td>0078-XZMHT</td>\n",
       "      <td>Male</td>\n",
       "      <td>0</td>\n",
       "      <td>Yes</td>\n",
       "      <td>No</td>\n",
       "      <td>72</td>\n",
       "      <td>Yes</td>\n",
       "      <td>Yes</td>\n",
       "      <td>1</td>\n",
       "      <td>No</td>\n",
       "      <td>...</td>\n",
       "      <td>3</td>\n",
       "      <td>85.15</td>\n",
       "      <td>6316.2</td>\n",
       "      <td>No</td>\n",
       "      <td>3</td>\n",
       "      <td>Two year</td>\n",
       "      <td>3</td>\n",
       "      <td>Bank transfer (automatic)</td>\n",
       "      <td>1</td>\n",
       "      <td>DSL</td>\n",
       "    </tr>\n",
       "  </tbody>\n",
       "</table>\n",
       "<p>5 rows × 27 columns</p>\n",
       "</div>"
      ],
      "text/plain": [
       "  customer_id  gender  senior_citizen partner dependents  tenure  \\\n",
       "0  0016-QLJIS  Female               0     Yes        Yes      65   \n",
       "1  0017-DINOC    Male               0      No         No      54   \n",
       "2  0019-GFNTW  Female               0      No         No      56   \n",
       "3  0056-EPFBG    Male               0     Yes        Yes      20   \n",
       "4  0078-XZMHT    Male               0     Yes         No      72   \n",
       "\n",
       "  phone_service    multiple_lines  internet_service_type_id online_security  \\\n",
       "0           Yes               Yes                         1             Yes   \n",
       "1            No  No phone service                         1             Yes   \n",
       "2            No  No phone service                         1             Yes   \n",
       "3            No  No phone service                         1             Yes   \n",
       "4           Yes               Yes                         1              No   \n",
       "\n",
       "   ... payment_type_id monthly_charges total_charges churn contract_type_id  \\\n",
       "0  ...               2           90.45        5957.9    No                3   \n",
       "1  ...               4           45.20       2460.55    No                3   \n",
       "2  ...               3           45.05        2560.1    No                3   \n",
       "3  ...               4           39.40         825.4    No                3   \n",
       "4  ...               3           85.15        6316.2    No                3   \n",
       "\n",
       "   contract_type payment_type_id               payment_type  \\\n",
       "0       Two year               2               Mailed check   \n",
       "1       Two year               4    Credit card (automatic)   \n",
       "2       Two year               3  Bank transfer (automatic)   \n",
       "3       Two year               4    Credit card (automatic)   \n",
       "4       Two year               3  Bank transfer (automatic)   \n",
       "\n",
       "   internet_service_type_id internet_service_type  \n",
       "0                         1                   DSL  \n",
       "1                         1                   DSL  \n",
       "2                         1                   DSL  \n",
       "3                         1                   DSL  \n",
       "4                         1                   DSL  \n",
       "\n",
       "[5 rows x 27 columns]"
      ]
     },
     "execution_count": 5,
     "metadata": {},
     "output_type": "execute_result"
    }
   ],
   "source": [
    "df.head()"
   ]
  },
  {
   "cell_type": "code",
   "execution_count": 6,
   "metadata": {},
   "outputs": [
    {
     "name": "stdout",
     "output_type": "stream",
     "text": [
      "<class 'pandas.core.frame.DataFrame'>\n",
      "RangeIndex: 7043 entries, 0 to 7042\n",
      "Data columns (total 27 columns):\n",
      " #   Column                    Non-Null Count  Dtype  \n",
      "---  ------                    --------------  -----  \n",
      " 0   customer_id               7043 non-null   object \n",
      " 1   gender                    7043 non-null   object \n",
      " 2   senior_citizen            7043 non-null   int64  \n",
      " 3   partner                   7043 non-null   object \n",
      " 4   dependents                7043 non-null   object \n",
      " 5   tenure                    7043 non-null   int64  \n",
      " 6   phone_service             7043 non-null   object \n",
      " 7   multiple_lines            7043 non-null   object \n",
      " 8   internet_service_type_id  7043 non-null   int64  \n",
      " 9   online_security           7043 non-null   object \n",
      " 10  online_backup             7043 non-null   object \n",
      " 11  device_protection         7043 non-null   object \n",
      " 12  tech_support              7043 non-null   object \n",
      " 13  streaming_tv              7043 non-null   object \n",
      " 14  streaming_movies          7043 non-null   object \n",
      " 15  contract_type_id          7043 non-null   int64  \n",
      " 16  paperless_billing         7043 non-null   object \n",
      " 17  payment_type_id           7043 non-null   int64  \n",
      " 18  monthly_charges           7043 non-null   float64\n",
      " 19  total_charges             7043 non-null   object \n",
      " 20  churn                     7043 non-null   object \n",
      " 21  contract_type_id          7043 non-null   int64  \n",
      " 22  contract_type             7043 non-null   object \n",
      " 23  payment_type_id           7043 non-null   int64  \n",
      " 24  payment_type              7043 non-null   object \n",
      " 25  internet_service_type_id  7043 non-null   int64  \n",
      " 26  internet_service_type     7043 non-null   object \n",
      "dtypes: float64(1), int64(8), object(18)\n",
      "memory usage: 1.5+ MB\n"
     ]
    }
   ],
   "source": [
    "df.info()"
   ]
  },
  {
   "cell_type": "markdown",
   "metadata": {},
   "source": [
    "## Takeaways of the Acquire process:\n",
    "- I wrote a SQL query to create the acquire function\n",
    "- I joined 3 tables together to get all data needed\n"
   ]
  },
  {
   "cell_type": "markdown",
   "metadata": {},
   "source": [
    "<hr style=\"border:2px solid black\"> </hr>"
   ]
  },
  {
   "cell_type": "markdown",
   "metadata": {},
   "source": [
    "# Prepare"
   ]
  },
  {
   "cell_type": "markdown",
   "metadata": {},
   "source": [
    "Plan --- Acquire --- **Prepare** --- Explore --- Model --- Deliver"
   ]
  },
  {
   "cell_type": "code",
   "execution_count": 7,
   "metadata": {},
   "outputs": [],
   "source": [
    "import prepare"
   ]
  },
  {
   "cell_type": "code",
   "execution_count": 8,
   "metadata": {},
   "outputs": [],
   "source": [
    "#reassign prep_telco_churn(df) to just df\n",
    "df = prepare.prep_telco_churn(df)"
   ]
  },
  {
   "cell_type": "code",
   "execution_count": 9,
   "metadata": {
    "scrolled": false
   },
   "outputs": [
    {
     "data": {
      "text/html": [
       "<div>\n",
       "<style scoped>\n",
       "    .dataframe tbody tr th:only-of-type {\n",
       "        vertical-align: middle;\n",
       "    }\n",
       "\n",
       "    .dataframe tbody tr th {\n",
       "        vertical-align: top;\n",
       "    }\n",
       "\n",
       "    .dataframe thead th {\n",
       "        text-align: right;\n",
       "    }\n",
       "</style>\n",
       "<table border=\"1\" class=\"dataframe\">\n",
       "  <thead>\n",
       "    <tr style=\"text-align: right;\">\n",
       "      <th></th>\n",
       "      <th>customer_id</th>\n",
       "      <th>gender</th>\n",
       "      <th>senior_citizen</th>\n",
       "      <th>partner</th>\n",
       "      <th>dependents</th>\n",
       "      <th>tenure</th>\n",
       "      <th>phone_service</th>\n",
       "      <th>multiple_lines</th>\n",
       "      <th>internet_service_type_id</th>\n",
       "      <th>online_security</th>\n",
       "      <th>...</th>\n",
       "      <th>streaming_movies</th>\n",
       "      <th>contract_type_id</th>\n",
       "      <th>paperless_billing</th>\n",
       "      <th>payment_type_id</th>\n",
       "      <th>monthly_charges</th>\n",
       "      <th>total_charges</th>\n",
       "      <th>churn</th>\n",
       "      <th>contract_type</th>\n",
       "      <th>payment_type</th>\n",
       "      <th>internet_service_type</th>\n",
       "    </tr>\n",
       "  </thead>\n",
       "  <tbody>\n",
       "    <tr>\n",
       "      <th>0</th>\n",
       "      <td>0016-QLJIS</td>\n",
       "      <td>Female</td>\n",
       "      <td>0</td>\n",
       "      <td>Yes</td>\n",
       "      <td>Yes</td>\n",
       "      <td>65</td>\n",
       "      <td>Yes</td>\n",
       "      <td>Yes</td>\n",
       "      <td>1</td>\n",
       "      <td>Yes</td>\n",
       "      <td>...</td>\n",
       "      <td>Yes</td>\n",
       "      <td>3</td>\n",
       "      <td>Yes</td>\n",
       "      <td>2</td>\n",
       "      <td>90.45</td>\n",
       "      <td>5957.90</td>\n",
       "      <td>0</td>\n",
       "      <td>Two year</td>\n",
       "      <td>Mailed check</td>\n",
       "      <td>DSL</td>\n",
       "    </tr>\n",
       "    <tr>\n",
       "      <th>1</th>\n",
       "      <td>0017-DINOC</td>\n",
       "      <td>Male</td>\n",
       "      <td>0</td>\n",
       "      <td>No</td>\n",
       "      <td>No</td>\n",
       "      <td>54</td>\n",
       "      <td>No</td>\n",
       "      <td>No phone service</td>\n",
       "      <td>1</td>\n",
       "      <td>Yes</td>\n",
       "      <td>...</td>\n",
       "      <td>No</td>\n",
       "      <td>3</td>\n",
       "      <td>No</td>\n",
       "      <td>4</td>\n",
       "      <td>45.20</td>\n",
       "      <td>2460.55</td>\n",
       "      <td>0</td>\n",
       "      <td>Two year</td>\n",
       "      <td>Credit card (automatic)</td>\n",
       "      <td>DSL</td>\n",
       "    </tr>\n",
       "    <tr>\n",
       "      <th>2</th>\n",
       "      <td>0019-GFNTW</td>\n",
       "      <td>Female</td>\n",
       "      <td>0</td>\n",
       "      <td>No</td>\n",
       "      <td>No</td>\n",
       "      <td>56</td>\n",
       "      <td>No</td>\n",
       "      <td>No phone service</td>\n",
       "      <td>1</td>\n",
       "      <td>Yes</td>\n",
       "      <td>...</td>\n",
       "      <td>No</td>\n",
       "      <td>3</td>\n",
       "      <td>No</td>\n",
       "      <td>3</td>\n",
       "      <td>45.05</td>\n",
       "      <td>2560.10</td>\n",
       "      <td>0</td>\n",
       "      <td>Two year</td>\n",
       "      <td>Bank transfer (automatic)</td>\n",
       "      <td>DSL</td>\n",
       "    </tr>\n",
       "    <tr>\n",
       "      <th>3</th>\n",
       "      <td>0056-EPFBG</td>\n",
       "      <td>Male</td>\n",
       "      <td>0</td>\n",
       "      <td>Yes</td>\n",
       "      <td>Yes</td>\n",
       "      <td>20</td>\n",
       "      <td>No</td>\n",
       "      <td>No phone service</td>\n",
       "      <td>1</td>\n",
       "      <td>Yes</td>\n",
       "      <td>...</td>\n",
       "      <td>No</td>\n",
       "      <td>3</td>\n",
       "      <td>Yes</td>\n",
       "      <td>4</td>\n",
       "      <td>39.40</td>\n",
       "      <td>825.40</td>\n",
       "      <td>0</td>\n",
       "      <td>Two year</td>\n",
       "      <td>Credit card (automatic)</td>\n",
       "      <td>DSL</td>\n",
       "    </tr>\n",
       "    <tr>\n",
       "      <th>4</th>\n",
       "      <td>0078-XZMHT</td>\n",
       "      <td>Male</td>\n",
       "      <td>0</td>\n",
       "      <td>Yes</td>\n",
       "      <td>No</td>\n",
       "      <td>72</td>\n",
       "      <td>Yes</td>\n",
       "      <td>Yes</td>\n",
       "      <td>1</td>\n",
       "      <td>No</td>\n",
       "      <td>...</td>\n",
       "      <td>Yes</td>\n",
       "      <td>3</td>\n",
       "      <td>Yes</td>\n",
       "      <td>3</td>\n",
       "      <td>85.15</td>\n",
       "      <td>6316.20</td>\n",
       "      <td>0</td>\n",
       "      <td>Two year</td>\n",
       "      <td>Bank transfer (automatic)</td>\n",
       "      <td>DSL</td>\n",
       "    </tr>\n",
       "  </tbody>\n",
       "</table>\n",
       "<p>5 rows × 24 columns</p>\n",
       "</div>"
      ],
      "text/plain": [
       "  customer_id  gender  senior_citizen partner dependents  tenure  \\\n",
       "0  0016-QLJIS  Female               0     Yes        Yes      65   \n",
       "1  0017-DINOC    Male               0      No         No      54   \n",
       "2  0019-GFNTW  Female               0      No         No      56   \n",
       "3  0056-EPFBG    Male               0     Yes        Yes      20   \n",
       "4  0078-XZMHT    Male               0     Yes         No      72   \n",
       "\n",
       "  phone_service    multiple_lines  internet_service_type_id online_security  \\\n",
       "0           Yes               Yes                         1             Yes   \n",
       "1            No  No phone service                         1             Yes   \n",
       "2            No  No phone service                         1             Yes   \n",
       "3            No  No phone service                         1             Yes   \n",
       "4           Yes               Yes                         1              No   \n",
       "\n",
       "   ... streaming_movies contract_type_id paperless_billing payment_type_id  \\\n",
       "0  ...              Yes                3               Yes               2   \n",
       "1  ...               No                3                No               4   \n",
       "2  ...               No                3                No               3   \n",
       "3  ...               No                3               Yes               4   \n",
       "4  ...              Yes                3               Yes               3   \n",
       "\n",
       "  monthly_charges  total_charges churn  contract_type  \\\n",
       "0           90.45        5957.90     0       Two year   \n",
       "1           45.20        2460.55     0       Two year   \n",
       "2           45.05        2560.10     0       Two year   \n",
       "3           39.40         825.40     0       Two year   \n",
       "4           85.15        6316.20     0       Two year   \n",
       "\n",
       "                payment_type  internet_service_type  \n",
       "0               Mailed check                    DSL  \n",
       "1    Credit card (automatic)                    DSL  \n",
       "2  Bank transfer (automatic)                    DSL  \n",
       "3    Credit card (automatic)                    DSL  \n",
       "4  Bank transfer (automatic)                    DSL  \n",
       "\n",
       "[5 rows x 24 columns]"
      ]
     },
     "execution_count": 9,
     "metadata": {},
     "output_type": "execute_result"
    }
   ],
   "source": [
    "#call df and look at it\n",
    "df.head()"
   ]
  },
  {
   "cell_type": "code",
   "execution_count": 18,
   "metadata": {},
   "outputs": [
    {
     "data": {
      "text/plain": [
       "array(['Yes', 'No'], dtype=object)"
      ]
     },
     "execution_count": 18,
     "metadata": {},
     "output_type": "execute_result"
    }
   ],
   "source": [
    "df.phone_service.unique()"
   ]
  },
  {
   "cell_type": "code",
   "execution_count": 13,
   "metadata": {},
   "outputs": [],
   "source": [
    "#split data\n",
    "train, test = train_test_split(df, test_size=.2, random_state=123)\n",
    "train, validate = train_test_split(train, test_size=.3, random_state=123)"
   ]
  },
  {
   "cell_type": "code",
   "execution_count": 14,
   "metadata": {},
   "outputs": [
    {
     "name": "stdout",
     "output_type": "stream",
     "text": [
      "train shape: (3943, 24)\n",
      "validate shape: (1691, 24)\n",
      "test shape: (1409, 24)\n"
     ]
    }
   ],
   "source": [
    "print(f'train shape: {train.shape}')\n",
    "print(f'validate shape: {validate.shape}')\n",
    "print(f'test shape: {test.shape}')"
   ]
  },
  {
   "cell_type": "markdown",
   "metadata": {},
   "source": [
    "## Takeaways of the Prepare process:\n",
    "\n",
    "- prep_telco_churn(df) function was created to:\n",
    "    - change data types \n",
    "    - remove duplicates (if any) \n",
    "   \n",
    "- \"prep_telco_churn(df)\" was then renamed to \"df\"\n"
   ]
  },
  {
   "cell_type": "markdown",
   "metadata": {},
   "source": [
    "<hr style=\"border:2px solid black\"> </hr>"
   ]
  },
  {
   "cell_type": "markdown",
   "metadata": {},
   "source": [
    "# Explore"
   ]
  },
  {
   "cell_type": "markdown",
   "metadata": {},
   "source": [
    "Plan --- Acquire --- Prepare --- **Explore** --- Model --- Deliver"
   ]
  },
  {
   "cell_type": "code",
   "execution_count": 15,
   "metadata": {},
   "outputs": [
    {
     "data": {
      "text/html": [
       "<div>\n",
       "<style scoped>\n",
       "    .dataframe tbody tr th:only-of-type {\n",
       "        vertical-align: middle;\n",
       "    }\n",
       "\n",
       "    .dataframe tbody tr th {\n",
       "        vertical-align: top;\n",
       "    }\n",
       "\n",
       "    .dataframe thead th {\n",
       "        text-align: right;\n",
       "    }\n",
       "</style>\n",
       "<table border=\"1\" class=\"dataframe\">\n",
       "  <thead>\n",
       "    <tr style=\"text-align: right;\">\n",
       "      <th></th>\n",
       "      <th>customer_id</th>\n",
       "      <th>gender</th>\n",
       "      <th>senior_citizen</th>\n",
       "      <th>partner</th>\n",
       "      <th>dependents</th>\n",
       "      <th>tenure</th>\n",
       "      <th>phone_service</th>\n",
       "      <th>multiple_lines</th>\n",
       "      <th>internet_service_type_id</th>\n",
       "      <th>online_security</th>\n",
       "      <th>...</th>\n",
       "      <th>streaming_movies</th>\n",
       "      <th>contract_type_id</th>\n",
       "      <th>paperless_billing</th>\n",
       "      <th>payment_type_id</th>\n",
       "      <th>monthly_charges</th>\n",
       "      <th>total_charges</th>\n",
       "      <th>churn</th>\n",
       "      <th>contract_type</th>\n",
       "      <th>payment_type</th>\n",
       "      <th>internet_service_type</th>\n",
       "    </tr>\n",
       "  </thead>\n",
       "  <tbody>\n",
       "    <tr>\n",
       "      <th>4604</th>\n",
       "      <td>5564-NEMQO</td>\n",
       "      <td>Female</td>\n",
       "      <td>1</td>\n",
       "      <td>No</td>\n",
       "      <td>No</td>\n",
       "      <td>1</td>\n",
       "      <td>Yes</td>\n",
       "      <td>No</td>\n",
       "      <td>2</td>\n",
       "      <td>No</td>\n",
       "      <td>...</td>\n",
       "      <td>No</td>\n",
       "      <td>1</td>\n",
       "      <td>Yes</td>\n",
       "      <td>3</td>\n",
       "      <td>75.30</td>\n",
       "      <td>75.30</td>\n",
       "      <td>1</td>\n",
       "      <td>Month-to-month</td>\n",
       "      <td>Bank transfer (automatic)</td>\n",
       "      <td>Fiber optic</td>\n",
       "    </tr>\n",
       "    <tr>\n",
       "      <th>5566</th>\n",
       "      <td>0825-CPPQH</td>\n",
       "      <td>Female</td>\n",
       "      <td>0</td>\n",
       "      <td>Yes</td>\n",
       "      <td>No</td>\n",
       "      <td>71</td>\n",
       "      <td>Yes</td>\n",
       "      <td>No</td>\n",
       "      <td>3</td>\n",
       "      <td>No internet service</td>\n",
       "      <td>...</td>\n",
       "      <td>No internet service</td>\n",
       "      <td>3</td>\n",
       "      <td>No</td>\n",
       "      <td>4</td>\n",
       "      <td>19.10</td>\n",
       "      <td>1372.45</td>\n",
       "      <td>0</td>\n",
       "      <td>Two year</td>\n",
       "      <td>Credit card (automatic)</td>\n",
       "      <td>None</td>\n",
       "    </tr>\n",
       "    <tr>\n",
       "      <th>6204</th>\n",
       "      <td>1561-BWHIN</td>\n",
       "      <td>Male</td>\n",
       "      <td>0</td>\n",
       "      <td>Yes</td>\n",
       "      <td>Yes</td>\n",
       "      <td>19</td>\n",
       "      <td>Yes</td>\n",
       "      <td>No</td>\n",
       "      <td>3</td>\n",
       "      <td>No internet service</td>\n",
       "      <td>...</td>\n",
       "      <td>No internet service</td>\n",
       "      <td>2</td>\n",
       "      <td>No</td>\n",
       "      <td>2</td>\n",
       "      <td>19.80</td>\n",
       "      <td>344.50</td>\n",
       "      <td>0</td>\n",
       "      <td>One year</td>\n",
       "      <td>Mailed check</td>\n",
       "      <td>None</td>\n",
       "    </tr>\n",
       "    <tr>\n",
       "      <th>5837</th>\n",
       "      <td>4979-HPRFL</td>\n",
       "      <td>Male</td>\n",
       "      <td>0</td>\n",
       "      <td>Yes</td>\n",
       "      <td>Yes</td>\n",
       "      <td>56</td>\n",
       "      <td>Yes</td>\n",
       "      <td>Yes</td>\n",
       "      <td>3</td>\n",
       "      <td>No internet service</td>\n",
       "      <td>...</td>\n",
       "      <td>No internet service</td>\n",
       "      <td>3</td>\n",
       "      <td>No</td>\n",
       "      <td>3</td>\n",
       "      <td>24.15</td>\n",
       "      <td>1402.25</td>\n",
       "      <td>0</td>\n",
       "      <td>Two year</td>\n",
       "      <td>Bank transfer (automatic)</td>\n",
       "      <td>None</td>\n",
       "    </tr>\n",
       "    <tr>\n",
       "      <th>1276</th>\n",
       "      <td>0749-IRGQE</td>\n",
       "      <td>Female</td>\n",
       "      <td>1</td>\n",
       "      <td>Yes</td>\n",
       "      <td>No</td>\n",
       "      <td>13</td>\n",
       "      <td>No</td>\n",
       "      <td>No phone service</td>\n",
       "      <td>1</td>\n",
       "      <td>No</td>\n",
       "      <td>...</td>\n",
       "      <td>Yes</td>\n",
       "      <td>1</td>\n",
       "      <td>No</td>\n",
       "      <td>1</td>\n",
       "      <td>45.30</td>\n",
       "      <td>528.45</td>\n",
       "      <td>0</td>\n",
       "      <td>Month-to-month</td>\n",
       "      <td>Electronic check</td>\n",
       "      <td>DSL</td>\n",
       "    </tr>\n",
       "  </tbody>\n",
       "</table>\n",
       "<p>5 rows × 24 columns</p>\n",
       "</div>"
      ],
      "text/plain": [
       "     customer_id  gender  senior_citizen partner dependents  tenure  \\\n",
       "4604  5564-NEMQO  Female               1      No         No       1   \n",
       "5566  0825-CPPQH  Female               0     Yes         No      71   \n",
       "6204  1561-BWHIN    Male               0     Yes        Yes      19   \n",
       "5837  4979-HPRFL    Male               0     Yes        Yes      56   \n",
       "1276  0749-IRGQE  Female               1     Yes         No      13   \n",
       "\n",
       "     phone_service    multiple_lines  internet_service_type_id  \\\n",
       "4604           Yes                No                         2   \n",
       "5566           Yes                No                         3   \n",
       "6204           Yes                No                         3   \n",
       "5837           Yes               Yes                         3   \n",
       "1276            No  No phone service                         1   \n",
       "\n",
       "          online_security  ...     streaming_movies contract_type_id  \\\n",
       "4604                   No  ...                   No                1   \n",
       "5566  No internet service  ...  No internet service                3   \n",
       "6204  No internet service  ...  No internet service                2   \n",
       "5837  No internet service  ...  No internet service                3   \n",
       "1276                   No  ...                  Yes                1   \n",
       "\n",
       "     paperless_billing payment_type_id monthly_charges  total_charges churn  \\\n",
       "4604               Yes               3           75.30          75.30     1   \n",
       "5566                No               4           19.10        1372.45     0   \n",
       "6204                No               2           19.80         344.50     0   \n",
       "5837                No               3           24.15        1402.25     0   \n",
       "1276                No               1           45.30         528.45     0   \n",
       "\n",
       "       contract_type               payment_type  internet_service_type  \n",
       "4604  Month-to-month  Bank transfer (automatic)            Fiber optic  \n",
       "5566        Two year    Credit card (automatic)                   None  \n",
       "6204        One year               Mailed check                   None  \n",
       "5837        Two year  Bank transfer (automatic)                   None  \n",
       "1276  Month-to-month           Electronic check                    DSL  \n",
       "\n",
       "[5 rows x 24 columns]"
      ]
     },
     "execution_count": 15,
     "metadata": {},
     "output_type": "execute_result"
    }
   ],
   "source": [
    "#take a look at the data\n",
    "train.head()"
   ]
  },
  {
   "cell_type": "code",
   "execution_count": 16,
   "metadata": {},
   "outputs": [
    {
     "name": "stdout",
     "output_type": "stream",
     "text": [
      "<class 'pandas.core.frame.DataFrame'>\n",
      "Int64Index: 3943 entries, 4604 to 6958\n",
      "Data columns (total 24 columns):\n",
      " #   Column                    Non-Null Count  Dtype  \n",
      "---  ------                    --------------  -----  \n",
      " 0   customer_id               3943 non-null   object \n",
      " 1   gender                    3943 non-null   object \n",
      " 2   senior_citizen            3943 non-null   int64  \n",
      " 3   partner                   3943 non-null   object \n",
      " 4   dependents                3943 non-null   object \n",
      " 5   tenure                    3943 non-null   int64  \n",
      " 6   phone_service             3943 non-null   object \n",
      " 7   multiple_lines            3943 non-null   object \n",
      " 8   internet_service_type_id  3943 non-null   int64  \n",
      " 9   online_security           3943 non-null   object \n",
      " 10  online_backup             3943 non-null   object \n",
      " 11  device_protection         3943 non-null   object \n",
      " 12  tech_support              3943 non-null   object \n",
      " 13  streaming_tv              3943 non-null   object \n",
      " 14  streaming_movies          3943 non-null   object \n",
      " 15  contract_type_id          3943 non-null   int64  \n",
      " 16  paperless_billing         3943 non-null   object \n",
      " 17  payment_type_id           3943 non-null   int64  \n",
      " 18  monthly_charges           3943 non-null   float64\n",
      " 19  total_charges             3943 non-null   float64\n",
      " 20  churn                     3943 non-null   int64  \n",
      " 21  contract_type             3943 non-null   object \n",
      " 22  payment_type              3943 non-null   object \n",
      " 23  internet_service_type     3943 non-null   object \n",
      "dtypes: float64(2), int64(6), object(16)\n",
      "memory usage: 770.1+ KB\n"
     ]
    }
   ],
   "source": [
    "#data has int and object data types\n",
    "#look at column names\n",
    "train.info()"
   ]
  },
  {
   "cell_type": "markdown",
   "metadata": {},
   "source": [
    "### data summary:\n",
    "- 16 object data types\n",
    "- 6 integer data types\n",
    "- 2 float data type"
   ]
  },
  {
   "cell_type": "code",
   "execution_count": null,
   "metadata": {},
   "outputs": [],
   "source": [
    "#descriptive statistics\n",
    "train.describe()"
   ]
  },
  {
   "cell_type": "code",
   "execution_count": null,
   "metadata": {},
   "outputs": [],
   "source": [
    "#we are trying to determine churn... look into that\n",
    "df.churn.value_counts()\n",
    "\n",
    "#this shows 26.54% of all customers churn (1869 out of 7043)"
   ]
  },
  {
   "cell_type": "code",
   "execution_count": null,
   "metadata": {},
   "outputs": [],
   "source": [
    "#we are trying to determine churn... look into that\n",
    "train.churn.value_counts()\n",
    "\n",
    "#this shows 26.88% of customers in the train data set churn (1060 out of 3943)"
   ]
  },
  {
   "cell_type": "code",
   "execution_count": null,
   "metadata": {},
   "outputs": [],
   "source": [
    "#find correlation- I think age correlates the most to churn\n",
    "telco_correlation = train.corr()\n",
    "telco_correlation\n",
    "#this shows that senior_citizen and monthly_charges have the highest pos corr with churn"
   ]
  },
  {
   "cell_type": "code",
   "execution_count": null,
   "metadata": {},
   "outputs": [],
   "source": [
    "#this gives the all the correlation with JUST churn\n",
    "telco_corr_churn = telco_correlation['churn'].sort_values(ascending=False)\n",
    "telco_corr_churn\n",
    "\n",
    "## again, senior_citizen is the second highest\n",
    "##THIS will indict my DRIVER of churn!!"
   ]
  },
  {
   "cell_type": "code",
   "execution_count": null,
   "metadata": {},
   "outputs": [],
   "source": [
    "#heatmap to show correlation of all data\n",
    "plt.figure(figsize=(16,9))\n",
    "\n",
    "sns.heatmap(train.corr(), cmap='YlGnBu', center=0, annot=True)\n",
    "\n",
    "plt.title('Correlation of Telco Data')\n",
    "\n",
    "plt.show()"
   ]
  },
  {
   "cell_type": "code",
   "execution_count": null,
   "metadata": {},
   "outputs": [],
   "source": [
    "#find out how many customers churn vs how many do not churn\n",
    "df.churn.value_counts()\n",
    "\n",
    "#this shows that (26.54%) of ALL customers DO churn (1869 out of 7043) "
   ]
  },
  {
   "cell_type": "code",
   "execution_count": null,
   "metadata": {},
   "outputs": [],
   "source": [
    "#find out how many customers churn vs how many do not churn\n",
    "train.churn.value_counts()\n",
    "\n",
    "#this shows that (26.88%) of customers in the train dataset DO churn (1060 out of 3943) "
   ]
  },
  {
   "cell_type": "code",
   "execution_count": null,
   "metadata": {},
   "outputs": [],
   "source": [
    "#visualize churn data using a countplot\n",
    "plt.figure(figsize=(10,6))\n",
    "sns.countplot(x='churn', data=train)\n",
    "plt.show()"
   ]
  },
  {
   "cell_type": "code",
   "execution_count": null,
   "metadata": {},
   "outputs": [],
   "source": [
    "#average monthly charges, max monthly charges, min monthly charges\n",
    "df.monthly_charges.mean(), df.monthly_charges.max(), df.monthly_charges.min()"
   ]
  },
  {
   "cell_type": "code",
   "execution_count": null,
   "metadata": {},
   "outputs": [],
   "source": [
    "#only using TRAIN data average monthly charges, max monthly charges, min monthly charges\n",
    "train.monthly_charges.mean(), train.monthly_charges.max(), train.monthly_charges.min()"
   ]
  },
  {
   "cell_type": "code",
   "execution_count": null,
   "metadata": {},
   "outputs": [],
   "source": [
    "#visualize monthly charge data\n",
    "plt.figure(figsize=(16,9))\n",
    "sns.countplot(x='monthly_charges', data=train)\n",
    "plt.show()"
   ]
  },
  {
   "cell_type": "code",
   "execution_count": null,
   "metadata": {},
   "outputs": [],
   "source": [
    "#find out how many are senior citizens and how many are not\n",
    "df.senior_citizen.value_counts()\n",
    "\n",
    "#this shows that 16.21% of all customers are seniors (1142 out of 7043)"
   ]
  },
  {
   "cell_type": "code",
   "execution_count": null,
   "metadata": {},
   "outputs": [],
   "source": [
    "#find out how many are senior citizens and how many are not\n",
    "train.senior_citizen.value_counts()\n",
    "\n",
    "#this shows that 16.21% of customers in the train dataset are seniors (639 out of 3943)"
   ]
  },
  {
   "cell_type": "code",
   "execution_count": null,
   "metadata": {},
   "outputs": [],
   "source": [
    "#visualize senior_citizen data using countplot\n",
    "plt.figure(figsize=(10,6))\n",
    "sns.countplot(x='senior_citizen', data=train)\n",
    "plt.show()"
   ]
  },
  {
   "cell_type": "code",
   "execution_count": null,
   "metadata": {},
   "outputs": [],
   "source": [
    "#this plot shows senior citizen (1) vs non-senior citizen (0)\n",
    "## who churn (1) vs do not churn (0)\n",
    "plt.figure(figsize=(10,6))\n",
    "sns.countplot(x='churn', hue='senior_citizen', data=train)\n",
    "plt.show()"
   ]
  },
  {
   "cell_type": "code",
   "execution_count": null,
   "metadata": {},
   "outputs": [],
   "source": [
    "#took at look at tenure out of curiosity\n",
    "#average tenure, max tenure, min tenure??\n",
    "df.tenure.mean(), df.tenure.max(), df.tenure.min()"
   ]
  },
  {
   "cell_type": "code",
   "execution_count": null,
   "metadata": {},
   "outputs": [],
   "source": [
    "#average tenure, max tenure, min tenure??\n",
    "train.tenure.mean(), train.tenure.max(), train.tenure.min()"
   ]
  },
  {
   "cell_type": "code",
   "execution_count": null,
   "metadata": {},
   "outputs": [],
   "source": [
    "#visualize tenure data\n",
    "plt.figure(figsize=(16,9))\n",
    "sns.countplot(x='tenure', data=train)\n",
    "plt.show()"
   ]
  },
  {
   "cell_type": "code",
   "execution_count": null,
   "metadata": {},
   "outputs": [],
   "source": [
    "#find the actual count for the top 5 tenures\n",
    "tenure_df = train['tenure'].value_counts().sort_values(ascending=False).head()\n",
    "tenure_df\n",
    "\n",
    "#this shows that 8.34% of all customers only have ONE month of tenure (329 out of 3943)"
   ]
  },
  {
   "cell_type": "code",
   "execution_count": null,
   "metadata": {},
   "outputs": [],
   "source": [
    "#find the actual count for the top 5 monthly_chages\n",
    "monthly_charges_df = train['monthly_charges'].value_counts().sort_values(ascending=False)\n",
    "monthly_charges_df"
   ]
  },
  {
   "cell_type": "markdown",
   "metadata": {},
   "source": [
    "## Takeaways of the Explore process:\n",
    "\n",
    "- 7043 total customers\n",
    "    - of those: \n",
    "        - 5901 are NOT senior_citizen (83.79%) while 1142 ARE senior_citizen (16.21%)\n",
    "        - 5174 do NOT churn (73.46%) while 1869 DO churn (26.54%)\n",
    "- Positive Correlation between churn is strongest between 'monthly_charges' and 'senior_citizen'\n",
    "    - 'senior_citizen' is what interests me most to further explore/test\n"
   ]
  },
  {
   "cell_type": "markdown",
   "metadata": {},
   "source": [
    "_______________"
   ]
  },
  {
   "cell_type": "markdown",
   "metadata": {},
   "source": [
    "### Now.. I will find the appropriate statistical test to use\n",
    "- we are using the two following variables: churn (discrete/categorical) and senior_citizen (discrete/categorical)\n",
    "- these are 2 discrete/categorical variables\n",
    "<br>\n",
    "\n",
    "- **Therefore, I will be using $\\chi^2$ testing**"
   ]
  },
  {
   "cell_type": "code",
   "execution_count": null,
   "metadata": {},
   "outputs": [],
   "source": [
    "#create confusion matrix\n",
    "observed = pd.crosstab(df.churn, df.senior_citizen)\n",
    "observed"
   ]
  },
  {
   "cell_type": "code",
   "execution_count": null,
   "metadata": {},
   "outputs": [],
   "source": [
    "#set alpha\n",
    "alpha = 0.05"
   ]
  },
  {
   "cell_type": "code",
   "execution_count": null,
   "metadata": {},
   "outputs": [],
   "source": [
    "#chi2 contingency returns 4 different values\n",
    "chi2, p, degf, expected = stats.chi2_contingency(observed)\n",
    "chi2, p, degf, expected"
   ]
  },
  {
   "cell_type": "code",
   "execution_count": null,
   "metadata": {},
   "outputs": [],
   "source": [
    "## make it easier to read\n",
    "print('Observed\\n')\n",
    "print(observed.values)\n",
    "print('---------------------\\nExpected\\n')\n",
    "print(expected.astype(int))\n",
    "print('---------------------\\n')\n",
    "print(f'chi^2 = {chi2:.4f}')\n",
    "print(f'p     = {p:.4f}')"
   ]
  },
  {
   "cell_type": "markdown",
   "metadata": {},
   "source": [
    "## Hypothosis:\n",
    "\n",
    "- **$H_{0}$**: there is no relationship between churn and customer age\n",
    "<br>\n",
    "\n",
    "- **$H_{a}$**: there is a relationshp between churn and customer age\n",
    "<br>\n"
   ]
  },
  {
   "cell_type": "markdown",
   "metadata": {},
   "source": [
    "- **True Positive**: I predict there is a relationship between churn and customer age and there is a relationship\n",
    "<br>\n",
    "\n",
    "- **True Negative**:I predict there is no relationship between churn and customer age and there is not relationship\n",
    "<br>\n",
    "\n",
    "- **False Positive**: I predict there is a relationship between churn and customer age and there is no relationship\n",
    "<br>\n",
    "\n",
    "- **False Negative**: I predict there is no relationship between churn and customer age and there is a relationship"
   ]
  },
  {
   "cell_type": "markdown",
   "metadata": {},
   "source": [
    "## Further takeaways of the Explore process:\n",
    "\n",
    "- $\\chi^2$  test was used because we were dealing with two discrete variable (churn and senior_citizen)\n"
   ]
  },
  {
   "cell_type": "code",
   "execution_count": null,
   "metadata": {},
   "outputs": [],
   "source": [
    "print(f'The p-value is less than the alpha: {p < alpha}')\n",
    "\n",
    "if p< alpha:\n",
    "    print('Conclusion: We reject the null hypothesis')\n",
    "else:\n",
    "    print('Conclusion: We fail to reject the null hypothesis')\n",
    "\n",
    "if p< alpha:\n",
    "    print('Takeaways: There is a relationship between customer age and churn')\n",
    "else:\n",
    "    print('Takeaways: There is no relationship between customer age and churn')"
   ]
  },
  {
   "cell_type": "markdown",
   "metadata": {},
   "source": [
    "<hr style=\"border:2px solid black\"> </hr>"
   ]
  },
  {
   "cell_type": "markdown",
   "metadata": {},
   "source": [
    "# Model and Evaluate"
   ]
  },
  {
   "cell_type": "markdown",
   "metadata": {},
   "source": [
    "Plan --- Acquire --- Prepare --- Explore --- **Model** --- Deliver"
   ]
  },
  {
   "cell_type": "code",
   "execution_count": null,
   "metadata": {},
   "outputs": [],
   "source": [
    "#we've already split the data in previous steps\n",
    "#train, test = train_test_split(df, test_size=.2, random_state=123)\n",
    "#train, validate = train_test_split(train, test_size=.3, random_state=123)"
   ]
  },
  {
   "cell_type": "code",
   "execution_count": null,
   "metadata": {},
   "outputs": [],
   "source": [
    "#get value count to determine what baseline will be equal to\n",
    "train.churn.value_counts()"
   ]
  },
  {
   "cell_type": "code",
   "execution_count": null,
   "metadata": {},
   "outputs": [],
   "source": [
    "#create baseline\n",
    "#because the majority (in value count) was '0', we will use this as our baseline\n",
    "train['baseline_pred'] = 0"
   ]
  },
  {
   "cell_type": "code",
   "execution_count": null,
   "metadata": {},
   "outputs": [],
   "source": [
    "##print statement for accuracy of baseline\n",
    "baseline_accuracy = (train.churn == train.baseline_pred).mean()\n",
    "print(f'The baseline accuracy is: {baseline_accuracy:.2%}')"
   ]
  },
  {
   "cell_type": "markdown",
   "metadata": {},
   "source": [
    "## MVP Models\n",
    "- I'm going to try Logistic Regression, DecisionTree, and RandomForest Models with\n",
    "    - 'senior_citizen'\n",
    "    - 'tenure'\n",
    "    - 'monthly_charges'\n",
    "- My goal is to beat my 73.12% baseline accuracy.\n",
    "- Hyperparameters I've adjusted are:\n",
    "    - setting the max_depth for the DecisionTree model to max_depth=5 to avoid overfitting\n",
    "    - setting the.max_depth for the Random Forest Model to max_depth=10 to avoid overfitting\n",
    "    - setting the random_state=123 for DecistionTree, RandomForest, and LogisticRegression models."
   ]
  },
  {
   "cell_type": "code",
   "execution_count": null,
   "metadata": {},
   "outputs": [],
   "source": [
    "#specify columns to use\n",
    "X_col= ['senior_citizen','tenure', 'monthly_charges']\n",
    "y_col= 'churn'"
   ]
  },
  {
   "cell_type": "code",
   "execution_count": null,
   "metadata": {},
   "outputs": [],
   "source": [
    "#specify train, validate, test\n",
    "X_train = train[X_col]\n",
    "y_train= train[y_col]\n",
    "\n",
    "X_validate = validate[X_col]\n",
    "y_validate= validate[y_col]\n",
    "\n",
    "X_test = test[X_col]\n",
    "y_test= test[y_col]"
   ]
  },
  {
   "cell_type": "code",
   "execution_count": null,
   "metadata": {},
   "outputs": [],
   "source": [
    "#get shape of sets\n",
    "train.shape, validate.shape, test.shape"
   ]
  },
  {
   "cell_type": "code",
   "execution_count": null,
   "metadata": {},
   "outputs": [],
   "source": [
    "#shape of train set\n",
    "X_train.shape, y_train.shape"
   ]
  },
  {
   "cell_type": "code",
   "execution_count": null,
   "metadata": {},
   "outputs": [],
   "source": [
    "#take a look at X_train data\n",
    "X_train.head()"
   ]
  },
  {
   "cell_type": "markdown",
   "metadata": {},
   "source": [
    "_______________________"
   ]
  },
  {
   "cell_type": "markdown",
   "metadata": {},
   "source": [
    "# Evaluate MVP Models"
   ]
  },
  {
   "cell_type": "markdown",
   "metadata": {},
   "source": [
    "## Logistic Regression Model "
   ]
  },
  {
   "cell_type": "code",
   "execution_count": null,
   "metadata": {},
   "outputs": [],
   "source": [
    "#import\n",
    "from sklearn.linear_model import LogisticRegression"
   ]
  },
  {
   "cell_type": "code",
   "execution_count": null,
   "metadata": {},
   "outputs": [],
   "source": [
    "#Define the logistic regression model\n",
    "logit_model = LogisticRegression(C=0.1, random_state= 123)"
   ]
  },
  {
   "cell_type": "code",
   "execution_count": null,
   "metadata": {},
   "outputs": [],
   "source": [
    "#fit the model with train data \n",
    "logit_model.fit(X_train, y_train)"
   ]
  },
  {
   "cell_type": "code",
   "execution_count": null,
   "metadata": {},
   "outputs": [],
   "source": [
    "#now use the model to make predictions\n",
    "y_pred = logit_model.predict(X_train)"
   ]
  },
  {
   "cell_type": "code",
   "execution_count": null,
   "metadata": {},
   "outputs": [],
   "source": [
    "#classifcation report\n",
    "pd.DataFrame(classification_report(y_train, y_pred, output_dict=True))"
   ]
  },
  {
   "cell_type": "code",
   "execution_count": null,
   "metadata": {},
   "outputs": [],
   "source": [
    "#import function created to give score, rates, confusion matrix, and classification report\n",
    "import model_func"
   ]
  },
  {
   "cell_type": "code",
   "execution_count": null,
   "metadata": {},
   "outputs": [],
   "source": [
    "model_func.model_performs(X_train, y_train, logit_model)"
   ]
  },
  {
   "cell_type": "code",
   "execution_count": null,
   "metadata": {},
   "outputs": [],
   "source": [
    "model_func.model_performs(X_validate, y_validate, logit_model)"
   ]
  },
  {
   "cell_type": "markdown",
   "metadata": {},
   "source": [
    "### Logistic Regression Model Takeaways: \n",
    "\n",
    "- Logistic Regression Model has an accuracy of 79.10% using the train set\n",
    "- Logistic Regression Model has an accuracy of 78.83% using the validate set\n",
    "- Both are **higher** than the baseline accuracy of 73.12% \n",
    "    "
   ]
  },
  {
   "cell_type": "markdown",
   "metadata": {},
   "source": [
    "___________"
   ]
  },
  {
   "cell_type": "markdown",
   "metadata": {},
   "source": [
    "## Random Forest Model"
   ]
  },
  {
   "cell_type": "code",
   "execution_count": null,
   "metadata": {},
   "outputs": [],
   "source": [
    "#import\n",
    "from sklearn.ensemble import RandomForestClassifier"
   ]
  },
  {
   "cell_type": "code",
   "execution_count": null,
   "metadata": {},
   "outputs": [],
   "source": [
    "#make our thing\n",
    "rf_model= RandomForestClassifier(min_samples_leaf = 1, max_depth = 10, random_state= 123)"
   ]
  },
  {
   "cell_type": "code",
   "execution_count": null,
   "metadata": {},
   "outputs": [],
   "source": [
    "#fit the thing (ONLY on train set!!)\n",
    "rf_model.fit(X_train, y_train)"
   ]
  },
  {
   "cell_type": "code",
   "execution_count": null,
   "metadata": {},
   "outputs": [],
   "source": [
    "#use the thing\n",
    "#train data set score, confusion matrix and classification report\n",
    "model_func.model_performs(X_train, y_train, rf_model)"
   ]
  },
  {
   "cell_type": "code",
   "execution_count": null,
   "metadata": {},
   "outputs": [],
   "source": [
    "#use the thing\n",
    "#validate data set score, confusion matrix and classification report\n",
    "model_func.model_performs(X_validate, y_validate, rf_model)"
   ]
  },
  {
   "cell_type": "markdown",
   "metadata": {},
   "source": [
    "### Random Forest Model Takeaways: \n",
    "\n",
    "- Random Forest Model has an accuracy of 87.29% using the train set\n",
    "- Random Forest Model has an accuracy of 78.12% using the validate set\n",
    "- Both are **higher** than the baseline accuracy of 73.12% \n",
    "- **but** there is *too much* difference between train and validate set (too overfit)\n"
   ]
  },
  {
   "cell_type": "markdown",
   "metadata": {},
   "source": [
    "___________________"
   ]
  },
  {
   "cell_type": "markdown",
   "metadata": {},
   "source": [
    "## Decision Tree Model"
   ]
  },
  {
   "cell_type": "code",
   "execution_count": null,
   "metadata": {},
   "outputs": [],
   "source": [
    "#create model\n",
    "dt_model = DecisionTreeClassifier(max_depth=5)"
   ]
  },
  {
   "cell_type": "code",
   "execution_count": null,
   "metadata": {},
   "outputs": [],
   "source": [
    "#fit model\n",
    "dt_model.fit(X_train, y_train)"
   ]
  },
  {
   "cell_type": "code",
   "execution_count": null,
   "metadata": {},
   "outputs": [],
   "source": [
    "#use the thing\n",
    "#train data set score, confusion matrix and classification report\n",
    "model_func.model_performs(X_train, y_train, dt_model)"
   ]
  },
  {
   "cell_type": "code",
   "execution_count": null,
   "metadata": {},
   "outputs": [],
   "source": [
    "#visualize train set\n",
    "plt.figure(figsize=(24,12))\n",
    "\n",
    "plot_tree(dt_model, feature_names=X_train.columns.tolist(), filled=True, rounded=True, class_names=['no churn', 'churn'])\n",
    "plt.show()"
   ]
  },
  {
   "cell_type": "code",
   "execution_count": null,
   "metadata": {},
   "outputs": [],
   "source": [
    "#use the thing\n",
    "#validate data set score, confusion matrix and classification report\n",
    "model_func.model_performs(X_validate, y_validate, dt_model)"
   ]
  },
  {
   "cell_type": "code",
   "execution_count": null,
   "metadata": {},
   "outputs": [],
   "source": [
    "#visualize validate set\n",
    "plt.figure(figsize=(24,12))\n",
    "\n",
    "plot_tree(dt_model, feature_names=X_validate.columns.tolist(), filled=True, rounded=True, class_names=['no churn', 'churn'])\n",
    "plt.show()"
   ]
  },
  {
   "cell_type": "markdown",
   "metadata": {},
   "source": [
    "### Decision Tree Model Takeaways: \n",
    "\n",
    "- Decision Tree Model has an accuracy of 79.36% using the train set using max_depth=5\n",
    "- Decision Tree Model has an accuracy of 78.95% using the validate set using max_depth=5\n",
    "- Both are **higher** than the baseline accuracy of 73.12% \n"
   ]
  },
  {
   "cell_type": "markdown",
   "metadata": {},
   "source": [
    "### Run Decision Tree Model on Test Dataset"
   ]
  },
  {
   "cell_type": "code",
   "execution_count": null,
   "metadata": {},
   "outputs": [],
   "source": [
    "#use the thing\n",
    "#train data set score, confusion matrix and classification report\n",
    "model_func.model_performs(X_test, y_test, dt_model)"
   ]
  },
  {
   "cell_type": "markdown",
   "metadata": {},
   "source": [
    "### Decision Tree Model with Test Dataset: \n",
    "\n",
    "- Decision Tree Model has an accuracy of 78.70% using the train set using max_depth=5\n",
    "- Both are **higher** than the baseline accuracy of 73.12% \n"
   ]
  },
  {
   "cell_type": "markdown",
   "metadata": {},
   "source": [
    "<hr style=\"border:2px solid black\"> </hr>"
   ]
  },
  {
   "cell_type": "markdown",
   "metadata": {},
   "source": [
    "## Create CSV for Predictions"
   ]
  },
  {
   "cell_type": "code",
   "execution_count": null,
   "metadata": {},
   "outputs": [],
   "source": [
    "import prepare"
   ]
  },
  {
   "cell_type": "code",
   "execution_count": null,
   "metadata": {},
   "outputs": [],
   "source": [
    "df_all_data = prepare.prep_telco_churn(acquire.get_telco_churn_data())"
   ]
  },
  {
   "cell_type": "code",
   "execution_count": null,
   "metadata": {},
   "outputs": [],
   "source": [
    "#create column that has prediction based on decision tree model\n",
    "df_all_data ['predictions'] = dt_model.predict(df_all_data[X_col])"
   ]
  },
  {
   "cell_type": "code",
   "execution_count": null,
   "metadata": {},
   "outputs": [],
   "source": [
    "#create dataframe that shows if that particular customer_id will churn of not\n",
    "df_predictions = df_all_data[['customer_id', 'predictions']]"
   ]
  },
  {
   "cell_type": "code",
   "execution_count": null,
   "metadata": {},
   "outputs": [],
   "source": [
    "#take a look at this prediction data\n",
    "df_predictions.head()"
   ]
  },
  {
   "cell_type": "code",
   "execution_count": null,
   "metadata": {},
   "outputs": [],
   "source": [
    "df_predictions.predictions.value_counts()\n",
    "# based on predictions, we have 1592 customers who have the potential to churn!!"
   ]
  },
  {
   "cell_type": "code",
   "execution_count": null,
   "metadata": {},
   "outputs": [],
   "source": [
    "#turn this new dataframe of customer_id and predictions into a CSV file\n",
    "df_predictions.to_csv('telco_churn_predictions.csv')"
   ]
  },
  {
   "cell_type": "markdown",
   "metadata": {},
   "source": [
    "<hr style=\"border:2px solid black\"> </hr>"
   ]
  },
  {
   "cell_type": "markdown",
   "metadata": {},
   "source": [
    "## Conclusion/Final Takeaway:\n",
    "- Overall, the decision tree model performed best\n",
    "\n",
    "    - there is acceptable accuracy on both the train set and the validate set\n",
    "    - the score is higher than the baseline\n",
    "    - there is not a large drop off of accuracy between the two sets (thus it is not overfit)\n",
    "\n",
    "<br>\n",
    "- Use the new dataframe of predictions to target those specific customers that have the most potential to churn"
   ]
  },
  {
   "cell_type": "markdown",
   "metadata": {},
   "source": [
    "<hr style=\"border:2px solid black\"> </hr>"
   ]
  },
  {
   "cell_type": "markdown",
   "metadata": {},
   "source": [
    "## Next Steps/If I had more time:\n",
    "- I would run more models and change the hyperparameters on several different versions\n",
    "- I would look into adding surveying to exiting customers to further understand their actual cause of churn\n",
    "- We can then target the true reason to reduce churn in future customers\n"
   ]
  },
  {
   "cell_type": "code",
   "execution_count": null,
   "metadata": {},
   "outputs": [],
   "source": []
  }
 ],
 "metadata": {
  "kernelspec": {
   "display_name": "Python 3",
   "language": "python",
   "name": "python3"
  },
  "language_info": {
   "codemirror_mode": {
    "name": "ipython",
    "version": 3
   },
   "file_extension": ".py",
   "mimetype": "text/x-python",
   "name": "python",
   "nbconvert_exporter": "python",
   "pygments_lexer": "ipython3",
   "version": "3.8.5"
  }
 },
 "nbformat": 4,
 "nbformat_minor": 4
}
